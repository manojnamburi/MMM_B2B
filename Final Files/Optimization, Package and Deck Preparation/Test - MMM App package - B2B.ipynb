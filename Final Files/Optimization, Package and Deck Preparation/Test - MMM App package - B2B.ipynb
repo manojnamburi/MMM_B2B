{
 "cells": [
  {
   "cell_type": "markdown",
   "metadata": {},
   "source": [
    "## Install the MMM package\n",
    "- Use install.packages to install the final app package and load it to namespace \n",
    "- The dependent packages are automatically loaded\n",
    "- The data objects are also loaded with the library function"
   ]
  },
  {
   "cell_type": "code",
   "execution_count": 1,
   "metadata": {},
   "outputs": [
    {
     "data": {
      "text/plain": [
       "R version 3.6.3 (2020-02-29)\n",
       "Platform: x86_64-pc-linux-gnu (64-bit)\n",
       "Running under: Debian GNU/Linux 10 (buster)\n",
       "\n",
       "Matrix products: default\n",
       "BLAS:   /usr/lib/x86_64-linux-gnu/openblas/libblas.so.3\n",
       "LAPACK: /usr/lib/x86_64-linux-gnu/libopenblasp-r0.3.5.so\n",
       "\n",
       "locale:\n",
       " [1] LC_CTYPE=C.UTF-8       LC_NUMERIC=C           LC_TIME=C.UTF-8       \n",
       " [4] LC_COLLATE=C.UTF-8     LC_MONETARY=C.UTF-8    LC_MESSAGES=C.UTF-8   \n",
       " [7] LC_PAPER=C.UTF-8       LC_NAME=C              LC_ADDRESS=C          \n",
       "[10] LC_TELEPHONE=C         LC_MEASUREMENT=C.UTF-8 LC_IDENTIFICATION=C   \n",
       "\n",
       "attached base packages:\n",
       "[1] stats     graphics  grDevices utils     datasets  methods   base     \n",
       "\n",
       "loaded via a namespace (and not attached):\n",
       " [1] fansi_0.4.1     digest_0.6.27   utf8_1.1.4      crayon_1.4.1   \n",
       " [5] IRdisplay_0.7.0 repr_1.1.0      lifecycle_1.0.0 jsonlite_1.7.2 \n",
       " [9] evaluate_0.14   pillar_1.6.1    rlang_0.4.11    uuid_0.1-4     \n",
       "[13] vctrs_0.3.8     ellipsis_0.3.2  IRkernel_1.1.1  tools_3.6.3    \n",
       "[17] compiler_3.6.3  base64enc_0.1-3 pbdZMQ_0.3-4    htmltools_0.5.0"
      ]
     },
     "metadata": {},
     "output_type": "display_data"
    }
   ],
   "source": [
    "sessionInfo()"
   ]
  },
  {
   "cell_type": "code",
   "execution_count": 1,
   "metadata": {
    "ExecuteTime": {
     "end_time": "2021-11-01T03:02:20.560948Z",
     "start_time": "2021-11-01T03:02:13.553Z"
    }
   },
   "outputs": [
    {
     "name": "stderr",
     "output_type": "stream",
     "text": [
      "Installing package into ‘/home/jupyter/.R/library’\n",
      "(as ‘lib’ is unspecified)\n",
      "\n"
     ]
    }
   ],
   "source": [
    "install.packages('Packages/B2BApp_2.0.0.tar.gz',repos = NULL)\n",
    "options(scipen = 10000)\n",
    "options(stringsAsFactors = F)\n",
    "set.seed(1234)"
   ]
  },
  {
   "cell_type": "code",
   "execution_count": 2,
   "metadata": {
    "ExecuteTime": {
     "end_time": "2021-09-02T14:27:05.785341Z",
     "start_time": "2021-09-02T14:27:05.168Z"
    }
   },
   "outputs": [
    {
     "name": "stderr",
     "output_type": "stream",
     "text": [
      "Loading required package: tidyverse\n",
      "\n",
      "── \u001b[1mAttaching packages\u001b[22m ─────────────────────────────────────── tidyverse 1.3.1 ──\n",
      "\n",
      "\u001b[32m✔\u001b[39m \u001b[34mggplot2\u001b[39m 3.3.5     \u001b[32m✔\u001b[39m \u001b[34mpurrr  \u001b[39m 0.3.4\n",
      "\u001b[32m✔\u001b[39m \u001b[34mtibble \u001b[39m 3.1.3     \u001b[32m✔\u001b[39m \u001b[34mdplyr  \u001b[39m 1.0.7\n",
      "\u001b[32m✔\u001b[39m \u001b[34mtidyr  \u001b[39m 1.1.3     \u001b[32m✔\u001b[39m \u001b[34mstringr\u001b[39m 1.4.0\n",
      "\u001b[32m✔\u001b[39m \u001b[34mreadr  \u001b[39m 1.4.0     \u001b[32m✔\u001b[39m \u001b[34mforcats\u001b[39m 0.5.1\n",
      "\n",
      "── \u001b[1mConflicts\u001b[22m ────────────────────────────────────────── tidyverse_conflicts() ──\n",
      "\u001b[31m✖\u001b[39m \u001b[34mdplyr\u001b[39m::\u001b[32mfilter()\u001b[39m masks \u001b[34mstats\u001b[39m::filter()\n",
      "\u001b[31m✖\u001b[39m \u001b[34mdplyr\u001b[39m::\u001b[32mlag()\u001b[39m    masks \u001b[34mstats\u001b[39m::lag()\n",
      "\n"
     ]
    }
   ],
   "source": [
    "#library(tidyverse)\n",
    "library(B2BApp)"
   ]
  },
  {
   "cell_type": "code",
   "execution_count": 3,
   "metadata": {
    "ExecuteTime": {
     "end_time": "2021-06-08T16:48:40.062113Z",
     "start_time": "2021-06-08T16:43:15.471Z"
    }
   },
   "outputs": [
    {
     "data": {
      "text/html": [
       "<style>\n",
       ".list-inline {list-style: none; margin:0; padding: 0}\n",
       ".list-inline>li {display: inline-block}\n",
       ".list-inline>li:not(:last-child)::after {content: \"\\00b7\"; padding: 0 .5ex}\n",
       "</style>\n",
       "<ol class=list-inline><li>5850</li><li>109</li></ol>\n"
      ],
      "text/latex": [
       "\\begin{enumerate*}\n",
       "\\item 5850\n",
       "\\item 109\n",
       "\\end{enumerate*}\n"
      ],
      "text/markdown": [
       "1. 5850\n",
       "2. 109\n",
       "\n",
       "\n"
      ],
      "text/plain": [
       "[1] 5850  109"
      ]
     },
     "metadata": {},
     "output_type": "display_data"
    }
   ],
   "source": [
    "dim(data_XyZ)"
   ]
  },
  {
   "cell_type": "markdown",
   "metadata": {},
   "source": [
    "## Set up sample test inputs for both JSON and CSV\n",
    "- Sample inputs to test the output from the run_mmm_app function \n",
    "- The csv output is used in the download data and the json is used for the UI\n",
    "- Use the inputs in the run_mmm_app function to get the outputs\n",
    "- The JSON output consists of two parts:\n",
    "    - `summary` - Which outputs the summary of the Footprint\n",
    "    - `spend` - Which outputs the DMA level spend by media\n",
    "- The CSV outputs just the spend metrics by DMA and footprints"
   ]
  },
  {
   "cell_type": "code",
   "execution_count": 5,
   "metadata": {
    "ExecuteTime": {
     "end_time": "2021-06-08T16:48:40.249613Z",
     "start_time": "2021-06-08T16:43:16.535Z"
    }
   },
   "outputs": [],
   "source": [
    "test_input_json = list('Input_OPT_budget' = 1650000,\n",
    "'Input_SDL_budget' = 900000,\n",
    "'input_period' = 'Q3',                      \n",
    "'Input_OPT_crosschannel_imp' = 67500000,\n",
    "'Input_SDL_crosschannel_imp' = 10000000,\n",
    "'flight_flag_radio_OPT' = T,\n",
    "'flight_flag_radio_SDL' = T,\n",
    "'flight_flag_DRTV_OPT' = T,\n",
    "'flight_flag_DRTV_SDL' = T,\n",
    "'output_type' = 'json' \n",
    ")"
   ]
  },
  {
   "cell_type": "code",
   "execution_count": 12,
   "metadata": {
    "ExecuteTime": {
     "end_time": "2021-06-08T16:48:40.264705Z",
     "start_time": "2021-06-08T16:43:17.576Z"
    }
   },
   "outputs": [],
   "source": [
    "test_input_csv = list('Input_OPT_budget' = 1650000,\n",
    "'Input_SDL_budget' = 900000,\n",
    "'input_period' = 'Q2',                      \n",
    "'Input_OPT_crosschannel_imp' = 67500000,\n",
    "'Input_SDL_crosschannel_imp' = 10000000,\n",
    "'flight_flag_radio_OPT' = T,\n",
    "'flight_flag_radio_SDL' = T,\n",
    "'flight_flag_DRTV_OPT' = T,\n",
    "'flight_flag_DRTV_SDL' = T,\n",
    "'output_type' = 'csv' \n",
    ")"
   ]
  },
  {
   "cell_type": "code",
   "execution_count": 7,
   "metadata": {
    "ExecuteTime": {
     "end_time": "2021-06-08T16:48:41.431156Z",
     "start_time": "2021-06-08T16:43:17.920Z"
    },
    "scrolled": true
   },
   "outputs": [
    {
     "name": "stderr",
     "output_type": "stream",
     "text": [
      "Adding missing grouping variables: `qy`\n",
      "\n"
     ]
    }
   ],
   "source": [
    "test_res_json <- run_b2b_app(test_input_json)"
   ]
  },
  {
   "cell_type": "code",
   "execution_count": 8,
   "metadata": {
    "ExecuteTime": {
     "end_time": "2021-06-08T16:48:41.534165Z",
     "start_time": "2021-06-08T16:43:18.153Z"
    },
    "scrolled": true
   },
   "outputs": [
    {
     "data": {
      "text/html": [
       "<dl>\n",
       "\t<dt>$summary</dt>\n",
       "\t\t<dd><table>\n",
       "<caption>A data.frame: 3 × 7</caption>\n",
       "<thead>\n",
       "\t<tr><th scope=col>name</th><th scope=col>Cross Channel Impressions</th><th scope=col>Gross Adds</th><th scope=col>id</th><th scope=col>__parent</th><th scope=col>__color</th><th scope=col>expanded</th></tr>\n",
       "\t<tr><th scope=col>&lt;chr&gt;</th><th scope=col>&lt;chr&gt;</th><th scope=col>&lt;chr&gt;</th><th scope=col>&lt;int&gt;</th><th scope=col>&lt;chr&gt;</th><th scope=col>&lt;chr&gt;</th><th scope=col>&lt;chr&gt;</th></tr>\n",
       "</thead>\n",
       "<tbody>\n",
       "\t<tr><td>USA </td><td>77,500,000</td><td>17,099</td><td>1</td><td>parent</td><td>#000000</td><td>true </td></tr>\n",
       "\t<tr><td>EAST</td><td>67,500,000</td><td>10,513</td><td>2</td><td>1     </td><td>#0084d6</td><td>false</td></tr>\n",
       "\t<tr><td>WEST</td><td>10,000,000</td><td> 6,586</td><td>3</td><td>1     </td><td>#ff7f32</td><td>false</td></tr>\n",
       "</tbody>\n",
       "</table>\n",
       "</dd>\n",
       "\t<dt>$spend</dt>\n",
       "\t\t<dd><table>\n",
       "<caption>A data.frame: 3 × 12</caption>\n",
       "<thead>\n",
       "\t<tr><th scope=col>name</th><th scope=col>Total Spend $(000)</th><th scope=col>DRTV</th><th scope=col>Digital</th><th scope=col>Paid Search</th><th scope=col>Direct Mail</th><th scope=col>Social</th><th scope=col>Radio</th><th scope=col>id</th><th scope=col>__parent</th><th scope=col>__color</th><th scope=col>expanded</th></tr>\n",
       "\t<tr><th scope=col>&lt;chr&gt;</th><th scope=col>&lt;chr&gt;</th><th scope=col>&lt;chr&gt;</th><th scope=col>&lt;chr&gt;</th><th scope=col>&lt;chr&gt;</th><th scope=col>&lt;chr&gt;</th><th scope=col>&lt;chr&gt;</th><th scope=col>&lt;chr&gt;</th><th scope=col>&lt;int&gt;</th><th scope=col>&lt;chr&gt;</th><th scope=col>&lt;chr&gt;</th><th scope=col>&lt;chr&gt;</th></tr>\n",
       "</thead>\n",
       "<tbody>\n",
       "\t<tr><td>USA </td><td>$2,550</td><td>$678</td><td>$587</td><td>$342</td><td>$326</td><td>$321</td><td>$297</td><td>1</td><td>parent</td><td>#000000</td><td>true </td></tr>\n",
       "\t<tr><td>EAST</td><td>$1,650</td><td>$384</td><td>$392</td><td>$241</td><td>$240</td><td>$193</td><td>$200</td><td>2</td><td>1     </td><td>#0084d6</td><td>false</td></tr>\n",
       "\t<tr><td>WEST</td><td>$900  </td><td>$294</td><td>$195</td><td>$100</td><td>$86 </td><td>$128</td><td>$97 </td><td>3</td><td>1     </td><td>#ff7f32</td><td>false</td></tr>\n",
       "</tbody>\n",
       "</table>\n",
       "</dd>\n",
       "</dl>\n"
      ],
      "text/latex": [
       "\\begin{description}\n",
       "\\item[\\$summary] A data.frame: 3 × 7\n",
       "\\begin{tabular}{lllllll}\n",
       " name & Cross Channel Impressions & Gross Adds & id & \\_\\_parent & \\_\\_color & expanded\\\\\n",
       " <chr> & <chr> & <chr> & <int> & <chr> & <chr> & <chr>\\\\\n",
       "\\hline\n",
       "\t USA  & 77,500,000 & 17,099 & 1 & parent & \\#000000 & true \\\\\n",
       "\t EAST & 67,500,000 & 10,513 & 2 & 1      & \\#0084d6 & false\\\\\n",
       "\t WEST & 10,000,000 &  6,586 & 3 & 1      & \\#ff7f32 & false\\\\\n",
       "\\end{tabular}\n",
       "\n",
       "\\item[\\$spend] A data.frame: 3 × 12\n",
       "\\begin{tabular}{llllllllllll}\n",
       " name & Total Spend \\$(000) & DRTV & Digital & Paid Search & Direct Mail & Social & Radio & id & \\_\\_parent & \\_\\_color & expanded\\\\\n",
       " <chr> & <chr> & <chr> & <chr> & <chr> & <chr> & <chr> & <chr> & <int> & <chr> & <chr> & <chr>\\\\\n",
       "\\hline\n",
       "\t USA  & \\$2,550 & \\$678 & \\$587 & \\$342 & \\$326 & \\$321 & \\$297 & 1 & parent & \\#000000 & true \\\\\n",
       "\t EAST & \\$1,650 & \\$384 & \\$392 & \\$241 & \\$240 & \\$193 & \\$200 & 2 & 1      & \\#0084d6 & false\\\\\n",
       "\t WEST & \\$900   & \\$294 & \\$195 & \\$100 & \\$86  & \\$128 & \\$97  & 3 & 1      & \\#ff7f32 & false\\\\\n",
       "\\end{tabular}\n",
       "\n",
       "\\end{description}\n"
      ],
      "text/markdown": [
       "$summary\n",
       ":   \n",
       "A data.frame: 3 × 7\n",
       "\n",
       "| name &lt;chr&gt; | Cross Channel Impressions &lt;chr&gt; | Gross Adds &lt;chr&gt; | id &lt;int&gt; | __parent &lt;chr&gt; | __color &lt;chr&gt; | expanded &lt;chr&gt; |\n",
       "|---|---|---|---|---|---|---|\n",
       "| USA  | 77,500,000 | 17,099 | 1 | parent | #000000 | true  |\n",
       "| EAST | 67,500,000 | 10,513 | 2 | 1      | #0084d6 | false |\n",
       "| WEST | 10,000,000 |  6,586 | 3 | 1      | #ff7f32 | false |\n",
       "\n",
       "\n",
       "$spend\n",
       ":   \n",
       "A data.frame: 3 × 12\n",
       "\n",
       "| name &lt;chr&gt; | Total Spend $(000) &lt;chr&gt; | DRTV &lt;chr&gt; | Digital &lt;chr&gt; | Paid Search &lt;chr&gt; | Direct Mail &lt;chr&gt; | Social &lt;chr&gt; | Radio &lt;chr&gt; | id &lt;int&gt; | __parent &lt;chr&gt; | __color &lt;chr&gt; | expanded &lt;chr&gt; |\n",
       "|---|---|---|---|---|---|---|---|---|---|---|---|\n",
       "| USA  | $2,550 | $678 | $587 | $342 | $326 | $321 | $297 | 1 | parent | #000000 | true  |\n",
       "| EAST | $1,650 | $384 | $392 | $241 | $240 | $193 | $200 | 2 | 1      | #0084d6 | false |\n",
       "| WEST | $900   | $294 | $195 | $100 | $86  | $128 | $97  | 3 | 1      | #ff7f32 | false |\n",
       "\n",
       "\n",
       "\n",
       "\n"
      ],
      "text/plain": [
       "$summary\n",
       "  name Cross Channel Impressions Gross Adds id __parent __color expanded\n",
       "1  USA                77,500,000     17,099  1   parent #000000     true\n",
       "2 EAST                67,500,000     10,513  2        1 #0084d6    false\n",
       "3 WEST                10,000,000      6,586  3        1 #ff7f32    false\n",
       "\n",
       "$spend\n",
       "  name Total Spend $(000) DRTV Digital Paid Search Direct Mail Social Radio id\n",
       "1  USA             $2,550 $678    $587        $342        $326   $321  $297  1\n",
       "2 EAST             $1,650 $384    $392        $241        $240   $193  $200  2\n",
       "3 WEST               $900 $294    $195        $100         $86   $128   $97  3\n",
       "  __parent __color expanded\n",
       "1   parent #000000     true\n",
       "2        1 #0084d6    false\n",
       "3        1 #ff7f32    false\n"
      ]
     },
     "metadata": {},
     "output_type": "display_data"
    }
   ],
   "source": [
    "test_res_json"
   ]
  },
  {
   "cell_type": "code",
   "execution_count": 9,
   "metadata": {
    "ExecuteTime": {
     "end_time": "2021-06-08T16:48:41.612869Z",
     "start_time": "2021-06-08T16:43:18.642Z"
    },
    "scrolled": true
   },
   "outputs": [
    {
     "data": {
      "text/html": [
       "<table>\n",
       "<caption>A data.frame: 3 × 7</caption>\n",
       "<thead>\n",
       "\t<tr><th scope=col>name</th><th scope=col>Cross Channel Impressions</th><th scope=col>Gross Adds</th><th scope=col>id</th><th scope=col>__parent</th><th scope=col>__color</th><th scope=col>expanded</th></tr>\n",
       "\t<tr><th scope=col>&lt;chr&gt;</th><th scope=col>&lt;chr&gt;</th><th scope=col>&lt;chr&gt;</th><th scope=col>&lt;int&gt;</th><th scope=col>&lt;chr&gt;</th><th scope=col>&lt;chr&gt;</th><th scope=col>&lt;chr&gt;</th></tr>\n",
       "</thead>\n",
       "<tbody>\n",
       "\t<tr><td>USA </td><td>77,500,000</td><td>17,099</td><td>1</td><td>parent</td><td>#000000</td><td>true </td></tr>\n",
       "\t<tr><td>EAST</td><td>67,500,000</td><td>10,513</td><td>2</td><td>1     </td><td>#0084d6</td><td>false</td></tr>\n",
       "\t<tr><td>WEST</td><td>10,000,000</td><td> 6,586</td><td>3</td><td>1     </td><td>#ff7f32</td><td>false</td></tr>\n",
       "</tbody>\n",
       "</table>\n"
      ],
      "text/latex": [
       "A data.frame: 3 × 7\n",
       "\\begin{tabular}{lllllll}\n",
       " name & Cross Channel Impressions & Gross Adds & id & \\_\\_parent & \\_\\_color & expanded\\\\\n",
       " <chr> & <chr> & <chr> & <int> & <chr> & <chr> & <chr>\\\\\n",
       "\\hline\n",
       "\t USA  & 77,500,000 & 17,099 & 1 & parent & \\#000000 & true \\\\\n",
       "\t EAST & 67,500,000 & 10,513 & 2 & 1      & \\#0084d6 & false\\\\\n",
       "\t WEST & 10,000,000 &  6,586 & 3 & 1      & \\#ff7f32 & false\\\\\n",
       "\\end{tabular}\n"
      ],
      "text/markdown": [
       "\n",
       "A data.frame: 3 × 7\n",
       "\n",
       "| name &lt;chr&gt; | Cross Channel Impressions &lt;chr&gt; | Gross Adds &lt;chr&gt; | id &lt;int&gt; | __parent &lt;chr&gt; | __color &lt;chr&gt; | expanded &lt;chr&gt; |\n",
       "|---|---|---|---|---|---|---|\n",
       "| USA  | 77,500,000 | 17,099 | 1 | parent | #000000 | true  |\n",
       "| EAST | 67,500,000 | 10,513 | 2 | 1      | #0084d6 | false |\n",
       "| WEST | 10,000,000 |  6,586 | 3 | 1      | #ff7f32 | false |\n",
       "\n"
      ],
      "text/plain": [
       "  name Cross Channel Impressions Gross Adds id __parent __color expanded\n",
       "1 USA  77,500,000                17,099     1  parent   #000000 true    \n",
       "2 EAST 67,500,000                10,513     2  1        #0084d6 false   \n",
       "3 WEST 10,000,000                 6,586     3  1        #ff7f32 false   "
      ]
     },
     "metadata": {},
     "output_type": "display_data"
    }
   ],
   "source": [
    "test_res_json$summary"
   ]
  },
  {
   "cell_type": "code",
   "execution_count": 14,
   "metadata": {
    "ExecuteTime": {
     "end_time": "2021-06-08T16:48:44.150254Z",
     "start_time": "2021-06-08T16:43:20.200Z"
    }
   },
   "outputs": [
    {
     "name": "stderr",
     "output_type": "stream",
     "text": [
      "Adding missing grouping variables: `qy`\n",
      "\n"
     ]
    }
   ],
   "source": [
    "test_res_csv <- run_b2b_app(test_input_csv)"
   ]
  },
  {
   "cell_type": "code",
   "execution_count": 15,
   "metadata": {
    "ExecuteTime": {
     "end_time": "2021-06-08T16:48:44.256742Z",
     "start_time": "2021-06-08T16:43:20.725Z"
    },
    "scrolled": true
   },
   "outputs": [
    {
     "data": {
      "text/html": [
       "<table>\n",
       "<caption>A data.frame: 3 × 10</caption>\n",
       "<thead>\n",
       "\t<tr><th scope=col>Footprint</th><th scope=col>Total Spend $(000) [Q2]</th><th scope=col>DRTV</th><th scope=col>Digital</th><th scope=col>Paid Search</th><th scope=col>Direct Mail</th><th scope=col>Social</th><th scope=col>Radio</th><th scope=col>Gross Adds</th><th scope=col>Cross Channel Impressions</th></tr>\n",
       "\t<tr><th scope=col>&lt;chr&gt;</th><th scope=col>&lt;chr&gt;</th><th scope=col>&lt;chr&gt;</th><th scope=col>&lt;chr&gt;</th><th scope=col>&lt;chr&gt;</th><th scope=col>&lt;chr&gt;</th><th scope=col>&lt;chr&gt;</th><th scope=col>&lt;chr&gt;</th><th scope=col>&lt;chr&gt;</th><th scope=col>&lt;chr&gt;</th></tr>\n",
       "</thead>\n",
       "<tbody>\n",
       "\t<tr><td>USA </td><td>$2,550</td><td>$678</td><td>$587</td><td>$342</td><td>$326</td><td>$321</td><td>$297</td><td>18,115</td><td>77,500,000</td></tr>\n",
       "\t<tr><td>EAST</td><td>$1,650</td><td>$384</td><td>$392</td><td>$241</td><td>$240</td><td>$193</td><td>$200</td><td>11,350</td><td>67,500,000</td></tr>\n",
       "\t<tr><td>WEST</td><td>$900  </td><td>$294</td><td>$195</td><td>$100</td><td>$86 </td><td>$128</td><td>$97 </td><td> 6,766</td><td>10,000,000</td></tr>\n",
       "</tbody>\n",
       "</table>\n"
      ],
      "text/latex": [
       "A data.frame: 3 × 10\n",
       "\\begin{tabular}{llllllllll}\n",
       " Footprint & Total Spend \\$(000) {[}Q2{]} & DRTV & Digital & Paid Search & Direct Mail & Social & Radio & Gross Adds & Cross Channel Impressions\\\\\n",
       " <chr> & <chr> & <chr> & <chr> & <chr> & <chr> & <chr> & <chr> & <chr> & <chr>\\\\\n",
       "\\hline\n",
       "\t USA  & \\$2,550 & \\$678 & \\$587 & \\$342 & \\$326 & \\$321 & \\$297 & 18,115 & 77,500,000\\\\\n",
       "\t EAST & \\$1,650 & \\$384 & \\$392 & \\$241 & \\$240 & \\$193 & \\$200 & 11,350 & 67,500,000\\\\\n",
       "\t WEST & \\$900   & \\$294 & \\$195 & \\$100 & \\$86  & \\$128 & \\$97  &  6,766 & 10,000,000\\\\\n",
       "\\end{tabular}\n"
      ],
      "text/markdown": [
       "\n",
       "A data.frame: 3 × 10\n",
       "\n",
       "| Footprint &lt;chr&gt; | Total Spend $(000) [Q2] &lt;chr&gt; | DRTV &lt;chr&gt; | Digital &lt;chr&gt; | Paid Search &lt;chr&gt; | Direct Mail &lt;chr&gt; | Social &lt;chr&gt; | Radio &lt;chr&gt; | Gross Adds &lt;chr&gt; | Cross Channel Impressions &lt;chr&gt; |\n",
       "|---|---|---|---|---|---|---|---|---|---|\n",
       "| USA  | $2,550 | $678 | $587 | $342 | $326 | $321 | $297 | 18,115 | 77,500,000 |\n",
       "| EAST | $1,650 | $384 | $392 | $241 | $240 | $193 | $200 | 11,350 | 67,500,000 |\n",
       "| WEST | $900   | $294 | $195 | $100 | $86  | $128 | $97  |  6,766 | 10,000,000 |\n",
       "\n"
      ],
      "text/plain": [
       "  Footprint Total Spend $(000) [Q2] DRTV Digital Paid Search Direct Mail Social\n",
       "1 USA       $2,550                  $678 $587    $342        $326        $321  \n",
       "2 EAST      $1,650                  $384 $392    $241        $240        $193  \n",
       "3 WEST      $900                    $294 $195    $100        $86         $128  \n",
       "  Radio Gross Adds Cross Channel Impressions\n",
       "1 $297  18,115     77,500,000               \n",
       "2 $200  11,350     67,500,000               \n",
       "3 $97    6,766     10,000,000               "
      ]
     },
     "metadata": {},
     "output_type": "display_data"
    }
   ],
   "source": [
    "test_res_csv"
   ]
  },
  {
   "cell_type": "markdown",
   "metadata": {},
   "source": [
    "### Test Case generation"
   ]
  },
  {
   "cell_type": "code",
   "execution_count": 48,
   "metadata": {},
   "outputs": [
    {
     "data": {
      "text/html": [
       "<table>\n",
       "<caption>A data.frame: 10 × 6</caption>\n",
       "<thead>\n",
       "\t<tr><th scope=col>Case</th><th scope=col>Brand</th><th scope=col>Minimum</th><th scope=col>Maximum</th><th scope=col>Increment</th><th scope=col>Number.of.Increments</th></tr>\n",
       "\t<tr><th scope=col>&lt;chr&gt;</th><th scope=col>&lt;chr&gt;</th><th scope=col>&lt;int&gt;</th><th scope=col>&lt;int&gt;</th><th scope=col>&lt;int&gt;</th><th scope=col>&lt;int&gt;</th></tr>\n",
       "</thead>\n",
       "<tbody>\n",
       "\t<tr><td>Both On      </td><td>Optimum   </td><td> 1590000</td><td>  2820000</td><td> 30000</td><td>41</td></tr>\n",
       "\t<tr><td>DRTV Off     </td><td>Optimum   </td><td> 1200000</td><td>  2130000</td><td> 30000</td><td>31</td></tr>\n",
       "\t<tr><td>Both Off     </td><td>Optimum   </td><td>  990000</td><td>  1740000</td><td> 30000</td><td>25</td></tr>\n",
       "\t<tr><td>Radio Off    </td><td>Optimum   </td><td> 1380000</td><td>  2460000</td><td> 30000</td><td>36</td></tr>\n",
       "\t<tr><td>Cross Channel</td><td>Optimum   </td><td>69000000</td><td>127500000</td><td>750000</td><td>78</td></tr>\n",
       "\t<tr><td>Both On      </td><td>Suddenlink</td><td>  900000</td><td>  1590000</td><td> 30000</td><td>23</td></tr>\n",
       "\t<tr><td>DRTV Off     </td><td>Suddenlink</td><td>  620000</td><td>  1060000</td><td> 20000</td><td>22</td></tr>\n",
       "\t<tr><td>Both Off     </td><td>Suddenlink</td><td>  520000</td><td>   900000</td><td> 20000</td><td>19</td></tr>\n",
       "\t<tr><td>Radio Off    </td><td>Suddenlink</td><td>  810000</td><td>  1410000</td><td> 30000</td><td>20</td></tr>\n",
       "\t<tr><td>Cross Channel</td><td>Suddenlink</td><td>10950000</td><td> 20100000</td><td>150000</td><td>61</td></tr>\n",
       "</tbody>\n",
       "</table>\n"
      ],
      "text/latex": [
       "A data.frame: 10 × 6\n",
       "\\begin{tabular}{llllll}\n",
       " Case & Brand & Minimum & Maximum & Increment & Number.of.Increments\\\\\n",
       " <chr> & <chr> & <int> & <int> & <int> & <int>\\\\\n",
       "\\hline\n",
       "\t Both On       & Optimum    &  1590000 &   2820000 &  30000 & 41\\\\\n",
       "\t DRTV Off      & Optimum    &  1200000 &   2130000 &  30000 & 31\\\\\n",
       "\t Both Off      & Optimum    &   990000 &   1740000 &  30000 & 25\\\\\n",
       "\t Radio Off     & Optimum    &  1380000 &   2460000 &  30000 & 36\\\\\n",
       "\t Cross Channel & Optimum    & 69000000 & 127500000 & 750000 & 78\\\\\n",
       "\t Both On       & Suddenlink &   900000 &   1590000 &  30000 & 23\\\\\n",
       "\t DRTV Off      & Suddenlink &   620000 &   1060000 &  20000 & 22\\\\\n",
       "\t Both Off      & Suddenlink &   520000 &    900000 &  20000 & 19\\\\\n",
       "\t Radio Off     & Suddenlink &   810000 &   1410000 &  30000 & 20\\\\\n",
       "\t Cross Channel & Suddenlink & 10950000 &  20100000 & 150000 & 61\\\\\n",
       "\\end{tabular}\n"
      ],
      "text/markdown": [
       "\n",
       "A data.frame: 10 × 6\n",
       "\n",
       "| Case &lt;chr&gt; | Brand &lt;chr&gt; | Minimum &lt;int&gt; | Maximum &lt;int&gt; | Increment &lt;int&gt; | Number.of.Increments &lt;int&gt; |\n",
       "|---|---|---|---|---|---|\n",
       "| Both On       | Optimum    |  1590000 |   2820000 |  30000 | 41 |\n",
       "| DRTV Off      | Optimum    |  1200000 |   2130000 |  30000 | 31 |\n",
       "| Both Off      | Optimum    |   990000 |   1740000 |  30000 | 25 |\n",
       "| Radio Off     | Optimum    |  1380000 |   2460000 |  30000 | 36 |\n",
       "| Cross Channel | Optimum    | 69000000 | 127500000 | 750000 | 78 |\n",
       "| Both On       | Suddenlink |   900000 |   1590000 |  30000 | 23 |\n",
       "| DRTV Off      | Suddenlink |   620000 |   1060000 |  20000 | 22 |\n",
       "| Both Off      | Suddenlink |   520000 |    900000 |  20000 | 19 |\n",
       "| Radio Off     | Suddenlink |   810000 |   1410000 |  30000 | 20 |\n",
       "| Cross Channel | Suddenlink | 10950000 |  20100000 | 150000 | 61 |\n",
       "\n"
      ],
      "text/plain": [
       "   Case          Brand      Minimum  Maximum   Increment Number.of.Increments\n",
       "1  Both On       Optimum     1590000   2820000  30000    41                  \n",
       "2  DRTV Off      Optimum     1200000   2130000  30000    31                  \n",
       "3  Both Off      Optimum      990000   1740000  30000    25                  \n",
       "4  Radio Off     Optimum     1380000   2460000  30000    36                  \n",
       "5  Cross Channel Optimum    69000000 127500000 750000    78                  \n",
       "6  Both On       Suddenlink   900000   1590000  30000    23                  \n",
       "7  DRTV Off      Suddenlink   620000   1060000  20000    22                  \n",
       "8  Both Off      Suddenlink   520000    900000  20000    19                  \n",
       "9  Radio Off     Suddenlink   810000   1410000  30000    20                  \n",
       "10 Cross Channel Suddenlink 10950000  20100000 150000    61                  "
      ]
     },
     "metadata": {},
     "output_type": "display_data"
    }
   ],
   "source": [
    "all_sliders_df <- read.csv('Packages/All_Sliders_Details.csv')\n",
    "all_sliders_df"
   ]
  },
  {
   "cell_type": "code",
   "execution_count": 107,
   "metadata": {},
   "outputs": [
    {
     "data": {
      "text/html": [
       "<style>\n",
       ".dl-inline {width: auto; margin:0; padding: 0}\n",
       ".dl-inline>dt, .dl-inline>dd {float: none; width: auto; display: inline-block}\n",
       ".dl-inline>dt::after {content: \":\\0020\"; padding-right: .5ex}\n",
       ".dl-inline>dt:not(:first-of-type) {padding-left: .5ex}\n",
       "</style><dl class=dl-inline><dt>Minimum</dt><dd>69000000</dd><dt>Maximum</dt><dd>127500000</dd></dl>\n"
      ],
      "text/latex": [
       "\\begin{description*}\n",
       "\\item[Minimum] 69000000\n",
       "\\item[Maximum] 127500000\n",
       "\\end{description*}\n"
      ],
      "text/markdown": [
       "Minimum\n",
       ":   69000000Maximum\n",
       ":   127500000\n",
       "\n"
      ],
      "text/plain": [
       "  Minimum   Maximum \n",
       " 69000000 127500000 "
      ]
     },
     "metadata": {},
     "output_type": "display_data"
    }
   ],
   "source": [
    "opt_cs_imp_vec <- all_sliders_df %>%\n",
    "              filter(Brand == 'Optimum' & Case == 'Cross Channel') %>%\n",
    "              select(Minimum,Maximum) %>%\n",
    "              unlist()\n",
    "\n",
    "opt_cs_imp_vec"
   ]
  },
  {
   "cell_type": "code",
   "execution_count": 108,
   "metadata": {},
   "outputs": [
    {
     "data": {
      "text/html": [
       "<style>\n",
       ".dl-inline {width: auto; margin:0; padding: 0}\n",
       ".dl-inline>dt, .dl-inline>dd {float: none; width: auto; display: inline-block}\n",
       ".dl-inline>dt::after {content: \":\\0020\"; padding-right: .5ex}\n",
       ".dl-inline>dt:not(:first-of-type) {padding-left: .5ex}\n",
       "</style><dl class=dl-inline><dt>Minimum</dt><dd>990000</dd><dt>Maximum</dt><dd>1740000</dd></dl>\n"
      ],
      "text/latex": [
       "\\begin{description*}\n",
       "\\item[Minimum] 990000\n",
       "\\item[Maximum] 1740000\n",
       "\\end{description*}\n"
      ],
      "text/markdown": [
       "Minimum\n",
       ":   990000Maximum\n",
       ":   1740000\n",
       "\n"
      ],
      "text/plain": [
       "Minimum Maximum \n",
       " 990000 1740000 "
      ]
     },
     "metadata": {},
     "output_type": "display_data"
    }
   ],
   "source": [
    "opt_both_off_budget_vec = all_sliders_df %>%\n",
    "              filter(Brand == 'Optimum' & Case == 'Both Off') %>%\n",
    "              select(Minimum,Maximum) %>%\n",
    "              unlist()\n",
    "opt_both_off_budget_vec"
   ]
  },
  {
   "cell_type": "code",
   "execution_count": 109,
   "metadata": {},
   "outputs": [
    {
     "data": {
      "text/html": [
       "<style>\n",
       ".dl-inline {width: auto; margin:0; padding: 0}\n",
       ".dl-inline>dt, .dl-inline>dd {float: none; width: auto; display: inline-block}\n",
       ".dl-inline>dt::after {content: \":\\0020\"; padding-right: .5ex}\n",
       ".dl-inline>dt:not(:first-of-type) {padding-left: .5ex}\n",
       "</style><dl class=dl-inline><dt>Minimum</dt><dd>1590000</dd><dt>Maximum</dt><dd>2820000</dd></dl>\n"
      ],
      "text/latex": [
       "\\begin{description*}\n",
       "\\item[Minimum] 1590000\n",
       "\\item[Maximum] 2820000\n",
       "\\end{description*}\n"
      ],
      "text/markdown": [
       "Minimum\n",
       ":   1590000Maximum\n",
       ":   2820000\n",
       "\n"
      ],
      "text/plain": [
       "Minimum Maximum \n",
       "1590000 2820000 "
      ]
     },
     "metadata": {},
     "output_type": "display_data"
    }
   ],
   "source": [
    "opt_both_on_budget_vec = all_sliders_df %>%\n",
    "              filter(Brand == 'Optimum' & Case == 'Both On') %>%\n",
    "              select(Minimum,Maximum) %>%\n",
    "              unlist()\n",
    "opt_both_on_budget_vec"
   ]
  },
  {
   "cell_type": "code",
   "execution_count": 110,
   "metadata": {},
   "outputs": [
    {
     "data": {
      "text/html": [
       "<style>\n",
       ".dl-inline {width: auto; margin:0; padding: 0}\n",
       ".dl-inline>dt, .dl-inline>dd {float: none; width: auto; display: inline-block}\n",
       ".dl-inline>dt::after {content: \":\\0020\"; padding-right: .5ex}\n",
       ".dl-inline>dt:not(:first-of-type) {padding-left: .5ex}\n",
       "</style><dl class=dl-inline><dt>Minimum</dt><dd>1200000</dd><dt>Maximum</dt><dd>2130000</dd></dl>\n"
      ],
      "text/latex": [
       "\\begin{description*}\n",
       "\\item[Minimum] 1200000\n",
       "\\item[Maximum] 2130000\n",
       "\\end{description*}\n"
      ],
      "text/markdown": [
       "Minimum\n",
       ":   1200000Maximum\n",
       ":   2130000\n",
       "\n"
      ],
      "text/plain": [
       "Minimum Maximum \n",
       "1200000 2130000 "
      ]
     },
     "metadata": {},
     "output_type": "display_data"
    }
   ],
   "source": [
    "opt_drtv_off_budget_vec = all_sliders_df %>%\n",
    "              filter(Brand == 'Optimum' & Case == 'DRTV Off') %>%\n",
    "              select(Minimum,Maximum) %>%\n",
    "              unlist()\n",
    "opt_drtv_off_budget_vec"
   ]
  },
  {
   "cell_type": "code",
   "execution_count": 111,
   "metadata": {},
   "outputs": [
    {
     "data": {
      "text/html": [
       "<style>\n",
       ".dl-inline {width: auto; margin:0; padding: 0}\n",
       ".dl-inline>dt, .dl-inline>dd {float: none; width: auto; display: inline-block}\n",
       ".dl-inline>dt::after {content: \":\\0020\"; padding-right: .5ex}\n",
       ".dl-inline>dt:not(:first-of-type) {padding-left: .5ex}\n",
       "</style><dl class=dl-inline><dt>Minimum</dt><dd>1380000</dd><dt>Maximum</dt><dd>2460000</dd></dl>\n"
      ],
      "text/latex": [
       "\\begin{description*}\n",
       "\\item[Minimum] 1380000\n",
       "\\item[Maximum] 2460000\n",
       "\\end{description*}\n"
      ],
      "text/markdown": [
       "Minimum\n",
       ":   1380000Maximum\n",
       ":   2460000\n",
       "\n"
      ],
      "text/plain": [
       "Minimum Maximum \n",
       "1380000 2460000 "
      ]
     },
     "metadata": {},
     "output_type": "display_data"
    }
   ],
   "source": [
    "opt_radio_off_budget_vec = all_sliders_df %>%\n",
    "              filter(Brand == 'Optimum' & Case == 'Radio Off') %>%\n",
    "              select(Minimum,Maximum) %>%\n",
    "              unlist()\n",
    "opt_radio_off_budget_vec"
   ]
  },
  {
   "cell_type": "code",
   "execution_count": 112,
   "metadata": {},
   "outputs": [
    {
     "data": {
      "text/html": [
       "<style>\n",
       ".dl-inline {width: auto; margin:0; padding: 0}\n",
       ".dl-inline>dt, .dl-inline>dd {float: none; width: auto; display: inline-block}\n",
       ".dl-inline>dt::after {content: \":\\0020\"; padding-right: .5ex}\n",
       ".dl-inline>dt:not(:first-of-type) {padding-left: .5ex}\n",
       "</style><dl class=dl-inline><dt>Minimum</dt><dd>10950000</dd><dt>Maximum</dt><dd>20100000</dd></dl>\n"
      ],
      "text/latex": [
       "\\begin{description*}\n",
       "\\item[Minimum] 10950000\n",
       "\\item[Maximum] 20100000\n",
       "\\end{description*}\n"
      ],
      "text/markdown": [
       "Minimum\n",
       ":   10950000Maximum\n",
       ":   20100000\n",
       "\n"
      ],
      "text/plain": [
       " Minimum  Maximum \n",
       "10950000 20100000 "
      ]
     },
     "metadata": {},
     "output_type": "display_data"
    }
   ],
   "source": [
    "sdl_cs_imp_vec <- all_sliders_df %>%\n",
    "              filter(Brand == 'Suddenlink' & Case == 'Cross Channel') %>%\n",
    "              select(Minimum,Maximum) %>%\n",
    "              unlist()\n",
    "\n",
    "sdl_cs_imp_vec"
   ]
  },
  {
   "cell_type": "code",
   "execution_count": 113,
   "metadata": {},
   "outputs": [
    {
     "data": {
      "text/html": [
       "<style>\n",
       ".dl-inline {width: auto; margin:0; padding: 0}\n",
       ".dl-inline>dt, .dl-inline>dd {float: none; width: auto; display: inline-block}\n",
       ".dl-inline>dt::after {content: \":\\0020\"; padding-right: .5ex}\n",
       ".dl-inline>dt:not(:first-of-type) {padding-left: .5ex}\n",
       "</style><dl class=dl-inline><dt>Minimum</dt><dd>900000</dd><dt>Maximum</dt><dd>1590000</dd></dl>\n"
      ],
      "text/latex": [
       "\\begin{description*}\n",
       "\\item[Minimum] 900000\n",
       "\\item[Maximum] 1590000\n",
       "\\end{description*}\n"
      ],
      "text/markdown": [
       "Minimum\n",
       ":   900000Maximum\n",
       ":   1590000\n",
       "\n"
      ],
      "text/plain": [
       "Minimum Maximum \n",
       " 900000 1590000 "
      ]
     },
     "metadata": {},
     "output_type": "display_data"
    }
   ],
   "source": [
    "sdl_both_on_budget_vec = all_sliders_df %>%\n",
    "              filter(Brand == 'Suddenlink' & Case == 'Both On') %>%\n",
    "              select(Minimum,Maximum) %>%\n",
    "              unlist()\n",
    "sdl_both_on_budget_vec"
   ]
  },
  {
   "cell_type": "code",
   "execution_count": 114,
   "metadata": {},
   "outputs": [
    {
     "data": {
      "text/html": [
       "<style>\n",
       ".dl-inline {width: auto; margin:0; padding: 0}\n",
       ".dl-inline>dt, .dl-inline>dd {float: none; width: auto; display: inline-block}\n",
       ".dl-inline>dt::after {content: \":\\0020\"; padding-right: .5ex}\n",
       ".dl-inline>dt:not(:first-of-type) {padding-left: .5ex}\n",
       "</style><dl class=dl-inline><dt>Minimum</dt><dd>520000</dd><dt>Maximum</dt><dd>900000</dd></dl>\n"
      ],
      "text/latex": [
       "\\begin{description*}\n",
       "\\item[Minimum] 520000\n",
       "\\item[Maximum] 900000\n",
       "\\end{description*}\n"
      ],
      "text/markdown": [
       "Minimum\n",
       ":   520000Maximum\n",
       ":   900000\n",
       "\n"
      ],
      "text/plain": [
       "Minimum Maximum \n",
       " 520000  900000 "
      ]
     },
     "metadata": {},
     "output_type": "display_data"
    }
   ],
   "source": [
    "sdl_both_off_budget_vec = all_sliders_df %>%\n",
    "              filter(Brand == 'Suddenlink' & Case == 'Both Off') %>%\n",
    "              select(Minimum,Maximum) %>%\n",
    "              unlist()\n",
    "sdl_both_off_budget_vec"
   ]
  },
  {
   "cell_type": "code",
   "execution_count": 115,
   "metadata": {},
   "outputs": [
    {
     "data": {
      "text/html": [
       "<style>\n",
       ".dl-inline {width: auto; margin:0; padding: 0}\n",
       ".dl-inline>dt, .dl-inline>dd {float: none; width: auto; display: inline-block}\n",
       ".dl-inline>dt::after {content: \":\\0020\"; padding-right: .5ex}\n",
       ".dl-inline>dt:not(:first-of-type) {padding-left: .5ex}\n",
       "</style><dl class=dl-inline><dt>Minimum</dt><dd>620000</dd><dt>Maximum</dt><dd>1060000</dd></dl>\n"
      ],
      "text/latex": [
       "\\begin{description*}\n",
       "\\item[Minimum] 620000\n",
       "\\item[Maximum] 1060000\n",
       "\\end{description*}\n"
      ],
      "text/markdown": [
       "Minimum\n",
       ":   620000Maximum\n",
       ":   1060000\n",
       "\n"
      ],
      "text/plain": [
       "Minimum Maximum \n",
       " 620000 1060000 "
      ]
     },
     "metadata": {},
     "output_type": "display_data"
    }
   ],
   "source": [
    "sdl_drtv_off_budget_vec = all_sliders_df %>%\n",
    "              filter(Brand == 'Suddenlink' & Case == 'DRTV Off') %>%\n",
    "              select(Minimum,Maximum) %>%\n",
    "              unlist()\n",
    "sdl_drtv_off_budget_vec"
   ]
  },
  {
   "cell_type": "code",
   "execution_count": 116,
   "metadata": {},
   "outputs": [
    {
     "data": {
      "text/html": [
       "<style>\n",
       ".dl-inline {width: auto; margin:0; padding: 0}\n",
       ".dl-inline>dt, .dl-inline>dd {float: none; width: auto; display: inline-block}\n",
       ".dl-inline>dt::after {content: \":\\0020\"; padding-right: .5ex}\n",
       ".dl-inline>dt:not(:first-of-type) {padding-left: .5ex}\n",
       "</style><dl class=dl-inline><dt>Minimum</dt><dd>810000</dd><dt>Maximum</dt><dd>1410000</dd></dl>\n"
      ],
      "text/latex": [
       "\\begin{description*}\n",
       "\\item[Minimum] 810000\n",
       "\\item[Maximum] 1410000\n",
       "\\end{description*}\n"
      ],
      "text/markdown": [
       "Minimum\n",
       ":   810000Maximum\n",
       ":   1410000\n",
       "\n"
      ],
      "text/plain": [
       "Minimum Maximum \n",
       " 810000 1410000 "
      ]
     },
     "metadata": {},
     "output_type": "display_data"
    }
   ],
   "source": [
    "sdl_radio_off_budget_vec = all_sliders_df %>%\n",
    "              filter(Brand == 'Suddenlink' & Case == 'Radio Off') %>%\n",
    "              select(Minimum,Maximum) %>%\n",
    "              unlist()\n",
    "sdl_radio_off_budget_vec"
   ]
  },
  {
   "cell_type": "code",
   "execution_count": 117,
   "metadata": {
    "ExecuteTime": {
     "end_time": "2021-06-08T16:48:46.678876Z",
     "start_time": "2021-06-08T16:43:24.423Z"
    }
   },
   "outputs": [],
   "source": [
    "generate_test_cases <- function(input,output){\n",
    "    input_df <- data.frame('key' = names(input),'value' = as.character(unlist(input)))\n",
    "    ncol_final = max(ncol(input_df),ncol(output))\n",
    "    ncol_input = ncol(input_df)\n",
    "    nrow_input = nrow(input_df)\n",
    "    ncol_diff = ncol_final - ncol_input\n",
    "\n",
    "\n",
    "    final_inputs_df = data.frame(matrix(nrow = 0,ncol = ncol_final),stringsAsFactors = F)\n",
    "\n",
    "    ##Create dummy columns for the input df to make it have the same columns as test_res_csv\n",
    "    dummy_df = data.frame(matrix(rep(NA,ncol_diff*nrow_input),nrow = nrow_input,ncol = ncol_diff),stringsAsFactors = F)\n",
    "\n",
    "\n",
    "\n",
    "    input_df = cbind(input_df,dummy_df)\n",
    "\n",
    "    colnames(input_df) <- paste0('X',c(1:ncol_final))\n",
    "    #output <- data.frame(output,stringsAsFactors = F)\n",
    "    output = rbind(colnames(output),output)\n",
    "    colnames(output) = paste0('X',c(1:ncol_final))\n",
    "\n",
    "    final_inputs_df = rbind(input_df,output)\n",
    "    \n",
    "    return(final_inputs_df)\n",
    "}"
   ]
  },
  {
   "cell_type": "code",
   "execution_count": 118,
   "metadata": {},
   "outputs": [],
   "source": [
    "gen_b2b_test_cases <- function(opt_budget_vec,\n",
    "                               sdl_budget_vec,\n",
    "                               opt_drtv_flag = T,\n",
    "                               sdl_drtv_flag = T,\n",
    "                               opt_radio_flag = T,\n",
    "                               sdl_radio_flag = T,\n",
    "                               id_start = 1){\n",
    "    \n",
    "    output_df = data.frame(matrix(nrow=0,ncol=7))\n",
    "    output_list = list()\n",
    "    ##Generate the combinations of both vectors\n",
    "    cases_df <- crossing(opt_budget_vec,sdl_budget_vec)\n",
    "   \n",
    "    \n",
    "    \n",
    "    idx <- c(1:nrow(cases_df))\n",
    "    \n",
    "   \n",
    "    \n",
    "    for(id in idx){\n",
    "        opt_drtv_flag = T\n",
    "        opt_radio_flag = T\n",
    "        \n",
    "        sdl_radio_flag = T\n",
    "        sdl_drtv_flag = T\n",
    "        \n",
    "        budget_vec = cases_df %>% slice(id) %>% unlist(use.names = FALSE)\n",
    "        quarter <- paste0('Q',sample(1:4,size = 1,replace = T))\n",
    "        \n",
    "        opt_cs_imp <- sample(opt_cs_imp_vec,size = 1, replace = T)\n",
    "        sdl_cs_imp <- sample(sdl_cs_imp_vec,size = 1,replace = T)\n",
    "        \n",
    "        #opt_emails <- sample(c(70000,126000),size = 1, replace = T)\n",
    "        #sdl_emails <- sample(c(16500,30000),size = 1, replace = T)\n",
    "        \n",
    "        opt_budget <- budget_vec[1]\n",
    "        sdl_budget <- budget_vec[2]\n",
    "        \n",
    "        ##Set the respective flag to False if the budget matches the slider budgets for Optimum\n",
    "        if(opt_budget%in%opt_both_off_budget_vec){\n",
    "            opt_drtv_flag = F\n",
    "            opt_radio_flag = F\n",
    "        }else if(opt_budget%in%opt_drtv_off_budget_vec){\n",
    "            opt_drtv_flag = F\n",
    "        }else if(opt_budget%in%opt_radio_off_budget_vec){\n",
    "            opt_radio_flag = F\n",
    "        }\n",
    "            \n",
    "        ##Set the respective flag to False if the budget matches the slider budgets for Suddenlink\n",
    "        if(sdl_budget%in%sdl_both_off_budget_vec){\n",
    "            sdl_drtv_flag = F\n",
    "            sdl_radio_flag = F\n",
    "        }else if(sdl_budget%in%sdl_drtv_off_budget_vec){\n",
    "            sdl_drtv_flag = F\n",
    "        }else if(sdl_budget%in%sdl_radio_off_budget_vec){\n",
    "            sdl_radio_flag = F\n",
    "        }\n",
    "            \n",
    "        \n",
    "        \n",
    "        #cat(budget_vec)\n",
    "        #cat('\\n')\n",
    "        cat(sprintf('OPT budget: %s\\n',format_money(budget_vec[1],0)))\n",
    "        cat(sprintf('SDL budget: %s\\n',format_money(budget_vec[2],0)))\n",
    "        cat(sprintf('OPT CS imps:%s\\n',format(opt_cs_imp,big.mark = ',')))\n",
    "        cat(sprintf('SDL CS imps:%s\\n',format(sdl_cs_imp,big.mark = ',')))\n",
    "        cat(sprintf('Quarter selected: %s\\n',quarter))\n",
    "        \n",
    "        \n",
    "        test_input_case = list('Input_OPT_budget' = budget_vec[1],\n",
    "                                'Input_SDL_budget' = budget_vec[2],\n",
    "                                'input_period' = quarter,                       \n",
    "                                'Input_OPT_crosschannel_imp' = opt_cs_imp,\n",
    "                                'Input_SDL_crosschannel_imp' = sdl_cs_imp,\n",
    "                                #'Input_OPT_email_sent' = opt_emails,\n",
    "                                #'Input_SDL_email_sent' = sdl_emails,\n",
    "                                'flight_flag_radio_OPT' = opt_radio_flag,\n",
    "                                'flight_flag_radio_SDL' = sdl_radio_flag,\n",
    "                                'flight_flag_DRTV_OPT' = opt_drtv_flag,\n",
    "                                'flight_flag_DRTV_SDL' = sdl_drtv_flag,\n",
    "                                'output_type' = 'csv' \n",
    "                                )\n",
    "        \n",
    "        gen_output <- run_b2b_app(test_input_case)\n",
    "        \n",
    "        test_case <- generate_test_cases(test_input_case,gen_output)\n",
    "        ncol_diff <- ncol(gen_output) - 1\n",
    "        \n",
    "        ##Create dummy columns for the input df to make it have the same columns as test_res_csv\n",
    "        dummy_df = data.frame(matrix(rep(NA,ncol_diff*1),nrow = 1,ncol = ncol_diff),stringsAsFactors = F)\n",
    "        \n",
    "        case_df <- data.frame(id_start)\n",
    "        case_df <- cbind(case_df,dummy_df)\n",
    "        colnames(case_df) <- paste('X',rep(1:ncol(case_df)),sep='')\n",
    "        \n",
    "        temp_df <- rbind(colnames(gen_output),gen_output)\n",
    "        colnames(temp_df) <-  paste('X',rep(1:ncol(case_df)),sep='')\n",
    "        \n",
    "        temp_df <- rbind(case_df,temp_df)\n",
    "        \n",
    "        output_name <- paste0('case',idx)\n",
    "        temp_list <- list(test_case)\n",
    "        names(temp_list) <- paste('case',id,sep = '')\n",
    "        output_list <- append(output_list,temp_list)\n",
    "        output_df <- rbind(output_df,temp_df)\n",
    "        id_start <- id_start + 1\n",
    "        \n",
    "    }\n",
    "    \n",
    "    return(list('case_df' = output_df,\n",
    "                'case_list' = output_list))\n",
    "}"
   ]
  },
  {
   "cell_type": "code",
   "execution_count": 135,
   "metadata": {
    "ExecuteTime": {
     "end_time": "2021-06-08T16:48:48.303390Z",
     "start_time": "2021-06-08T16:43:26.047Z"
    }
   },
   "outputs": [],
   "source": [
    "opt_budget_vec <- c(opt_both_on_budget_vec,opt_both_off_budget_vec,opt_drtv_off_budget_vec,opt_radio_off_budget_vec)\n",
    "sdl_budget_vec <- c(sdl_both_on_budget_vec,sdl_both_off_budget_vec,sdl_drtv_off_budget_vec,sdl_radio_off_budget_vec)"
   ]
  },
  {
   "cell_type": "code",
   "execution_count": 139,
   "metadata": {},
   "outputs": [
    {
     "data": {
      "text/html": [
       "<style>\n",
       ".list-inline {list-style: none; margin:0; padding: 0}\n",
       ".list-inline>li {display: inline-block}\n",
       ".list-inline>li:not(:last-child)::after {content: \"\\00b7\"; padding: 0 .5ex}\n",
       "</style>\n",
       "<ol class=list-inline><li>900000</li><li>1590000</li><li>520000</li><li>620000</li><li>1060000</li><li>810000</li><li>1410000</li></ol>\n"
      ],
      "text/latex": [
       "\\begin{enumerate*}\n",
       "\\item 900000\n",
       "\\item 1590000\n",
       "\\item 520000\n",
       "\\item 620000\n",
       "\\item 1060000\n",
       "\\item 810000\n",
       "\\item 1410000\n",
       "\\end{enumerate*}\n"
      ],
      "text/markdown": [
       "1. 900000\n",
       "2. 1590000\n",
       "3. 520000\n",
       "4. 620000\n",
       "5. 1060000\n",
       "6. 810000\n",
       "7. 1410000\n",
       "\n",
       "\n"
      ],
      "text/plain": [
       "[1]  900000 1590000  520000  620000 1060000  810000 1410000"
      ]
     },
     "metadata": {},
     "output_type": "display_data"
    }
   ],
   "source": [
    "unique(sdl_budget_vec)"
   ]
  },
  {
   "cell_type": "code",
   "execution_count": 136,
   "metadata": {
    "scrolled": true
   },
   "outputs": [
    {
     "data": {
      "text/html": [
       "<table>\n",
       "<caption>A tibble: 56 × 2</caption>\n",
       "<thead>\n",
       "\t<tr><th scope=col>opt_budget_vec</th><th scope=col>sdl_budget_vec</th></tr>\n",
       "\t<tr><th scope=col>&lt;int&gt;</th><th scope=col>&lt;int&gt;</th></tr>\n",
       "</thead>\n",
       "<tbody>\n",
       "\t<tr><td> 990000</td><td> 520000</td></tr>\n",
       "\t<tr><td> 990000</td><td> 620000</td></tr>\n",
       "\t<tr><td> 990000</td><td> 810000</td></tr>\n",
       "\t<tr><td> 990000</td><td> 900000</td></tr>\n",
       "\t<tr><td> 990000</td><td>1060000</td></tr>\n",
       "\t<tr><td> 990000</td><td>1410000</td></tr>\n",
       "\t<tr><td> 990000</td><td>1590000</td></tr>\n",
       "\t<tr><td>1200000</td><td> 520000</td></tr>\n",
       "\t<tr><td>1200000</td><td> 620000</td></tr>\n",
       "\t<tr><td>1200000</td><td> 810000</td></tr>\n",
       "\t<tr><td>1200000</td><td> 900000</td></tr>\n",
       "\t<tr><td>1200000</td><td>1060000</td></tr>\n",
       "\t<tr><td>1200000</td><td>1410000</td></tr>\n",
       "\t<tr><td>1200000</td><td>1590000</td></tr>\n",
       "\t<tr><td>1380000</td><td> 520000</td></tr>\n",
       "\t<tr><td>1380000</td><td> 620000</td></tr>\n",
       "\t<tr><td>1380000</td><td> 810000</td></tr>\n",
       "\t<tr><td>1380000</td><td> 900000</td></tr>\n",
       "\t<tr><td>1380000</td><td>1060000</td></tr>\n",
       "\t<tr><td>1380000</td><td>1410000</td></tr>\n",
       "\t<tr><td>1380000</td><td>1590000</td></tr>\n",
       "\t<tr><td>1590000</td><td> 520000</td></tr>\n",
       "\t<tr><td>1590000</td><td> 620000</td></tr>\n",
       "\t<tr><td>1590000</td><td> 810000</td></tr>\n",
       "\t<tr><td>1590000</td><td> 900000</td></tr>\n",
       "\t<tr><td>1590000</td><td>1060000</td></tr>\n",
       "\t<tr><td>1590000</td><td>1410000</td></tr>\n",
       "\t<tr><td>1590000</td><td>1590000</td></tr>\n",
       "\t<tr><td>1740000</td><td> 520000</td></tr>\n",
       "\t<tr><td>1740000</td><td> 620000</td></tr>\n",
       "\t<tr><td>1740000</td><td> 810000</td></tr>\n",
       "\t<tr><td>1740000</td><td> 900000</td></tr>\n",
       "\t<tr><td>1740000</td><td>1060000</td></tr>\n",
       "\t<tr><td>1740000</td><td>1410000</td></tr>\n",
       "\t<tr><td>1740000</td><td>1590000</td></tr>\n",
       "\t<tr><td>2130000</td><td> 520000</td></tr>\n",
       "\t<tr><td>2130000</td><td> 620000</td></tr>\n",
       "\t<tr><td>2130000</td><td> 810000</td></tr>\n",
       "\t<tr><td>2130000</td><td> 900000</td></tr>\n",
       "\t<tr><td>2130000</td><td>1060000</td></tr>\n",
       "\t<tr><td>2130000</td><td>1410000</td></tr>\n",
       "\t<tr><td>2130000</td><td>1590000</td></tr>\n",
       "\t<tr><td>2460000</td><td> 520000</td></tr>\n",
       "\t<tr><td>2460000</td><td> 620000</td></tr>\n",
       "\t<tr><td>2460000</td><td> 810000</td></tr>\n",
       "\t<tr><td>2460000</td><td> 900000</td></tr>\n",
       "\t<tr><td>2460000</td><td>1060000</td></tr>\n",
       "\t<tr><td>2460000</td><td>1410000</td></tr>\n",
       "\t<tr><td>2460000</td><td>1590000</td></tr>\n",
       "\t<tr><td>2820000</td><td> 520000</td></tr>\n",
       "\t<tr><td>2820000</td><td> 620000</td></tr>\n",
       "\t<tr><td>2820000</td><td> 810000</td></tr>\n",
       "\t<tr><td>2820000</td><td> 900000</td></tr>\n",
       "\t<tr><td>2820000</td><td>1060000</td></tr>\n",
       "\t<tr><td>2820000</td><td>1410000</td></tr>\n",
       "\t<tr><td>2820000</td><td>1590000</td></tr>\n",
       "</tbody>\n",
       "</table>\n"
      ],
      "text/latex": [
       "A tibble: 56 × 2\n",
       "\\begin{tabular}{ll}\n",
       " opt\\_budget\\_vec & sdl\\_budget\\_vec\\\\\n",
       " <int> & <int>\\\\\n",
       "\\hline\n",
       "\t  990000 &  520000\\\\\n",
       "\t  990000 &  620000\\\\\n",
       "\t  990000 &  810000\\\\\n",
       "\t  990000 &  900000\\\\\n",
       "\t  990000 & 1060000\\\\\n",
       "\t  990000 & 1410000\\\\\n",
       "\t  990000 & 1590000\\\\\n",
       "\t 1200000 &  520000\\\\\n",
       "\t 1200000 &  620000\\\\\n",
       "\t 1200000 &  810000\\\\\n",
       "\t 1200000 &  900000\\\\\n",
       "\t 1200000 & 1060000\\\\\n",
       "\t 1200000 & 1410000\\\\\n",
       "\t 1200000 & 1590000\\\\\n",
       "\t 1380000 &  520000\\\\\n",
       "\t 1380000 &  620000\\\\\n",
       "\t 1380000 &  810000\\\\\n",
       "\t 1380000 &  900000\\\\\n",
       "\t 1380000 & 1060000\\\\\n",
       "\t 1380000 & 1410000\\\\\n",
       "\t 1380000 & 1590000\\\\\n",
       "\t 1590000 &  520000\\\\\n",
       "\t 1590000 &  620000\\\\\n",
       "\t 1590000 &  810000\\\\\n",
       "\t 1590000 &  900000\\\\\n",
       "\t 1590000 & 1060000\\\\\n",
       "\t 1590000 & 1410000\\\\\n",
       "\t 1590000 & 1590000\\\\\n",
       "\t 1740000 &  520000\\\\\n",
       "\t 1740000 &  620000\\\\\n",
       "\t 1740000 &  810000\\\\\n",
       "\t 1740000 &  900000\\\\\n",
       "\t 1740000 & 1060000\\\\\n",
       "\t 1740000 & 1410000\\\\\n",
       "\t 1740000 & 1590000\\\\\n",
       "\t 2130000 &  520000\\\\\n",
       "\t 2130000 &  620000\\\\\n",
       "\t 2130000 &  810000\\\\\n",
       "\t 2130000 &  900000\\\\\n",
       "\t 2130000 & 1060000\\\\\n",
       "\t 2130000 & 1410000\\\\\n",
       "\t 2130000 & 1590000\\\\\n",
       "\t 2460000 &  520000\\\\\n",
       "\t 2460000 &  620000\\\\\n",
       "\t 2460000 &  810000\\\\\n",
       "\t 2460000 &  900000\\\\\n",
       "\t 2460000 & 1060000\\\\\n",
       "\t 2460000 & 1410000\\\\\n",
       "\t 2460000 & 1590000\\\\\n",
       "\t 2820000 &  520000\\\\\n",
       "\t 2820000 &  620000\\\\\n",
       "\t 2820000 &  810000\\\\\n",
       "\t 2820000 &  900000\\\\\n",
       "\t 2820000 & 1060000\\\\\n",
       "\t 2820000 & 1410000\\\\\n",
       "\t 2820000 & 1590000\\\\\n",
       "\\end{tabular}\n"
      ],
      "text/markdown": [
       "\n",
       "A tibble: 56 × 2\n",
       "\n",
       "| opt_budget_vec &lt;int&gt; | sdl_budget_vec &lt;int&gt; |\n",
       "|---|---|\n",
       "|  990000 |  520000 |\n",
       "|  990000 |  620000 |\n",
       "|  990000 |  810000 |\n",
       "|  990000 |  900000 |\n",
       "|  990000 | 1060000 |\n",
       "|  990000 | 1410000 |\n",
       "|  990000 | 1590000 |\n",
       "| 1200000 |  520000 |\n",
       "| 1200000 |  620000 |\n",
       "| 1200000 |  810000 |\n",
       "| 1200000 |  900000 |\n",
       "| 1200000 | 1060000 |\n",
       "| 1200000 | 1410000 |\n",
       "| 1200000 | 1590000 |\n",
       "| 1380000 |  520000 |\n",
       "| 1380000 |  620000 |\n",
       "| 1380000 |  810000 |\n",
       "| 1380000 |  900000 |\n",
       "| 1380000 | 1060000 |\n",
       "| 1380000 | 1410000 |\n",
       "| 1380000 | 1590000 |\n",
       "| 1590000 |  520000 |\n",
       "| 1590000 |  620000 |\n",
       "| 1590000 |  810000 |\n",
       "| 1590000 |  900000 |\n",
       "| 1590000 | 1060000 |\n",
       "| 1590000 | 1410000 |\n",
       "| 1590000 | 1590000 |\n",
       "| 1740000 |  520000 |\n",
       "| 1740000 |  620000 |\n",
       "| 1740000 |  810000 |\n",
       "| 1740000 |  900000 |\n",
       "| 1740000 | 1060000 |\n",
       "| 1740000 | 1410000 |\n",
       "| 1740000 | 1590000 |\n",
       "| 2130000 |  520000 |\n",
       "| 2130000 |  620000 |\n",
       "| 2130000 |  810000 |\n",
       "| 2130000 |  900000 |\n",
       "| 2130000 | 1060000 |\n",
       "| 2130000 | 1410000 |\n",
       "| 2130000 | 1590000 |\n",
       "| 2460000 |  520000 |\n",
       "| 2460000 |  620000 |\n",
       "| 2460000 |  810000 |\n",
       "| 2460000 |  900000 |\n",
       "| 2460000 | 1060000 |\n",
       "| 2460000 | 1410000 |\n",
       "| 2460000 | 1590000 |\n",
       "| 2820000 |  520000 |\n",
       "| 2820000 |  620000 |\n",
       "| 2820000 |  810000 |\n",
       "| 2820000 |  900000 |\n",
       "| 2820000 | 1060000 |\n",
       "| 2820000 | 1410000 |\n",
       "| 2820000 | 1590000 |\n",
       "\n"
      ],
      "text/plain": [
       "   opt_budget_vec sdl_budget_vec\n",
       "1   990000         520000       \n",
       "2   990000         620000       \n",
       "3   990000         810000       \n",
       "4   990000         900000       \n",
       "5   990000        1060000       \n",
       "6   990000        1410000       \n",
       "7   990000        1590000       \n",
       "8  1200000         520000       \n",
       "9  1200000         620000       \n",
       "10 1200000         810000       \n",
       "11 1200000         900000       \n",
       "12 1200000        1060000       \n",
       "13 1200000        1410000       \n",
       "14 1200000        1590000       \n",
       "15 1380000         520000       \n",
       "16 1380000         620000       \n",
       "17 1380000         810000       \n",
       "18 1380000         900000       \n",
       "19 1380000        1060000       \n",
       "20 1380000        1410000       \n",
       "21 1380000        1590000       \n",
       "22 1590000         520000       \n",
       "23 1590000         620000       \n",
       "24 1590000         810000       \n",
       "25 1590000         900000       \n",
       "26 1590000        1060000       \n",
       "27 1590000        1410000       \n",
       "28 1590000        1590000       \n",
       "29 1740000         520000       \n",
       "30 1740000         620000       \n",
       "31 1740000         810000       \n",
       "32 1740000         900000       \n",
       "33 1740000        1060000       \n",
       "34 1740000        1410000       \n",
       "35 1740000        1590000       \n",
       "36 2130000         520000       \n",
       "37 2130000         620000       \n",
       "38 2130000         810000       \n",
       "39 2130000         900000       \n",
       "40 2130000        1060000       \n",
       "41 2130000        1410000       \n",
       "42 2130000        1590000       \n",
       "43 2460000         520000       \n",
       "44 2460000         620000       \n",
       "45 2460000         810000       \n",
       "46 2460000         900000       \n",
       "47 2460000        1060000       \n",
       "48 2460000        1410000       \n",
       "49 2460000        1590000       \n",
       "50 2820000         520000       \n",
       "51 2820000         620000       \n",
       "52 2820000         810000       \n",
       "53 2820000         900000       \n",
       "54 2820000        1060000       \n",
       "55 2820000        1410000       \n",
       "56 2820000        1590000       "
      ]
     },
     "metadata": {},
     "output_type": "display_data"
    }
   ],
   "source": [
    "crossing(opt_budget_vec,sdl_budget_vec)"
   ]
  },
  {
   "cell_type": "code",
   "execution_count": 123,
   "metadata": {
    "scrolled": true
   },
   "outputs": [
    {
     "name": "stdout",
     "output_type": "stream",
     "text": [
      "OPT budget: $990,000\n",
      "SDL budget: $520,000\n",
      "OPT CS imps:127,500,000\n",
      "SDL CS imps:20,100,000\n",
      "Quarter selected: Q3\n"
     ]
    },
    {
     "name": "stderr",
     "output_type": "stream",
     "text": [
      "Adding missing grouping variables: `qy`\n",
      "\n"
     ]
    },
    {
     "name": "stdout",
     "output_type": "stream",
     "text": [
      "OPT budget: $990,000\n",
      "SDL budget: $620,000\n",
      "OPT CS imps:69,000,000\n",
      "SDL CS imps:20,100,000\n",
      "Quarter selected: Q1\n"
     ]
    },
    {
     "name": "stderr",
     "output_type": "stream",
     "text": [
      "Adding missing grouping variables: `qy`\n",
      "\n"
     ]
    },
    {
     "name": "stdout",
     "output_type": "stream",
     "text": [
      "OPT budget: $990,000\n",
      "SDL budget: $810,000\n",
      "OPT CS imps:127,500,000\n",
      "SDL CS imps:20,100,000\n",
      "Quarter selected: Q1\n"
     ]
    },
    {
     "name": "stderr",
     "output_type": "stream",
     "text": [
      "Adding missing grouping variables: `qy`\n",
      "\n"
     ]
    },
    {
     "name": "stdout",
     "output_type": "stream",
     "text": [
      "OPT budget: $990,000\n",
      "SDL budget: $900,000\n",
      "OPT CS imps:69,000,000\n",
      "SDL CS imps:10,950,000\n",
      "Quarter selected: Q3\n"
     ]
    },
    {
     "name": "stderr",
     "output_type": "stream",
     "text": [
      "Adding missing grouping variables: `qy`\n",
      "\n"
     ]
    },
    {
     "name": "stdout",
     "output_type": "stream",
     "text": [
      "OPT budget: $990,000\n",
      "SDL budget: $1,060,000\n",
      "OPT CS imps:69,000,000\n",
      "SDL CS imps:10,950,000\n",
      "Quarter selected: Q4\n"
     ]
    },
    {
     "name": "stderr",
     "output_type": "stream",
     "text": [
      "Adding missing grouping variables: `qy`\n",
      "\n"
     ]
    },
    {
     "name": "stdout",
     "output_type": "stream",
     "text": [
      "OPT budget: $990,000\n",
      "SDL budget: $1,410,000\n",
      "OPT CS imps:69,000,000\n",
      "SDL CS imps:10,950,000\n",
      "Quarter selected: Q2\n"
     ]
    },
    {
     "name": "stderr",
     "output_type": "stream",
     "text": [
      "Adding missing grouping variables: `qy`\n",
      "\n"
     ]
    },
    {
     "name": "stdout",
     "output_type": "stream",
     "text": [
      "OPT budget: $990,000\n",
      "SDL budget: $1,590,000\n",
      "OPT CS imps:127,500,000\n",
      "SDL CS imps:20,100,000\n",
      "Quarter selected: Q1\n"
     ]
    },
    {
     "name": "stderr",
     "output_type": "stream",
     "text": [
      "Adding missing grouping variables: `qy`\n",
      "\n"
     ]
    },
    {
     "name": "stdout",
     "output_type": "stream",
     "text": [
      "OPT budget: $1,200,000\n",
      "SDL budget: $520,000\n",
      "OPT CS imps:69,000,000\n",
      "SDL CS imps:20,100,000\n",
      "Quarter selected: Q2\n"
     ]
    },
    {
     "name": "stderr",
     "output_type": "stream",
     "text": [
      "Adding missing grouping variables: `qy`\n",
      "\n"
     ]
    },
    {
     "name": "stdout",
     "output_type": "stream",
     "text": [
      "OPT budget: $1,200,000\n",
      "SDL budget: $620,000\n",
      "OPT CS imps:127,500,000\n",
      "SDL CS imps:20,100,000\n",
      "Quarter selected: Q1\n"
     ]
    },
    {
     "name": "stderr",
     "output_type": "stream",
     "text": [
      "Adding missing grouping variables: `qy`\n",
      "\n"
     ]
    },
    {
     "name": "stdout",
     "output_type": "stream",
     "text": [
      "OPT budget: $1,200,000\n",
      "SDL budget: $810,000\n",
      "OPT CS imps:69,000,000\n",
      "SDL CS imps:20,100,000\n",
      "Quarter selected: Q3\n"
     ]
    },
    {
     "name": "stderr",
     "output_type": "stream",
     "text": [
      "Adding missing grouping variables: `qy`\n",
      "\n"
     ]
    },
    {
     "name": "stdout",
     "output_type": "stream",
     "text": [
      "OPT budget: $1,200,000\n",
      "SDL budget: $900,000\n",
      "OPT CS imps:69,000,000\n",
      "SDL CS imps:20,100,000\n",
      "Quarter selected: Q2\n"
     ]
    },
    {
     "name": "stderr",
     "output_type": "stream",
     "text": [
      "Adding missing grouping variables: `qy`\n",
      "\n"
     ]
    },
    {
     "name": "stdout",
     "output_type": "stream",
     "text": [
      "OPT budget: $1,200,000\n",
      "SDL budget: $1,060,000\n",
      "OPT CS imps:127,500,000\n",
      "SDL CS imps:20,100,000\n",
      "Quarter selected: Q2\n"
     ]
    },
    {
     "name": "stderr",
     "output_type": "stream",
     "text": [
      "Adding missing grouping variables: `qy`\n",
      "\n"
     ]
    },
    {
     "name": "stdout",
     "output_type": "stream",
     "text": [
      "OPT budget: $1,200,000\n",
      "SDL budget: $1,410,000\n",
      "OPT CS imps:69,000,000\n",
      "SDL CS imps:10,950,000\n",
      "Quarter selected: Q3\n"
     ]
    },
    {
     "name": "stderr",
     "output_type": "stream",
     "text": [
      "Adding missing grouping variables: `qy`\n",
      "\n"
     ]
    },
    {
     "name": "stdout",
     "output_type": "stream",
     "text": [
      "OPT budget: $1,200,000\n",
      "SDL budget: $1,590,000\n",
      "OPT CS imps:127,500,000\n",
      "SDL CS imps:10,950,000\n",
      "Quarter selected: Q1\n"
     ]
    },
    {
     "name": "stderr",
     "output_type": "stream",
     "text": [
      "Adding missing grouping variables: `qy`\n",
      "\n"
     ]
    },
    {
     "name": "stdout",
     "output_type": "stream",
     "text": [
      "OPT budget: $1,380,000\n",
      "SDL budget: $520,000\n",
      "OPT CS imps:127,500,000\n",
      "SDL CS imps:10,950,000\n",
      "Quarter selected: Q1\n"
     ]
    },
    {
     "name": "stderr",
     "output_type": "stream",
     "text": [
      "Adding missing grouping variables: `qy`\n",
      "\n"
     ]
    },
    {
     "name": "stdout",
     "output_type": "stream",
     "text": [
      "OPT budget: $1,380,000\n",
      "SDL budget: $620,000\n",
      "OPT CS imps:69,000,000\n",
      "SDL CS imps:20,100,000\n",
      "Quarter selected: Q3\n"
     ]
    },
    {
     "name": "stderr",
     "output_type": "stream",
     "text": [
      "Adding missing grouping variables: `qy`\n",
      "\n"
     ]
    },
    {
     "name": "stdout",
     "output_type": "stream",
     "text": [
      "OPT budget: $1,380,000\n",
      "SDL budget: $810,000\n",
      "OPT CS imps:127,500,000\n",
      "SDL CS imps:20,100,000\n",
      "Quarter selected: Q4\n"
     ]
    },
    {
     "name": "stderr",
     "output_type": "stream",
     "text": [
      "Adding missing grouping variables: `qy`\n",
      "\n"
     ]
    },
    {
     "name": "stdout",
     "output_type": "stream",
     "text": [
      "OPT budget: $1,380,000\n",
      "SDL budget: $900,000\n",
      "OPT CS imps:127,500,000\n",
      "SDL CS imps:20,100,000\n",
      "Quarter selected: Q3\n"
     ]
    },
    {
     "name": "stderr",
     "output_type": "stream",
     "text": [
      "Adding missing grouping variables: `qy`\n",
      "\n"
     ]
    },
    {
     "name": "stdout",
     "output_type": "stream",
     "text": [
      "OPT budget: $1,380,000\n",
      "SDL budget: $1,060,000\n",
      "OPT CS imps:69,000,000\n",
      "SDL CS imps:20,100,000\n",
      "Quarter selected: Q4\n"
     ]
    },
    {
     "name": "stderr",
     "output_type": "stream",
     "text": [
      "Adding missing grouping variables: `qy`\n",
      "\n"
     ]
    },
    {
     "name": "stdout",
     "output_type": "stream",
     "text": [
      "OPT budget: $1,380,000\n",
      "SDL budget: $1,410,000\n",
      "OPT CS imps:127,500,000\n",
      "SDL CS imps:20,100,000\n",
      "Quarter selected: Q3\n"
     ]
    },
    {
     "name": "stderr",
     "output_type": "stream",
     "text": [
      "Adding missing grouping variables: `qy`\n",
      "\n"
     ]
    },
    {
     "name": "stdout",
     "output_type": "stream",
     "text": [
      "OPT budget: $1,380,000\n",
      "SDL budget: $1,590,000\n",
      "OPT CS imps:69,000,000\n",
      "SDL CS imps:20,100,000\n",
      "Quarter selected: Q1\n"
     ]
    },
    {
     "name": "stderr",
     "output_type": "stream",
     "text": [
      "Adding missing grouping variables: `qy`\n",
      "\n"
     ]
    },
    {
     "name": "stdout",
     "output_type": "stream",
     "text": [
      "OPT budget: $1,590,000\n",
      "SDL budget: $520,000\n",
      "OPT CS imps:69,000,000\n",
      "SDL CS imps:10,950,000\n",
      "Quarter selected: Q2\n"
     ]
    },
    {
     "name": "stderr",
     "output_type": "stream",
     "text": [
      "Adding missing grouping variables: `qy`\n",
      "\n"
     ]
    },
    {
     "name": "stdout",
     "output_type": "stream",
     "text": [
      "OPT budget: $1,590,000\n",
      "SDL budget: $620,000\n",
      "OPT CS imps:69,000,000\n",
      "SDL CS imps:20,100,000\n",
      "Quarter selected: Q4\n"
     ]
    },
    {
     "name": "stderr",
     "output_type": "stream",
     "text": [
      "Adding missing grouping variables: `qy`\n",
      "\n"
     ]
    },
    {
     "name": "stdout",
     "output_type": "stream",
     "text": [
      "OPT budget: $1,590,000\n",
      "SDL budget: $810,000\n",
      "OPT CS imps:127,500,000\n",
      "SDL CS imps:10,950,000\n",
      "Quarter selected: Q4\n"
     ]
    },
    {
     "name": "stderr",
     "output_type": "stream",
     "text": [
      "Adding missing grouping variables: `qy`\n",
      "\n"
     ]
    },
    {
     "name": "stdout",
     "output_type": "stream",
     "text": [
      "OPT budget: $1,590,000\n",
      "SDL budget: $900,000\n",
      "OPT CS imps:127,500,000\n",
      "SDL CS imps:10,950,000\n",
      "Quarter selected: Q2\n"
     ]
    },
    {
     "name": "stderr",
     "output_type": "stream",
     "text": [
      "Adding missing grouping variables: `qy`\n",
      "\n"
     ]
    },
    {
     "name": "stdout",
     "output_type": "stream",
     "text": [
      "OPT budget: $1,590,000\n",
      "SDL budget: $1,060,000\n",
      "OPT CS imps:69,000,000\n",
      "SDL CS imps:20,100,000\n",
      "Quarter selected: Q1\n"
     ]
    },
    {
     "name": "stderr",
     "output_type": "stream",
     "text": [
      "Adding missing grouping variables: `qy`\n",
      "\n"
     ]
    },
    {
     "name": "stdout",
     "output_type": "stream",
     "text": [
      "OPT budget: $1,590,000\n",
      "SDL budget: $1,410,000\n",
      "OPT CS imps:69,000,000\n",
      "SDL CS imps:10,950,000\n",
      "Quarter selected: Q3\n"
     ]
    },
    {
     "name": "stderr",
     "output_type": "stream",
     "text": [
      "Adding missing grouping variables: `qy`\n",
      "\n"
     ]
    },
    {
     "name": "stdout",
     "output_type": "stream",
     "text": [
      "OPT budget: $1,590,000\n",
      "SDL budget: $1,590,000\n",
      "OPT CS imps:69,000,000\n",
      "SDL CS imps:10,950,000\n",
      "Quarter selected: Q1\n"
     ]
    },
    {
     "name": "stderr",
     "output_type": "stream",
     "text": [
      "Adding missing grouping variables: `qy`\n",
      "\n"
     ]
    },
    {
     "name": "stdout",
     "output_type": "stream",
     "text": [
      "OPT budget: $1,740,000\n",
      "SDL budget: $520,000\n",
      "OPT CS imps:69,000,000\n",
      "SDL CS imps:20,100,000\n",
      "Quarter selected: Q4\n"
     ]
    },
    {
     "name": "stderr",
     "output_type": "stream",
     "text": [
      "Adding missing grouping variables: `qy`\n",
      "\n"
     ]
    },
    {
     "name": "stdout",
     "output_type": "stream",
     "text": [
      "OPT budget: $1,740,000\n",
      "SDL budget: $620,000\n",
      "OPT CS imps:69,000,000\n",
      "SDL CS imps:10,950,000\n",
      "Quarter selected: Q3\n"
     ]
    },
    {
     "name": "stderr",
     "output_type": "stream",
     "text": [
      "Adding missing grouping variables: `qy`\n",
      "\n"
     ]
    },
    {
     "name": "stdout",
     "output_type": "stream",
     "text": [
      "OPT budget: $1,740,000\n",
      "SDL budget: $810,000\n",
      "OPT CS imps:127,500,000\n",
      "SDL CS imps:10,950,000\n",
      "Quarter selected: Q2\n"
     ]
    },
    {
     "name": "stderr",
     "output_type": "stream",
     "text": [
      "Adding missing grouping variables: `qy`\n",
      "\n"
     ]
    },
    {
     "name": "stdout",
     "output_type": "stream",
     "text": [
      "OPT budget: $1,740,000\n",
      "SDL budget: $900,000\n",
      "OPT CS imps:127,500,000\n",
      "SDL CS imps:20,100,000\n",
      "Quarter selected: Q2\n"
     ]
    },
    {
     "name": "stderr",
     "output_type": "stream",
     "text": [
      "Adding missing grouping variables: `qy`\n",
      "\n"
     ]
    },
    {
     "name": "stdout",
     "output_type": "stream",
     "text": [
      "OPT budget: $1,740,000\n",
      "SDL budget: $1,060,000\n",
      "OPT CS imps:69,000,000\n",
      "SDL CS imps:20,100,000\n",
      "Quarter selected: Q4\n"
     ]
    },
    {
     "name": "stderr",
     "output_type": "stream",
     "text": [
      "Adding missing grouping variables: `qy`\n",
      "\n"
     ]
    },
    {
     "name": "stdout",
     "output_type": "stream",
     "text": [
      "OPT budget: $1,740,000\n",
      "SDL budget: $1,410,000\n",
      "OPT CS imps:69,000,000\n",
      "SDL CS imps:10,950,000\n",
      "Quarter selected: Q3\n"
     ]
    },
    {
     "name": "stderr",
     "output_type": "stream",
     "text": [
      "Adding missing grouping variables: `qy`\n",
      "\n"
     ]
    },
    {
     "name": "stdout",
     "output_type": "stream",
     "text": [
      "OPT budget: $1,740,000\n",
      "SDL budget: $1,590,000\n",
      "OPT CS imps:127,500,000\n",
      "SDL CS imps:10,950,000\n",
      "Quarter selected: Q3\n"
     ]
    },
    {
     "name": "stderr",
     "output_type": "stream",
     "text": [
      "Adding missing grouping variables: `qy`\n",
      "\n"
     ]
    },
    {
     "name": "stdout",
     "output_type": "stream",
     "text": [
      "OPT budget: $2,130,000\n",
      "SDL budget: $520,000\n",
      "OPT CS imps:127,500,000\n",
      "SDL CS imps:20,100,000\n",
      "Quarter selected: Q3\n"
     ]
    },
    {
     "name": "stderr",
     "output_type": "stream",
     "text": [
      "Adding missing grouping variables: `qy`\n",
      "\n"
     ]
    },
    {
     "name": "stdout",
     "output_type": "stream",
     "text": [
      "OPT budget: $2,130,000\n",
      "SDL budget: $620,000\n",
      "OPT CS imps:127,500,000\n",
      "SDL CS imps:10,950,000\n",
      "Quarter selected: Q2\n"
     ]
    },
    {
     "name": "stderr",
     "output_type": "stream",
     "text": [
      "Adding missing grouping variables: `qy`\n",
      "\n"
     ]
    },
    {
     "name": "stdout",
     "output_type": "stream",
     "text": [
      "OPT budget: $2,130,000\n",
      "SDL budget: $810,000\n",
      "OPT CS imps:69,000,000\n",
      "SDL CS imps:10,950,000\n",
      "Quarter selected: Q4\n"
     ]
    },
    {
     "name": "stderr",
     "output_type": "stream",
     "text": [
      "Adding missing grouping variables: `qy`\n",
      "\n"
     ]
    },
    {
     "name": "stdout",
     "output_type": "stream",
     "text": [
      "OPT budget: $2,130,000\n",
      "SDL budget: $900,000\n",
      "OPT CS imps:127,500,000\n",
      "SDL CS imps:20,100,000\n",
      "Quarter selected: Q1\n"
     ]
    },
    {
     "name": "stderr",
     "output_type": "stream",
     "text": [
      "Adding missing grouping variables: `qy`\n",
      "\n"
     ]
    },
    {
     "name": "stdout",
     "output_type": "stream",
     "text": [
      "OPT budget: $2,130,000\n",
      "SDL budget: $1,060,000\n",
      "OPT CS imps:127,500,000\n",
      "SDL CS imps:20,100,000\n",
      "Quarter selected: Q3\n"
     ]
    },
    {
     "name": "stderr",
     "output_type": "stream",
     "text": [
      "Adding missing grouping variables: `qy`\n",
      "\n"
     ]
    },
    {
     "name": "stdout",
     "output_type": "stream",
     "text": [
      "OPT budget: $2,130,000\n",
      "SDL budget: $1,410,000\n",
      "OPT CS imps:69,000,000\n",
      "SDL CS imps:20,100,000\n",
      "Quarter selected: Q3\n"
     ]
    },
    {
     "name": "stderr",
     "output_type": "stream",
     "text": [
      "Adding missing grouping variables: `qy`\n",
      "\n"
     ]
    },
    {
     "name": "stdout",
     "output_type": "stream",
     "text": [
      "OPT budget: $2,130,000\n",
      "SDL budget: $1,590,000\n",
      "OPT CS imps:127,500,000\n",
      "SDL CS imps:10,950,000\n",
      "Quarter selected: Q4\n"
     ]
    },
    {
     "name": "stderr",
     "output_type": "stream",
     "text": [
      "Adding missing grouping variables: `qy`\n",
      "\n"
     ]
    },
    {
     "name": "stdout",
     "output_type": "stream",
     "text": [
      "OPT budget: $2,460,000\n",
      "SDL budget: $520,000\n",
      "OPT CS imps:127,500,000\n",
      "SDL CS imps:20,100,000\n",
      "Quarter selected: Q3\n"
     ]
    },
    {
     "name": "stderr",
     "output_type": "stream",
     "text": [
      "Adding missing grouping variables: `qy`\n",
      "\n"
     ]
    },
    {
     "name": "stdout",
     "output_type": "stream",
     "text": [
      "OPT budget: $2,460,000\n",
      "SDL budget: $620,000\n",
      "OPT CS imps:69,000,000\n",
      "SDL CS imps:20,100,000\n",
      "Quarter selected: Q3\n"
     ]
    },
    {
     "name": "stderr",
     "output_type": "stream",
     "text": [
      "Adding missing grouping variables: `qy`\n",
      "\n"
     ]
    },
    {
     "name": "stdout",
     "output_type": "stream",
     "text": [
      "OPT budget: $2,460,000\n",
      "SDL budget: $810,000\n",
      "OPT CS imps:69,000,000\n",
      "SDL CS imps:20,100,000\n",
      "Quarter selected: Q2\n"
     ]
    },
    {
     "name": "stderr",
     "output_type": "stream",
     "text": [
      "Adding missing grouping variables: `qy`\n",
      "\n"
     ]
    },
    {
     "name": "stdout",
     "output_type": "stream",
     "text": [
      "OPT budget: $2,460,000\n",
      "SDL budget: $900,000\n",
      "OPT CS imps:69,000,000\n",
      "SDL CS imps:10,950,000\n",
      "Quarter selected: Q3\n"
     ]
    },
    {
     "name": "stderr",
     "output_type": "stream",
     "text": [
      "Adding missing grouping variables: `qy`\n",
      "\n"
     ]
    },
    {
     "name": "stdout",
     "output_type": "stream",
     "text": [
      "OPT budget: $2,460,000\n",
      "SDL budget: $1,060,000\n",
      "OPT CS imps:69,000,000\n",
      "SDL CS imps:20,100,000\n",
      "Quarter selected: Q3\n"
     ]
    },
    {
     "name": "stderr",
     "output_type": "stream",
     "text": [
      "Adding missing grouping variables: `qy`\n",
      "\n"
     ]
    },
    {
     "name": "stdout",
     "output_type": "stream",
     "text": [
      "OPT budget: $2,460,000\n",
      "SDL budget: $1,410,000\n",
      "OPT CS imps:69,000,000\n",
      "SDL CS imps:20,100,000\n",
      "Quarter selected: Q4\n"
     ]
    },
    {
     "name": "stderr",
     "output_type": "stream",
     "text": [
      "Adding missing grouping variables: `qy`\n",
      "\n"
     ]
    },
    {
     "name": "stdout",
     "output_type": "stream",
     "text": [
      "OPT budget: $2,460,000\n",
      "SDL budget: $1,590,000\n",
      "OPT CS imps:127,500,000\n",
      "SDL CS imps:10,950,000\n",
      "Quarter selected: Q3\n"
     ]
    },
    {
     "name": "stderr",
     "output_type": "stream",
     "text": [
      "Adding missing grouping variables: `qy`\n",
      "\n"
     ]
    },
    {
     "name": "stdout",
     "output_type": "stream",
     "text": [
      "OPT budget: $2,820,000\n",
      "SDL budget: $520,000\n",
      "OPT CS imps:69,000,000\n",
      "SDL CS imps:10,950,000\n",
      "Quarter selected: Q4\n"
     ]
    },
    {
     "name": "stderr",
     "output_type": "stream",
     "text": [
      "Adding missing grouping variables: `qy`\n",
      "\n"
     ]
    },
    {
     "name": "stdout",
     "output_type": "stream",
     "text": [
      "OPT budget: $2,820,000\n",
      "SDL budget: $620,000\n",
      "OPT CS imps:69,000,000\n",
      "SDL CS imps:20,100,000\n",
      "Quarter selected: Q3\n"
     ]
    },
    {
     "name": "stderr",
     "output_type": "stream",
     "text": [
      "Adding missing grouping variables: `qy`\n",
      "\n"
     ]
    },
    {
     "name": "stdout",
     "output_type": "stream",
     "text": [
      "OPT budget: $2,820,000\n",
      "SDL budget: $810,000\n",
      "OPT CS imps:69,000,000\n",
      "SDL CS imps:10,950,000\n",
      "Quarter selected: Q2\n"
     ]
    },
    {
     "name": "stderr",
     "output_type": "stream",
     "text": [
      "Adding missing grouping variables: `qy`\n",
      "\n"
     ]
    },
    {
     "name": "stdout",
     "output_type": "stream",
     "text": [
      "OPT budget: $2,820,000\n",
      "SDL budget: $900,000\n",
      "OPT CS imps:127,500,000\n",
      "SDL CS imps:10,950,000\n",
      "Quarter selected: Q2\n"
     ]
    },
    {
     "name": "stderr",
     "output_type": "stream",
     "text": [
      "Adding missing grouping variables: `qy`\n",
      "\n"
     ]
    },
    {
     "name": "stdout",
     "output_type": "stream",
     "text": [
      "OPT budget: $2,820,000\n",
      "SDL budget: $1,060,000\n",
      "OPT CS imps:69,000,000\n",
      "SDL CS imps:20,100,000\n",
      "Quarter selected: Q2\n"
     ]
    },
    {
     "name": "stderr",
     "output_type": "stream",
     "text": [
      "Adding missing grouping variables: `qy`\n",
      "\n"
     ]
    },
    {
     "name": "stdout",
     "output_type": "stream",
     "text": [
      "OPT budget: $2,820,000\n",
      "SDL budget: $1,410,000\n",
      "OPT CS imps:69,000,000\n",
      "SDL CS imps:20,100,000\n",
      "Quarter selected: Q3\n"
     ]
    },
    {
     "name": "stderr",
     "output_type": "stream",
     "text": [
      "Adding missing grouping variables: `qy`\n",
      "\n"
     ]
    },
    {
     "name": "stdout",
     "output_type": "stream",
     "text": [
      "OPT budget: $2,820,000\n",
      "SDL budget: $1,590,000\n",
      "OPT CS imps:69,000,000\n",
      "SDL CS imps:20,100,000\n",
      "Quarter selected: Q1\n"
     ]
    },
    {
     "name": "stderr",
     "output_type": "stream",
     "text": [
      "Adding missing grouping variables: `qy`\n",
      "\n"
     ]
    }
   ],
   "source": [
    "res <- gen_b2b_test_cases(opt_budget_vec,sdl_budget_vec)"
   ]
  },
  {
   "cell_type": "code",
   "execution_count": 124,
   "metadata": {
    "ExecuteTime": {
     "end_time": "2021-06-08T16:49:14.630120Z",
     "start_time": "2021-06-08T16:43:28.153Z"
    },
    "scrolled": true
   },
   "outputs": [
    {
     "data": {
      "text/html": [
       "<table>\n",
       "<caption>A data.frame: 280 × 10</caption>\n",
       "<thead>\n",
       "\t<tr><th scope=col>X1</th><th scope=col>X2</th><th scope=col>X3</th><th scope=col>X4</th><th scope=col>X5</th><th scope=col>X6</th><th scope=col>X7</th><th scope=col>X8</th><th scope=col>X9</th><th scope=col>X10</th></tr>\n",
       "\t<tr><th scope=col>&lt;chr&gt;</th><th scope=col>&lt;chr&gt;</th><th scope=col>&lt;chr&gt;</th><th scope=col>&lt;chr&gt;</th><th scope=col>&lt;chr&gt;</th><th scope=col>&lt;chr&gt;</th><th scope=col>&lt;chr&gt;</th><th scope=col>&lt;chr&gt;</th><th scope=col>&lt;chr&gt;</th><th scope=col>&lt;chr&gt;</th></tr>\n",
       "</thead>\n",
       "<tbody>\n",
       "\t<tr><td>1        </td><td>NA                     </td><td>NA     </td><td>NA         </td><td>NA         </td><td>NA         </td><td>NA         </td><td>NA   </td><td>NA        </td><td>NA                       </td></tr>\n",
       "\t<tr><td>Footprint</td><td>Total Spend $(000) [Q3]</td><td>Digital</td><td>Paid Search</td><td>Social     </td><td>Direct Mail</td><td>DRTV       </td><td>Radio</td><td>Gross Adds</td><td>Cross Channel Impressions</td></tr>\n",
       "\t<tr><td>USA      </td><td>$1,510                 </td><td>$568   </td><td>$349       </td><td>$333       </td><td>$260       </td><td>$0         </td><td>$0   </td><td>16,722    </td><td>147,600,000              </td></tr>\n",
       "\t<tr><td>EAST     </td><td>$990                   </td><td>$372   </td><td>$242       </td><td>$197       </td><td>$179       </td><td>$0         </td><td>$0   </td><td>10,383    </td><td>127,500,000              </td></tr>\n",
       "\t<tr><td>WEST     </td><td>$520                   </td><td>$195   </td><td>$108       </td><td>$136       </td><td>$81        </td><td>$0         </td><td>$0   </td><td> 6,339    </td><td> 20,100,000              </td></tr>\n",
       "\t<tr><td>2        </td><td>NA                     </td><td>NA     </td><td>NA         </td><td>NA         </td><td>NA         </td><td>NA         </td><td>NA   </td><td>NA        </td><td>NA                       </td></tr>\n",
       "\t<tr><td>Footprint</td><td>Total Spend $(000) [Q1]</td><td>Digital</td><td>Paid Search</td><td>Social     </td><td>Direct Mail</td><td>Radio      </td><td>DRTV </td><td>Gross Adds</td><td>Cross Channel Impressions</td></tr>\n",
       "\t<tr><td>USA      </td><td>$1,610                 </td><td>$571   </td><td>$347       </td><td>$334       </td><td>$262       </td><td>$95        </td><td>$0   </td><td>15,225    </td><td>89,100,000               </td></tr>\n",
       "\t<tr><td>EAST     </td><td>$990                   </td><td>$372   </td><td>$242       </td><td>$197       </td><td>$179       </td><td>$0         </td><td>$0   </td><td> 9,580    </td><td>69,000,000               </td></tr>\n",
       "\t<tr><td>WEST     </td><td>$620                   </td><td>$199   </td><td>$105       </td><td>$137       </td><td>$83        </td><td>$95        </td><td>$0   </td><td> 5,645    </td><td>20,100,000               </td></tr>\n",
       "\t<tr><td>3        </td><td>NA                     </td><td>NA     </td><td>NA         </td><td>NA         </td><td>NA         </td><td>NA         </td><td>NA   </td><td>NA        </td><td>NA                       </td></tr>\n",
       "\t<tr><td>Footprint</td><td>Total Spend $(000) [Q1]</td><td>Digital</td><td>Paid Search</td><td>Social     </td><td>DRTV       </td><td>Direct Mail</td><td>Radio</td><td>Gross Adds</td><td>Cross Channel Impressions</td></tr>\n",
       "\t<tr><td>USA      </td><td>$1,800                 </td><td>$567   </td><td>$344       </td><td>$326       </td><td>$296       </td><td>$266       </td><td>$0   </td><td>15,862    </td><td>147,600,000              </td></tr>\n",
       "\t<tr><td>EAST     </td><td>$990                   </td><td>$372   </td><td>$242       </td><td>$197       </td><td>$0         </td><td>$179       </td><td>$0   </td><td> 9,840    </td><td>127,500,000              </td></tr>\n",
       "\t<tr><td>WEST     </td><td>$810                   </td><td>$195   </td><td>$103       </td><td>$129       </td><td>$296       </td><td>$87        </td><td>$0   </td><td> 6,022    </td><td> 20,100,000              </td></tr>\n",
       "\t<tr><td>4        </td><td>NA                     </td><td>NA     </td><td>NA         </td><td>NA         </td><td>NA         </td><td>NA         </td><td>NA   </td><td>NA        </td><td>NA                       </td></tr>\n",
       "\t<tr><td>Footprint</td><td>Total Spend $(000) [Q3]</td><td>Digital</td><td>Social     </td><td>Paid Search</td><td>Direct Mail</td><td>DRTV       </td><td>Radio</td><td>Gross Adds</td><td>Cross Channel Impressions</td></tr>\n",
       "\t<tr><td>USA      </td><td>$1,890                 </td><td>$729   </td><td>$423       </td><td>$413       </td><td>$325       </td><td>$0         </td><td>$0   </td><td>16,735    </td><td>79,950,000               </td></tr>\n",
       "\t<tr><td>EAST     </td><td>$990                   </td><td>$372   </td><td>$197       </td><td>$242       </td><td>$179       </td><td>$0         </td><td>$0   </td><td>10,123    </td><td>69,000,000               </td></tr>\n",
       "\t<tr><td>WEST     </td><td>$900                   </td><td>$357   </td><td>$226       </td><td>$171       </td><td>$146       </td><td>$0         </td><td>$0   </td><td> 6,612    </td><td>10,950,000               </td></tr>\n",
       "\t<tr><td>5        </td><td>NA                     </td><td>NA     </td><td>NA         </td><td>NA         </td><td>NA         </td><td>NA         </td><td>NA   </td><td>NA        </td><td>NA                       </td></tr>\n",
       "\t<tr><td>Footprint</td><td>Total Spend $(000) [Q4]</td><td>Digital</td><td>Social     </td><td>Paid Search</td><td>Direct Mail</td><td>Radio      </td><td>DRTV </td><td>Gross Adds</td><td>Cross Channel Impressions</td></tr>\n",
       "\t<tr><td>USA      </td><td>$2,050                 </td><td>$725   </td><td>$418       </td><td>$409       </td><td>$324       </td><td>$174       </td><td>$0   </td><td>15,587    </td><td>79,950,000               </td></tr>\n",
       "\t<tr><td>EAST     </td><td>$990                   </td><td>$372   </td><td>$197       </td><td>$242       </td><td>$179       </td><td>$0         </td><td>$0   </td><td> 9,435    </td><td>69,000,000               </td></tr>\n",
       "\t<tr><td>WEST     </td><td>$1,060                 </td><td>$353   </td><td>$220       </td><td>$167       </td><td>$145       </td><td>$174       </td><td>$0   </td><td> 6,152    </td><td>10,950,000               </td></tr>\n",
       "\t<tr><td>6        </td><td>NA                     </td><td>NA     </td><td>NA         </td><td>NA         </td><td>NA         </td><td>NA         </td><td>NA   </td><td>NA        </td><td>NA                       </td></tr>\n",
       "\t<tr><td>Footprint</td><td>Total Spend $(000) [Q2]</td><td>Digital</td><td>DRTV       </td><td>Social     </td><td>Paid Search</td><td>Direct Mail</td><td>Radio</td><td>Gross Adds</td><td>Cross Channel Impressions</td></tr>\n",
       "\t<tr><td>USA      </td><td>$2,400                 </td><td>$720   </td><td>$540       </td><td>$416       </td><td>$403       </td><td>$320       </td><td>$0   </td><td>19,116    </td><td>79,950,000               </td></tr>\n",
       "\t<tr><td>EAST     </td><td>$990                   </td><td>$372   </td><td>$0         </td><td>$197       </td><td>$242       </td><td>$179       </td><td>$0   </td><td>10,960    </td><td>69,000,000               </td></tr>\n",
       "\t<tr><td>WEST     </td><td>$1,410                 </td><td>$348   </td><td>$540       </td><td>$219       </td><td>$162       </td><td>$142       </td><td>$0   </td><td> 8,157    </td><td>10,950,000               </td></tr>\n",
       "\t<tr><td>⋮</td><td>⋮</td><td>⋮</td><td>⋮</td><td>⋮</td><td>⋮</td><td>⋮</td><td>⋮</td><td>⋮</td><td>⋮</td></tr>\n",
       "\t<tr><td>51       </td><td>NA                     </td><td>NA     </td><td>NA     </td><td>NA         </td><td>NA    </td><td>NA         </td><td>NA         </td><td>NA        </td><td>NA                       </td></tr>\n",
       "\t<tr><td>Footprint</td><td>Total Spend $(000) [Q3]</td><td>Digital</td><td>DRTV   </td><td>Paid Search</td><td>Social</td><td>Radio      </td><td>Direct Mail</td><td>Gross Adds</td><td>Cross Channel Impressions</td></tr>\n",
       "\t<tr><td>USA      </td><td>$3,440                 </td><td>$882   </td><td>$714   </td><td>$521       </td><td>$477  </td><td>$467       </td><td>$380       </td><td>18,581    </td><td>89,100,000               </td></tr>\n",
       "\t<tr><td>EAST     </td><td>$2,820                 </td><td>$683   </td><td>$714   </td><td>$415       </td><td>$340  </td><td>$372       </td><td>$296       </td><td>12,203    </td><td>69,000,000               </td></tr>\n",
       "\t<tr><td>WEST     </td><td>$620                   </td><td>$199   </td><td>$0     </td><td>$105       </td><td>$137  </td><td>$95        </td><td>$83        </td><td> 6,378    </td><td>20,100,000               </td></tr>\n",
       "\t<tr><td>52       </td><td>NA                     </td><td>NA     </td><td>NA     </td><td>NA         </td><td>NA    </td><td>NA         </td><td>NA         </td><td>NA        </td><td>NA                       </td></tr>\n",
       "\t<tr><td>Footprint</td><td>Total Spend $(000) [Q2]</td><td>DRTV   </td><td>Digital</td><td>Paid Search</td><td>Social</td><td>Direct Mail</td><td>Radio      </td><td>Gross Adds</td><td>Cross Channel Impressions</td></tr>\n",
       "\t<tr><td>USA      </td><td>$3,630                 </td><td>$1,010 </td><td>$878   </td><td>$518       </td><td>$469  </td><td>$384       </td><td>$372       </td><td>19,909    </td><td>79,950,000               </td></tr>\n",
       "\t<tr><td>EAST     </td><td>$2,820                 </td><td>$714   </td><td>$683   </td><td>$415       </td><td>$340  </td><td>$296       </td><td>$372       </td><td>13,040    </td><td>69,000,000               </td></tr>\n",
       "\t<tr><td>WEST     </td><td>$810                   </td><td>$296   </td><td>$195   </td><td>$103       </td><td>$129  </td><td>$87        </td><td>$0         </td><td> 6,870    </td><td>10,950,000               </td></tr>\n",
       "\t<tr><td>53       </td><td>NA                     </td><td>NA     </td><td>NA     </td><td>NA         </td><td>NA    </td><td>NA         </td><td>NA         </td><td>NA        </td><td>NA                       </td></tr>\n",
       "\t<tr><td>Footprint</td><td>Total Spend $(000) [Q2]</td><td>Digital</td><td>DRTV   </td><td>Paid Search</td><td>Social</td><td>Direct Mail</td><td>Radio      </td><td>Gross Adds</td><td>Cross Channel Impressions</td></tr>\n",
       "\t<tr><td>USA      </td><td>$3,720                 </td><td>$1,040 </td><td>$714   </td><td>$586       </td><td>$566  </td><td>$442       </td><td>$372       </td><td>20,091    </td><td>138,450,000              </td></tr>\n",
       "\t<tr><td>EAST     </td><td>$2,820                 </td><td>$683   </td><td>$714   </td><td>$415       </td><td>$340  </td><td>$296       </td><td>$372       </td><td>13,300    </td><td>127,500,000              </td></tr>\n",
       "\t<tr><td>WEST     </td><td>$900                   </td><td>$357   </td><td>$0     </td><td>$171       </td><td>$226  </td><td>$146       </td><td>$0         </td><td> 6,792    </td><td> 10,950,000              </td></tr>\n",
       "\t<tr><td>54       </td><td>NA                     </td><td>NA     </td><td>NA     </td><td>NA         </td><td>NA    </td><td>NA         </td><td>NA         </td><td>NA        </td><td>NA                       </td></tr>\n",
       "\t<tr><td>Footprint</td><td>Total Spend $(000) [Q2]</td><td>Digital</td><td>DRTV   </td><td>Paid Search</td><td>Social</td><td>Radio      </td><td>Direct Mail</td><td>Gross Adds</td><td>Cross Channel Impressions</td></tr>\n",
       "\t<tr><td>USA      </td><td>$3,880                 </td><td>$1,036 </td><td>$714   </td><td>$583       </td><td>$560  </td><td>$547       </td><td>$441       </td><td>20,208    </td><td>89,100,000               </td></tr>\n",
       "\t<tr><td>EAST     </td><td>$2,820                 </td><td>$683   </td><td>$714   </td><td>$415       </td><td>$340  </td><td>$372       </td><td>$296       </td><td>13,040    </td><td>69,000,000               </td></tr>\n",
       "\t<tr><td>WEST     </td><td>$1,060                 </td><td>$353   </td><td>$0     </td><td>$167       </td><td>$220  </td><td>$174       </td><td>$145       </td><td> 7,169    </td><td>20,100,000               </td></tr>\n",
       "\t<tr><td>55       </td><td>NA                     </td><td>NA     </td><td>NA     </td><td>NA         </td><td>NA    </td><td>NA         </td><td>NA         </td><td>NA        </td><td>NA                       </td></tr>\n",
       "\t<tr><td>Footprint</td><td>Total Spend $(000) [Q3]</td><td>DRTV   </td><td>Digital</td><td>Paid Search</td><td>Social</td><td>Direct Mail</td><td>Radio      </td><td>Gross Adds</td><td>Cross Channel Impressions</td></tr>\n",
       "\t<tr><td>USA      </td><td>$4,230                 </td><td>$1,254 </td><td>$1,031 </td><td>$577       </td><td>$558  </td><td>$438       </td><td>$372       </td><td>20,245    </td><td>89,100,000               </td></tr>\n",
       "\t<tr><td>EAST     </td><td>$2,820                 </td><td>$714   </td><td>$683   </td><td>$415       </td><td>$340  </td><td>$296       </td><td>$372       </td><td>12,203    </td><td>69,000,000               </td></tr>\n",
       "\t<tr><td>WEST     </td><td>$1,410                 </td><td>$540   </td><td>$348   </td><td>$162       </td><td>$219  </td><td>$142       </td><td>$0         </td><td> 8,042    </td><td>20,100,000               </td></tr>\n",
       "\t<tr><td>56       </td><td>NA                     </td><td>NA     </td><td>NA     </td><td>NA         </td><td>NA    </td><td>NA         </td><td>NA         </td><td>NA        </td><td>NA                       </td></tr>\n",
       "\t<tr><td>Footprint</td><td>Total Spend $(000) [Q1]</td><td>DRTV   </td><td>Digital</td><td>Paid Search</td><td>Social</td><td>Radio      </td><td>Direct Mail</td><td>Gross Adds</td><td>Cross Channel Impressions</td></tr>\n",
       "\t<tr><td>USA      </td><td>$4,410                 </td><td>$1,253 </td><td>$1,033 </td><td>$576       </td><td>$561  </td><td>$546       </td><td>$442       </td><td>19,060    </td><td>89,100,000               </td></tr>\n",
       "\t<tr><td>EAST     </td><td>$2,820                 </td><td>$714   </td><td>$683   </td><td>$415       </td><td>$340  </td><td>$372       </td><td>$296       </td><td>11,660    </td><td>69,000,000               </td></tr>\n",
       "\t<tr><td>WEST     </td><td>$1,590                 </td><td>$539   </td><td>$350   </td><td>$161       </td><td>$222  </td><td>$174       </td><td>$145       </td><td> 7,400    </td><td>20,100,000               </td></tr>\n",
       "</tbody>\n",
       "</table>\n"
      ],
      "text/latex": [
       "A data.frame: 280 × 10\n",
       "\\begin{tabular}{llllllllll}\n",
       " X1 & X2 & X3 & X4 & X5 & X6 & X7 & X8 & X9 & X10\\\\\n",
       " <chr> & <chr> & <chr> & <chr> & <chr> & <chr> & <chr> & <chr> & <chr> & <chr>\\\\\n",
       "\\hline\n",
       "\t 1         & NA                      & NA      & NA          & NA          & NA          & NA          & NA    & NA         & NA                       \\\\\n",
       "\t Footprint & Total Spend \\$(000) {[}Q3{]} & Digital & Paid Search & Social      & Direct Mail & DRTV        & Radio & Gross Adds & Cross Channel Impressions\\\\\n",
       "\t USA       & \\$1,510                  & \\$568    & \\$349        & \\$333        & \\$260        & \\$0          & \\$0    & 16,722     & 147,600,000              \\\\\n",
       "\t EAST      & \\$990                    & \\$372    & \\$242        & \\$197        & \\$179        & \\$0          & \\$0    & 10,383     & 127,500,000              \\\\\n",
       "\t WEST      & \\$520                    & \\$195    & \\$108        & \\$136        & \\$81         & \\$0          & \\$0    &  6,339     &  20,100,000              \\\\\n",
       "\t 2         & NA                      & NA      & NA          & NA          & NA          & NA          & NA    & NA         & NA                       \\\\\n",
       "\t Footprint & Total Spend \\$(000) {[}Q1{]} & Digital & Paid Search & Social      & Direct Mail & Radio       & DRTV  & Gross Adds & Cross Channel Impressions\\\\\n",
       "\t USA       & \\$1,610                  & \\$571    & \\$347        & \\$334        & \\$262        & \\$95         & \\$0    & 15,225     & 89,100,000               \\\\\n",
       "\t EAST      & \\$990                    & \\$372    & \\$242        & \\$197        & \\$179        & \\$0          & \\$0    &  9,580     & 69,000,000               \\\\\n",
       "\t WEST      & \\$620                    & \\$199    & \\$105        & \\$137        & \\$83         & \\$95         & \\$0    &  5,645     & 20,100,000               \\\\\n",
       "\t 3         & NA                      & NA      & NA          & NA          & NA          & NA          & NA    & NA         & NA                       \\\\\n",
       "\t Footprint & Total Spend \\$(000) {[}Q1{]} & Digital & Paid Search & Social      & DRTV        & Direct Mail & Radio & Gross Adds & Cross Channel Impressions\\\\\n",
       "\t USA       & \\$1,800                  & \\$567    & \\$344        & \\$326        & \\$296        & \\$266        & \\$0    & 15,862     & 147,600,000              \\\\\n",
       "\t EAST      & \\$990                    & \\$372    & \\$242        & \\$197        & \\$0          & \\$179        & \\$0    &  9,840     & 127,500,000              \\\\\n",
       "\t WEST      & \\$810                    & \\$195    & \\$103        & \\$129        & \\$296        & \\$87         & \\$0    &  6,022     &  20,100,000              \\\\\n",
       "\t 4         & NA                      & NA      & NA          & NA          & NA          & NA          & NA    & NA         & NA                       \\\\\n",
       "\t Footprint & Total Spend \\$(000) {[}Q3{]} & Digital & Social      & Paid Search & Direct Mail & DRTV        & Radio & Gross Adds & Cross Channel Impressions\\\\\n",
       "\t USA       & \\$1,890                  & \\$729    & \\$423        & \\$413        & \\$325        & \\$0          & \\$0    & 16,735     & 79,950,000               \\\\\n",
       "\t EAST      & \\$990                    & \\$372    & \\$197        & \\$242        & \\$179        & \\$0          & \\$0    & 10,123     & 69,000,000               \\\\\n",
       "\t WEST      & \\$900                    & \\$357    & \\$226        & \\$171        & \\$146        & \\$0          & \\$0    &  6,612     & 10,950,000               \\\\\n",
       "\t 5         & NA                      & NA      & NA          & NA          & NA          & NA          & NA    & NA         & NA                       \\\\\n",
       "\t Footprint & Total Spend \\$(000) {[}Q4{]} & Digital & Social      & Paid Search & Direct Mail & Radio       & DRTV  & Gross Adds & Cross Channel Impressions\\\\\n",
       "\t USA       & \\$2,050                  & \\$725    & \\$418        & \\$409        & \\$324        & \\$174        & \\$0    & 15,587     & 79,950,000               \\\\\n",
       "\t EAST      & \\$990                    & \\$372    & \\$197        & \\$242        & \\$179        & \\$0          & \\$0    &  9,435     & 69,000,000               \\\\\n",
       "\t WEST      & \\$1,060                  & \\$353    & \\$220        & \\$167        & \\$145        & \\$174        & \\$0    &  6,152     & 10,950,000               \\\\\n",
       "\t 6         & NA                      & NA      & NA          & NA          & NA          & NA          & NA    & NA         & NA                       \\\\\n",
       "\t Footprint & Total Spend \\$(000) {[}Q2{]} & Digital & DRTV        & Social      & Paid Search & Direct Mail & Radio & Gross Adds & Cross Channel Impressions\\\\\n",
       "\t USA       & \\$2,400                  & \\$720    & \\$540        & \\$416        & \\$403        & \\$320        & \\$0    & 19,116     & 79,950,000               \\\\\n",
       "\t EAST      & \\$990                    & \\$372    & \\$0          & \\$197        & \\$242        & \\$179        & \\$0    & 10,960     & 69,000,000               \\\\\n",
       "\t WEST      & \\$1,410                  & \\$348    & \\$540        & \\$219        & \\$162        & \\$142        & \\$0    &  8,157     & 10,950,000               \\\\\n",
       "\t ⋮ & ⋮ & ⋮ & ⋮ & ⋮ & ⋮ & ⋮ & ⋮ & ⋮ & ⋮\\\\\n",
       "\t 51        & NA                      & NA      & NA      & NA          & NA     & NA          & NA          & NA         & NA                       \\\\\n",
       "\t Footprint & Total Spend \\$(000) {[}Q3{]} & Digital & DRTV    & Paid Search & Social & Radio       & Direct Mail & Gross Adds & Cross Channel Impressions\\\\\n",
       "\t USA       & \\$3,440                  & \\$882    & \\$714    & \\$521        & \\$477   & \\$467        & \\$380        & 18,581     & 89,100,000               \\\\\n",
       "\t EAST      & \\$2,820                  & \\$683    & \\$714    & \\$415        & \\$340   & \\$372        & \\$296        & 12,203     & 69,000,000               \\\\\n",
       "\t WEST      & \\$620                    & \\$199    & \\$0      & \\$105        & \\$137   & \\$95         & \\$83         &  6,378     & 20,100,000               \\\\\n",
       "\t 52        & NA                      & NA      & NA      & NA          & NA     & NA          & NA          & NA         & NA                       \\\\\n",
       "\t Footprint & Total Spend \\$(000) {[}Q2{]} & DRTV    & Digital & Paid Search & Social & Direct Mail & Radio       & Gross Adds & Cross Channel Impressions\\\\\n",
       "\t USA       & \\$3,630                  & \\$1,010  & \\$878    & \\$518        & \\$469   & \\$384        & \\$372        & 19,909     & 79,950,000               \\\\\n",
       "\t EAST      & \\$2,820                  & \\$714    & \\$683    & \\$415        & \\$340   & \\$296        & \\$372        & 13,040     & 69,000,000               \\\\\n",
       "\t WEST      & \\$810                    & \\$296    & \\$195    & \\$103        & \\$129   & \\$87         & \\$0          &  6,870     & 10,950,000               \\\\\n",
       "\t 53        & NA                      & NA      & NA      & NA          & NA     & NA          & NA          & NA         & NA                       \\\\\n",
       "\t Footprint & Total Spend \\$(000) {[}Q2{]} & Digital & DRTV    & Paid Search & Social & Direct Mail & Radio       & Gross Adds & Cross Channel Impressions\\\\\n",
       "\t USA       & \\$3,720                  & \\$1,040  & \\$714    & \\$586        & \\$566   & \\$442        & \\$372        & 20,091     & 138,450,000              \\\\\n",
       "\t EAST      & \\$2,820                  & \\$683    & \\$714    & \\$415        & \\$340   & \\$296        & \\$372        & 13,300     & 127,500,000              \\\\\n",
       "\t WEST      & \\$900                    & \\$357    & \\$0      & \\$171        & \\$226   & \\$146        & \\$0          &  6,792     &  10,950,000              \\\\\n",
       "\t 54        & NA                      & NA      & NA      & NA          & NA     & NA          & NA          & NA         & NA                       \\\\\n",
       "\t Footprint & Total Spend \\$(000) {[}Q2{]} & Digital & DRTV    & Paid Search & Social & Radio       & Direct Mail & Gross Adds & Cross Channel Impressions\\\\\n",
       "\t USA       & \\$3,880                  & \\$1,036  & \\$714    & \\$583        & \\$560   & \\$547        & \\$441        & 20,208     & 89,100,000               \\\\\n",
       "\t EAST      & \\$2,820                  & \\$683    & \\$714    & \\$415        & \\$340   & \\$372        & \\$296        & 13,040     & 69,000,000               \\\\\n",
       "\t WEST      & \\$1,060                  & \\$353    & \\$0      & \\$167        & \\$220   & \\$174        & \\$145        &  7,169     & 20,100,000               \\\\\n",
       "\t 55        & NA                      & NA      & NA      & NA          & NA     & NA          & NA          & NA         & NA                       \\\\\n",
       "\t Footprint & Total Spend \\$(000) {[}Q3{]} & DRTV    & Digital & Paid Search & Social & Direct Mail & Radio       & Gross Adds & Cross Channel Impressions\\\\\n",
       "\t USA       & \\$4,230                  & \\$1,254  & \\$1,031  & \\$577        & \\$558   & \\$438        & \\$372        & 20,245     & 89,100,000               \\\\\n",
       "\t EAST      & \\$2,820                  & \\$714    & \\$683    & \\$415        & \\$340   & \\$296        & \\$372        & 12,203     & 69,000,000               \\\\\n",
       "\t WEST      & \\$1,410                  & \\$540    & \\$348    & \\$162        & \\$219   & \\$142        & \\$0          &  8,042     & 20,100,000               \\\\\n",
       "\t 56        & NA                      & NA      & NA      & NA          & NA     & NA          & NA          & NA         & NA                       \\\\\n",
       "\t Footprint & Total Spend \\$(000) {[}Q1{]} & DRTV    & Digital & Paid Search & Social & Radio       & Direct Mail & Gross Adds & Cross Channel Impressions\\\\\n",
       "\t USA       & \\$4,410                  & \\$1,253  & \\$1,033  & \\$576        & \\$561   & \\$546        & \\$442        & 19,060     & 89,100,000               \\\\\n",
       "\t EAST      & \\$2,820                  & \\$714    & \\$683    & \\$415        & \\$340   & \\$372        & \\$296        & 11,660     & 69,000,000               \\\\\n",
       "\t WEST      & \\$1,590                  & \\$539    & \\$350    & \\$161        & \\$222   & \\$174        & \\$145        &  7,400     & 20,100,000               \\\\\n",
       "\\end{tabular}\n"
      ],
      "text/markdown": [
       "\n",
       "A data.frame: 280 × 10\n",
       "\n",
       "| X1 &lt;chr&gt; | X2 &lt;chr&gt; | X3 &lt;chr&gt; | X4 &lt;chr&gt; | X5 &lt;chr&gt; | X6 &lt;chr&gt; | X7 &lt;chr&gt; | X8 &lt;chr&gt; | X9 &lt;chr&gt; | X10 &lt;chr&gt; |\n",
       "|---|---|---|---|---|---|---|---|---|---|\n",
       "| 1         | NA                      | NA      | NA          | NA          | NA          | NA          | NA    | NA         | NA                        |\n",
       "| Footprint | Total Spend $(000) [Q3] | Digital | Paid Search | Social      | Direct Mail | DRTV        | Radio | Gross Adds | Cross Channel Impressions |\n",
       "| USA       | $1,510                  | $568    | $349        | $333        | $260        | $0          | $0    | 16,722     | 147,600,000               |\n",
       "| EAST      | $990                    | $372    | $242        | $197        | $179        | $0          | $0    | 10,383     | 127,500,000               |\n",
       "| WEST      | $520                    | $195    | $108        | $136        | $81         | $0          | $0    |  6,339     |  20,100,000               |\n",
       "| 2         | NA                      | NA      | NA          | NA          | NA          | NA          | NA    | NA         | NA                        |\n",
       "| Footprint | Total Spend $(000) [Q1] | Digital | Paid Search | Social      | Direct Mail | Radio       | DRTV  | Gross Adds | Cross Channel Impressions |\n",
       "| USA       | $1,610                  | $571    | $347        | $334        | $262        | $95         | $0    | 15,225     | 89,100,000                |\n",
       "| EAST      | $990                    | $372    | $242        | $197        | $179        | $0          | $0    |  9,580     | 69,000,000                |\n",
       "| WEST      | $620                    | $199    | $105        | $137        | $83         | $95         | $0    |  5,645     | 20,100,000                |\n",
       "| 3         | NA                      | NA      | NA          | NA          | NA          | NA          | NA    | NA         | NA                        |\n",
       "| Footprint | Total Spend $(000) [Q1] | Digital | Paid Search | Social      | DRTV        | Direct Mail | Radio | Gross Adds | Cross Channel Impressions |\n",
       "| USA       | $1,800                  | $567    | $344        | $326        | $296        | $266        | $0    | 15,862     | 147,600,000               |\n",
       "| EAST      | $990                    | $372    | $242        | $197        | $0          | $179        | $0    |  9,840     | 127,500,000               |\n",
       "| WEST      | $810                    | $195    | $103        | $129        | $296        | $87         | $0    |  6,022     |  20,100,000               |\n",
       "| 4         | NA                      | NA      | NA          | NA          | NA          | NA          | NA    | NA         | NA                        |\n",
       "| Footprint | Total Spend $(000) [Q3] | Digital | Social      | Paid Search | Direct Mail | DRTV        | Radio | Gross Adds | Cross Channel Impressions |\n",
       "| USA       | $1,890                  | $729    | $423        | $413        | $325        | $0          | $0    | 16,735     | 79,950,000                |\n",
       "| EAST      | $990                    | $372    | $197        | $242        | $179        | $0          | $0    | 10,123     | 69,000,000                |\n",
       "| WEST      | $900                    | $357    | $226        | $171        | $146        | $0          | $0    |  6,612     | 10,950,000                |\n",
       "| 5         | NA                      | NA      | NA          | NA          | NA          | NA          | NA    | NA         | NA                        |\n",
       "| Footprint | Total Spend $(000) [Q4] | Digital | Social      | Paid Search | Direct Mail | Radio       | DRTV  | Gross Adds | Cross Channel Impressions |\n",
       "| USA       | $2,050                  | $725    | $418        | $409        | $324        | $174        | $0    | 15,587     | 79,950,000                |\n",
       "| EAST      | $990                    | $372    | $197        | $242        | $179        | $0          | $0    |  9,435     | 69,000,000                |\n",
       "| WEST      | $1,060                  | $353    | $220        | $167        | $145        | $174        | $0    |  6,152     | 10,950,000                |\n",
       "| 6         | NA                      | NA      | NA          | NA          | NA          | NA          | NA    | NA         | NA                        |\n",
       "| Footprint | Total Spend $(000) [Q2] | Digital | DRTV        | Social      | Paid Search | Direct Mail | Radio | Gross Adds | Cross Channel Impressions |\n",
       "| USA       | $2,400                  | $720    | $540        | $416        | $403        | $320        | $0    | 19,116     | 79,950,000                |\n",
       "| EAST      | $990                    | $372    | $0          | $197        | $242        | $179        | $0    | 10,960     | 69,000,000                |\n",
       "| WEST      | $1,410                  | $348    | $540        | $219        | $162        | $142        | $0    |  8,157     | 10,950,000                |\n",
       "| ⋮ | ⋮ | ⋮ | ⋮ | ⋮ | ⋮ | ⋮ | ⋮ | ⋮ | ⋮ |\n",
       "| 51        | NA                      | NA      | NA      | NA          | NA     | NA          | NA          | NA         | NA                        |\n",
       "| Footprint | Total Spend $(000) [Q3] | Digital | DRTV    | Paid Search | Social | Radio       | Direct Mail | Gross Adds | Cross Channel Impressions |\n",
       "| USA       | $3,440                  | $882    | $714    | $521        | $477   | $467        | $380        | 18,581     | 89,100,000                |\n",
       "| EAST      | $2,820                  | $683    | $714    | $415        | $340   | $372        | $296        | 12,203     | 69,000,000                |\n",
       "| WEST      | $620                    | $199    | $0      | $105        | $137   | $95         | $83         |  6,378     | 20,100,000                |\n",
       "| 52        | NA                      | NA      | NA      | NA          | NA     | NA          | NA          | NA         | NA                        |\n",
       "| Footprint | Total Spend $(000) [Q2] | DRTV    | Digital | Paid Search | Social | Direct Mail | Radio       | Gross Adds | Cross Channel Impressions |\n",
       "| USA       | $3,630                  | $1,010  | $878    | $518        | $469   | $384        | $372        | 19,909     | 79,950,000                |\n",
       "| EAST      | $2,820                  | $714    | $683    | $415        | $340   | $296        | $372        | 13,040     | 69,000,000                |\n",
       "| WEST      | $810                    | $296    | $195    | $103        | $129   | $87         | $0          |  6,870     | 10,950,000                |\n",
       "| 53        | NA                      | NA      | NA      | NA          | NA     | NA          | NA          | NA         | NA                        |\n",
       "| Footprint | Total Spend $(000) [Q2] | Digital | DRTV    | Paid Search | Social | Direct Mail | Radio       | Gross Adds | Cross Channel Impressions |\n",
       "| USA       | $3,720                  | $1,040  | $714    | $586        | $566   | $442        | $372        | 20,091     | 138,450,000               |\n",
       "| EAST      | $2,820                  | $683    | $714    | $415        | $340   | $296        | $372        | 13,300     | 127,500,000               |\n",
       "| WEST      | $900                    | $357    | $0      | $171        | $226   | $146        | $0          |  6,792     |  10,950,000               |\n",
       "| 54        | NA                      | NA      | NA      | NA          | NA     | NA          | NA          | NA         | NA                        |\n",
       "| Footprint | Total Spend $(000) [Q2] | Digital | DRTV    | Paid Search | Social | Radio       | Direct Mail | Gross Adds | Cross Channel Impressions |\n",
       "| USA       | $3,880                  | $1,036  | $714    | $583        | $560   | $547        | $441        | 20,208     | 89,100,000                |\n",
       "| EAST      | $2,820                  | $683    | $714    | $415        | $340   | $372        | $296        | 13,040     | 69,000,000                |\n",
       "| WEST      | $1,060                  | $353    | $0      | $167        | $220   | $174        | $145        |  7,169     | 20,100,000                |\n",
       "| 55        | NA                      | NA      | NA      | NA          | NA     | NA          | NA          | NA         | NA                        |\n",
       "| Footprint | Total Spend $(000) [Q3] | DRTV    | Digital | Paid Search | Social | Direct Mail | Radio       | Gross Adds | Cross Channel Impressions |\n",
       "| USA       | $4,230                  | $1,254  | $1,031  | $577        | $558   | $438        | $372        | 20,245     | 89,100,000                |\n",
       "| EAST      | $2,820                  | $714    | $683    | $415        | $340   | $296        | $372        | 12,203     | 69,000,000                |\n",
       "| WEST      | $1,410                  | $540    | $348    | $162        | $219   | $142        | $0          |  8,042     | 20,100,000                |\n",
       "| 56        | NA                      | NA      | NA      | NA          | NA     | NA          | NA          | NA         | NA                        |\n",
       "| Footprint | Total Spend $(000) [Q1] | DRTV    | Digital | Paid Search | Social | Radio       | Direct Mail | Gross Adds | Cross Channel Impressions |\n",
       "| USA       | $4,410                  | $1,253  | $1,033  | $576        | $561   | $546        | $442        | 19,060     | 89,100,000                |\n",
       "| EAST      | $2,820                  | $714    | $683    | $415        | $340   | $372        | $296        | 11,660     | 69,000,000                |\n",
       "| WEST      | $1,590                  | $539    | $350    | $161        | $222   | $174        | $145        |  7,400     | 20,100,000                |\n",
       "\n"
      ],
      "text/plain": [
       "    X1        X2                      X3      X4          X5         \n",
       "1   1         NA                      NA      NA          NA         \n",
       "2   Footprint Total Spend $(000) [Q3] Digital Paid Search Social     \n",
       "3   USA       $1,510                  $568    $349        $333       \n",
       "4   EAST      $990                    $372    $242        $197       \n",
       "5   WEST      $520                    $195    $108        $136       \n",
       "6   2         NA                      NA      NA          NA         \n",
       "7   Footprint Total Spend $(000) [Q1] Digital Paid Search Social     \n",
       "8   USA       $1,610                  $571    $347        $334       \n",
       "9   EAST      $990                    $372    $242        $197       \n",
       "10  WEST      $620                    $199    $105        $137       \n",
       "11  3         NA                      NA      NA          NA         \n",
       "12  Footprint Total Spend $(000) [Q1] Digital Paid Search Social     \n",
       "13  USA       $1,800                  $567    $344        $326       \n",
       "14  EAST      $990                    $372    $242        $197       \n",
       "15  WEST      $810                    $195    $103        $129       \n",
       "16  4         NA                      NA      NA          NA         \n",
       "17  Footprint Total Spend $(000) [Q3] Digital Social      Paid Search\n",
       "18  USA       $1,890                  $729    $423        $413       \n",
       "19  EAST      $990                    $372    $197        $242       \n",
       "20  WEST      $900                    $357    $226        $171       \n",
       "21  5         NA                      NA      NA          NA         \n",
       "22  Footprint Total Spend $(000) [Q4] Digital Social      Paid Search\n",
       "23  USA       $2,050                  $725    $418        $409       \n",
       "24  EAST      $990                    $372    $197        $242       \n",
       "25  WEST      $1,060                  $353    $220        $167       \n",
       "26  6         NA                      NA      NA          NA         \n",
       "27  Footprint Total Spend $(000) [Q2] Digital DRTV        Social     \n",
       "28  USA       $2,400                  $720    $540        $416       \n",
       "29  EAST      $990                    $372    $0          $197       \n",
       "30  WEST      $1,410                  $348    $540        $219       \n",
       "⋮   ⋮         ⋮                       ⋮       ⋮           ⋮          \n",
       "251 51        NA                      NA      NA          NA         \n",
       "252 Footprint Total Spend $(000) [Q3] Digital DRTV        Paid Search\n",
       "253 USA       $3,440                  $882    $714        $521       \n",
       "254 EAST      $2,820                  $683    $714        $415       \n",
       "255 WEST      $620                    $199    $0          $105       \n",
       "256 52        NA                      NA      NA          NA         \n",
       "257 Footprint Total Spend $(000) [Q2] DRTV    Digital     Paid Search\n",
       "258 USA       $3,630                  $1,010  $878        $518       \n",
       "259 EAST      $2,820                  $714    $683        $415       \n",
       "260 WEST      $810                    $296    $195        $103       \n",
       "261 53        NA                      NA      NA          NA         \n",
       "262 Footprint Total Spend $(000) [Q2] Digital DRTV        Paid Search\n",
       "263 USA       $3,720                  $1,040  $714        $586       \n",
       "264 EAST      $2,820                  $683    $714        $415       \n",
       "265 WEST      $900                    $357    $0          $171       \n",
       "266 54        NA                      NA      NA          NA         \n",
       "267 Footprint Total Spend $(000) [Q2] Digital DRTV        Paid Search\n",
       "268 USA       $3,880                  $1,036  $714        $583       \n",
       "269 EAST      $2,820                  $683    $714        $415       \n",
       "270 WEST      $1,060                  $353    $0          $167       \n",
       "271 55        NA                      NA      NA          NA         \n",
       "272 Footprint Total Spend $(000) [Q3] DRTV    Digital     Paid Search\n",
       "273 USA       $4,230                  $1,254  $1,031      $577       \n",
       "274 EAST      $2,820                  $714    $683        $415       \n",
       "275 WEST      $1,410                  $540    $348        $162       \n",
       "276 56        NA                      NA      NA          NA         \n",
       "277 Footprint Total Spend $(000) [Q1] DRTV    Digital     Paid Search\n",
       "278 USA       $4,410                  $1,253  $1,033      $576       \n",
       "279 EAST      $2,820                  $714    $683        $415       \n",
       "280 WEST      $1,590                  $539    $350        $161       \n",
       "    X6          X7          X8          X9         X10                      \n",
       "1   NA          NA          NA          NA         NA                       \n",
       "2   Direct Mail DRTV        Radio       Gross Adds Cross Channel Impressions\n",
       "3   $260        $0          $0          16,722     147,600,000              \n",
       "4   $179        $0          $0          10,383     127,500,000              \n",
       "5   $81         $0          $0           6,339      20,100,000              \n",
       "6   NA          NA          NA          NA         NA                       \n",
       "7   Direct Mail Radio       DRTV        Gross Adds Cross Channel Impressions\n",
       "8   $262        $95         $0          15,225     89,100,000               \n",
       "9   $179        $0          $0           9,580     69,000,000               \n",
       "10  $83         $95         $0           5,645     20,100,000               \n",
       "11  NA          NA          NA          NA         NA                       \n",
       "12  DRTV        Direct Mail Radio       Gross Adds Cross Channel Impressions\n",
       "13  $296        $266        $0          15,862     147,600,000              \n",
       "14  $0          $179        $0           9,840     127,500,000              \n",
       "15  $296        $87         $0           6,022      20,100,000              \n",
       "16  NA          NA          NA          NA         NA                       \n",
       "17  Direct Mail DRTV        Radio       Gross Adds Cross Channel Impressions\n",
       "18  $325        $0          $0          16,735     79,950,000               \n",
       "19  $179        $0          $0          10,123     69,000,000               \n",
       "20  $146        $0          $0           6,612     10,950,000               \n",
       "21  NA          NA          NA          NA         NA                       \n",
       "22  Direct Mail Radio       DRTV        Gross Adds Cross Channel Impressions\n",
       "23  $324        $174        $0          15,587     79,950,000               \n",
       "24  $179        $0          $0           9,435     69,000,000               \n",
       "25  $145        $174        $0           6,152     10,950,000               \n",
       "26  NA          NA          NA          NA         NA                       \n",
       "27  Paid Search Direct Mail Radio       Gross Adds Cross Channel Impressions\n",
       "28  $403        $320        $0          19,116     79,950,000               \n",
       "29  $242        $179        $0          10,960     69,000,000               \n",
       "30  $162        $142        $0           8,157     10,950,000               \n",
       "⋮   ⋮           ⋮           ⋮           ⋮          ⋮                        \n",
       "251 NA          NA          NA          NA         NA                       \n",
       "252 Social      Radio       Direct Mail Gross Adds Cross Channel Impressions\n",
       "253 $477        $467        $380        18,581     89,100,000               \n",
       "254 $340        $372        $296        12,203     69,000,000               \n",
       "255 $137        $95         $83          6,378     20,100,000               \n",
       "256 NA          NA          NA          NA         NA                       \n",
       "257 Social      Direct Mail Radio       Gross Adds Cross Channel Impressions\n",
       "258 $469        $384        $372        19,909     79,950,000               \n",
       "259 $340        $296        $372        13,040     69,000,000               \n",
       "260 $129        $87         $0           6,870     10,950,000               \n",
       "261 NA          NA          NA          NA         NA                       \n",
       "262 Social      Direct Mail Radio       Gross Adds Cross Channel Impressions\n",
       "263 $566        $442        $372        20,091     138,450,000              \n",
       "264 $340        $296        $372        13,300     127,500,000              \n",
       "265 $226        $146        $0           6,792      10,950,000              \n",
       "266 NA          NA          NA          NA         NA                       \n",
       "267 Social      Radio       Direct Mail Gross Adds Cross Channel Impressions\n",
       "268 $560        $547        $441        20,208     89,100,000               \n",
       "269 $340        $372        $296        13,040     69,000,000               \n",
       "270 $220        $174        $145         7,169     20,100,000               \n",
       "271 NA          NA          NA          NA         NA                       \n",
       "272 Social      Direct Mail Radio       Gross Adds Cross Channel Impressions\n",
       "273 $558        $438        $372        20,245     89,100,000               \n",
       "274 $340        $296        $372        12,203     69,000,000               \n",
       "275 $219        $142        $0           8,042     20,100,000               \n",
       "276 NA          NA          NA          NA         NA                       \n",
       "277 Social      Radio       Direct Mail Gross Adds Cross Channel Impressions\n",
       "278 $561        $546        $442        19,060     89,100,000               \n",
       "279 $340        $372        $296        11,660     69,000,000               \n",
       "280 $222        $174        $145         7,400     20,100,000               "
      ]
     },
     "metadata": {},
     "output_type": "display_data"
    }
   ],
   "source": [
    "all_casesdf<- res$case_df\n",
    "all_casesdf"
   ]
  },
  {
   "cell_type": "code",
   "execution_count": 125,
   "metadata": {},
   "outputs": [],
   "source": [
    "write.table(all_casesdf,'test_cases_pkg/All_Cases_Combined.csv',row.names = F,na = '',sep = ',',col.names = F)"
   ]
  },
  {
   "cell_type": "code",
   "execution_count": 126,
   "metadata": {},
   "outputs": [
    {
     "data": {
      "text/html": [
       "<style>\n",
       ".list-inline {list-style: none; margin:0; padding: 0}\n",
       ".list-inline>li {display: inline-block}\n",
       ".list-inline>li:not(:last-child)::after {content: \"\\00b7\"; padding: 0 .5ex}\n",
       "</style>\n",
       "<ol class=list-inline><li>'case1'</li><li>'case2'</li><li>'case3'</li><li>'case4'</li><li>'case5'</li><li>'case6'</li><li>'case7'</li><li>'case8'</li><li>'case9'</li><li>'case10'</li><li>'case11'</li><li>'case12'</li><li>'case13'</li><li>'case14'</li><li>'case15'</li><li>'case16'</li><li>'case17'</li><li>'case18'</li><li>'case19'</li><li>'case20'</li><li>'case21'</li><li>'case22'</li><li>'case23'</li><li>'case24'</li><li>'case25'</li><li>'case26'</li><li>'case27'</li><li>'case28'</li><li>'case29'</li><li>'case30'</li><li>'case31'</li><li>'case32'</li><li>'case33'</li><li>'case34'</li><li>'case35'</li><li>'case36'</li><li>'case37'</li><li>'case38'</li><li>'case39'</li><li>'case40'</li><li>'case41'</li><li>'case42'</li><li>'case43'</li><li>'case44'</li><li>'case45'</li><li>'case46'</li><li>'case47'</li><li>'case48'</li><li>'case49'</li><li>'case50'</li><li>'case51'</li><li>'case52'</li><li>'case53'</li><li>'case54'</li><li>'case55'</li><li>'case56'</li></ol>\n"
      ],
      "text/latex": [
       "\\begin{enumerate*}\n",
       "\\item 'case1'\n",
       "\\item 'case2'\n",
       "\\item 'case3'\n",
       "\\item 'case4'\n",
       "\\item 'case5'\n",
       "\\item 'case6'\n",
       "\\item 'case7'\n",
       "\\item 'case8'\n",
       "\\item 'case9'\n",
       "\\item 'case10'\n",
       "\\item 'case11'\n",
       "\\item 'case12'\n",
       "\\item 'case13'\n",
       "\\item 'case14'\n",
       "\\item 'case15'\n",
       "\\item 'case16'\n",
       "\\item 'case17'\n",
       "\\item 'case18'\n",
       "\\item 'case19'\n",
       "\\item 'case20'\n",
       "\\item 'case21'\n",
       "\\item 'case22'\n",
       "\\item 'case23'\n",
       "\\item 'case24'\n",
       "\\item 'case25'\n",
       "\\item 'case26'\n",
       "\\item 'case27'\n",
       "\\item 'case28'\n",
       "\\item 'case29'\n",
       "\\item 'case30'\n",
       "\\item 'case31'\n",
       "\\item 'case32'\n",
       "\\item 'case33'\n",
       "\\item 'case34'\n",
       "\\item 'case35'\n",
       "\\item 'case36'\n",
       "\\item 'case37'\n",
       "\\item 'case38'\n",
       "\\item 'case39'\n",
       "\\item 'case40'\n",
       "\\item 'case41'\n",
       "\\item 'case42'\n",
       "\\item 'case43'\n",
       "\\item 'case44'\n",
       "\\item 'case45'\n",
       "\\item 'case46'\n",
       "\\item 'case47'\n",
       "\\item 'case48'\n",
       "\\item 'case49'\n",
       "\\item 'case50'\n",
       "\\item 'case51'\n",
       "\\item 'case52'\n",
       "\\item 'case53'\n",
       "\\item 'case54'\n",
       "\\item 'case55'\n",
       "\\item 'case56'\n",
       "\\end{enumerate*}\n"
      ],
      "text/markdown": [
       "1. 'case1'\n",
       "2. 'case2'\n",
       "3. 'case3'\n",
       "4. 'case4'\n",
       "5. 'case5'\n",
       "6. 'case6'\n",
       "7. 'case7'\n",
       "8. 'case8'\n",
       "9. 'case9'\n",
       "10. 'case10'\n",
       "11. 'case11'\n",
       "12. 'case12'\n",
       "13. 'case13'\n",
       "14. 'case14'\n",
       "15. 'case15'\n",
       "16. 'case16'\n",
       "17. 'case17'\n",
       "18. 'case18'\n",
       "19. 'case19'\n",
       "20. 'case20'\n",
       "21. 'case21'\n",
       "22. 'case22'\n",
       "23. 'case23'\n",
       "24. 'case24'\n",
       "25. 'case25'\n",
       "26. 'case26'\n",
       "27. 'case27'\n",
       "28. 'case28'\n",
       "29. 'case29'\n",
       "30. 'case30'\n",
       "31. 'case31'\n",
       "32. 'case32'\n",
       "33. 'case33'\n",
       "34. 'case34'\n",
       "35. 'case35'\n",
       "36. 'case36'\n",
       "37. 'case37'\n",
       "38. 'case38'\n",
       "39. 'case39'\n",
       "40. 'case40'\n",
       "41. 'case41'\n",
       "42. 'case42'\n",
       "43. 'case43'\n",
       "44. 'case44'\n",
       "45. 'case45'\n",
       "46. 'case46'\n",
       "47. 'case47'\n",
       "48. 'case48'\n",
       "49. 'case49'\n",
       "50. 'case50'\n",
       "51. 'case51'\n",
       "52. 'case52'\n",
       "53. 'case53'\n",
       "54. 'case54'\n",
       "55. 'case55'\n",
       "56. 'case56'\n",
       "\n",
       "\n"
      ],
      "text/plain": [
       " [1] \"case1\"  \"case2\"  \"case3\"  \"case4\"  \"case5\"  \"case6\"  \"case7\"  \"case8\" \n",
       " [9] \"case9\"  \"case10\" \"case11\" \"case12\" \"case13\" \"case14\" \"case15\" \"case16\"\n",
       "[17] \"case17\" \"case18\" \"case19\" \"case20\" \"case21\" \"case22\" \"case23\" \"case24\"\n",
       "[25] \"case25\" \"case26\" \"case27\" \"case28\" \"case29\" \"case30\" \"case31\" \"case32\"\n",
       "[33] \"case33\" \"case34\" \"case35\" \"case36\" \"case37\" \"case38\" \"case39\" \"case40\"\n",
       "[41] \"case41\" \"case42\" \"case43\" \"case44\" \"case45\" \"case46\" \"case47\" \"case48\"\n",
       "[49] \"case49\" \"case50\" \"case51\" \"case52\" \"case53\" \"case54\" \"case55\" \"case56\""
      ]
     },
     "metadata": {},
     "output_type": "display_data"
    }
   ],
   "source": [
    "all_cases_list <- res$case_list\n",
    "names(all_cases_list)"
   ]
  },
  {
   "cell_type": "code",
   "execution_count": 127,
   "metadata": {
    "scrolled": true
   },
   "outputs": [
    {
     "data": {
      "text/html": [
       "<table>\n",
       "<caption>A data.frame: 14 × 10</caption>\n",
       "<thead>\n",
       "\t<tr><th scope=col>X1</th><th scope=col>X2</th><th scope=col>X3</th><th scope=col>X4</th><th scope=col>X5</th><th scope=col>X6</th><th scope=col>X7</th><th scope=col>X8</th><th scope=col>X9</th><th scope=col>X10</th></tr>\n",
       "\t<tr><th scope=col>&lt;chr&gt;</th><th scope=col>&lt;chr&gt;</th><th scope=col>&lt;chr&gt;</th><th scope=col>&lt;chr&gt;</th><th scope=col>&lt;chr&gt;</th><th scope=col>&lt;chr&gt;</th><th scope=col>&lt;chr&gt;</th><th scope=col>&lt;chr&gt;</th><th scope=col>&lt;chr&gt;</th><th scope=col>&lt;chr&gt;</th></tr>\n",
       "</thead>\n",
       "<tbody>\n",
       "\t<tr><td>Input_OPT_budget          </td><td>990000                 </td><td>NA     </td><td>NA         </td><td>NA    </td><td>NA         </td><td>NA  </td><td>NA   </td><td>NA        </td><td>NA                       </td></tr>\n",
       "\t<tr><td>Input_SDL_budget          </td><td>520000                 </td><td>NA     </td><td>NA         </td><td>NA    </td><td>NA         </td><td>NA  </td><td>NA   </td><td>NA        </td><td>NA                       </td></tr>\n",
       "\t<tr><td>input_period              </td><td>Q3                     </td><td>NA     </td><td>NA         </td><td>NA    </td><td>NA         </td><td>NA  </td><td>NA   </td><td>NA        </td><td>NA                       </td></tr>\n",
       "\t<tr><td>Input_OPT_crosschannel_imp</td><td>127500000              </td><td>NA     </td><td>NA         </td><td>NA    </td><td>NA         </td><td>NA  </td><td>NA   </td><td>NA        </td><td>NA                       </td></tr>\n",
       "\t<tr><td>Input_SDL_crosschannel_imp</td><td>20100000               </td><td>NA     </td><td>NA         </td><td>NA    </td><td>NA         </td><td>NA  </td><td>NA   </td><td>NA        </td><td>NA                       </td></tr>\n",
       "\t<tr><td>flight_flag_radio_OPT     </td><td>FALSE                  </td><td>NA     </td><td>NA         </td><td>NA    </td><td>NA         </td><td>NA  </td><td>NA   </td><td>NA        </td><td>NA                       </td></tr>\n",
       "\t<tr><td>flight_flag_radio_SDL     </td><td>FALSE                  </td><td>NA     </td><td>NA         </td><td>NA    </td><td>NA         </td><td>NA  </td><td>NA   </td><td>NA        </td><td>NA                       </td></tr>\n",
       "\t<tr><td>flight_flag_DRTV_OPT      </td><td>FALSE                  </td><td>NA     </td><td>NA         </td><td>NA    </td><td>NA         </td><td>NA  </td><td>NA   </td><td>NA        </td><td>NA                       </td></tr>\n",
       "\t<tr><td>flight_flag_DRTV_SDL      </td><td>FALSE                  </td><td>NA     </td><td>NA         </td><td>NA    </td><td>NA         </td><td>NA  </td><td>NA   </td><td>NA        </td><td>NA                       </td></tr>\n",
       "\t<tr><td>output_type               </td><td>csv                    </td><td>NA     </td><td>NA         </td><td>NA    </td><td>NA         </td><td>NA  </td><td>NA   </td><td>NA        </td><td>NA                       </td></tr>\n",
       "\t<tr><td>Footprint                 </td><td>Total Spend $(000) [Q3]</td><td>Digital</td><td>Paid Search</td><td>Social</td><td>Direct Mail</td><td>DRTV</td><td>Radio</td><td>Gross Adds</td><td>Cross Channel Impressions</td></tr>\n",
       "\t<tr><td>USA                       </td><td>$1,510                 </td><td>$568   </td><td>$349       </td><td>$333  </td><td>$260       </td><td>$0  </td><td>$0   </td><td>16,722    </td><td>147,600,000              </td></tr>\n",
       "\t<tr><td>EAST                      </td><td>$990                   </td><td>$372   </td><td>$242       </td><td>$197  </td><td>$179       </td><td>$0  </td><td>$0   </td><td>10,383    </td><td>127,500,000              </td></tr>\n",
       "\t<tr><td>WEST                      </td><td>$520                   </td><td>$195   </td><td>$108       </td><td>$136  </td><td>$81        </td><td>$0  </td><td>$0   </td><td> 6,339    </td><td> 20,100,000              </td></tr>\n",
       "</tbody>\n",
       "</table>\n"
      ],
      "text/latex": [
       "A data.frame: 14 × 10\n",
       "\\begin{tabular}{llllllllll}\n",
       " X1 & X2 & X3 & X4 & X5 & X6 & X7 & X8 & X9 & X10\\\\\n",
       " <chr> & <chr> & <chr> & <chr> & <chr> & <chr> & <chr> & <chr> & <chr> & <chr>\\\\\n",
       "\\hline\n",
       "\t Input\\_OPT\\_budget           & 990000                  & NA      & NA          & NA     & NA          & NA   & NA    & NA         & NA                       \\\\\n",
       "\t Input\\_SDL\\_budget           & 520000                  & NA      & NA          & NA     & NA          & NA   & NA    & NA         & NA                       \\\\\n",
       "\t input\\_period               & Q3                      & NA      & NA          & NA     & NA          & NA   & NA    & NA         & NA                       \\\\\n",
       "\t Input\\_OPT\\_crosschannel\\_imp & 127500000               & NA      & NA          & NA     & NA          & NA   & NA    & NA         & NA                       \\\\\n",
       "\t Input\\_SDL\\_crosschannel\\_imp & 20100000                & NA      & NA          & NA     & NA          & NA   & NA    & NA         & NA                       \\\\\n",
       "\t flight\\_flag\\_radio\\_OPT      & FALSE                   & NA      & NA          & NA     & NA          & NA   & NA    & NA         & NA                       \\\\\n",
       "\t flight\\_flag\\_radio\\_SDL      & FALSE                   & NA      & NA          & NA     & NA          & NA   & NA    & NA         & NA                       \\\\\n",
       "\t flight\\_flag\\_DRTV\\_OPT       & FALSE                   & NA      & NA          & NA     & NA          & NA   & NA    & NA         & NA                       \\\\\n",
       "\t flight\\_flag\\_DRTV\\_SDL       & FALSE                   & NA      & NA          & NA     & NA          & NA   & NA    & NA         & NA                       \\\\\n",
       "\t output\\_type                & csv                     & NA      & NA          & NA     & NA          & NA   & NA    & NA         & NA                       \\\\\n",
       "\t Footprint                  & Total Spend \\$(000) {[}Q3{]} & Digital & Paid Search & Social & Direct Mail & DRTV & Radio & Gross Adds & Cross Channel Impressions\\\\\n",
       "\t USA                        & \\$1,510                  & \\$568    & \\$349        & \\$333   & \\$260        & \\$0   & \\$0    & 16,722     & 147,600,000              \\\\\n",
       "\t EAST                       & \\$990                    & \\$372    & \\$242        & \\$197   & \\$179        & \\$0   & \\$0    & 10,383     & 127,500,000              \\\\\n",
       "\t WEST                       & \\$520                    & \\$195    & \\$108        & \\$136   & \\$81         & \\$0   & \\$0    &  6,339     &  20,100,000              \\\\\n",
       "\\end{tabular}\n"
      ],
      "text/markdown": [
       "\n",
       "A data.frame: 14 × 10\n",
       "\n",
       "| X1 &lt;chr&gt; | X2 &lt;chr&gt; | X3 &lt;chr&gt; | X4 &lt;chr&gt; | X5 &lt;chr&gt; | X6 &lt;chr&gt; | X7 &lt;chr&gt; | X8 &lt;chr&gt; | X9 &lt;chr&gt; | X10 &lt;chr&gt; |\n",
       "|---|---|---|---|---|---|---|---|---|---|\n",
       "| Input_OPT_budget           | 990000                  | NA      | NA          | NA     | NA          | NA   | NA    | NA         | NA                        |\n",
       "| Input_SDL_budget           | 520000                  | NA      | NA          | NA     | NA          | NA   | NA    | NA         | NA                        |\n",
       "| input_period               | Q3                      | NA      | NA          | NA     | NA          | NA   | NA    | NA         | NA                        |\n",
       "| Input_OPT_crosschannel_imp | 127500000               | NA      | NA          | NA     | NA          | NA   | NA    | NA         | NA                        |\n",
       "| Input_SDL_crosschannel_imp | 20100000                | NA      | NA          | NA     | NA          | NA   | NA    | NA         | NA                        |\n",
       "| flight_flag_radio_OPT      | FALSE                   | NA      | NA          | NA     | NA          | NA   | NA    | NA         | NA                        |\n",
       "| flight_flag_radio_SDL      | FALSE                   | NA      | NA          | NA     | NA          | NA   | NA    | NA         | NA                        |\n",
       "| flight_flag_DRTV_OPT       | FALSE                   | NA      | NA          | NA     | NA          | NA   | NA    | NA         | NA                        |\n",
       "| flight_flag_DRTV_SDL       | FALSE                   | NA      | NA          | NA     | NA          | NA   | NA    | NA         | NA                        |\n",
       "| output_type                | csv                     | NA      | NA          | NA     | NA          | NA   | NA    | NA         | NA                        |\n",
       "| Footprint                  | Total Spend $(000) [Q3] | Digital | Paid Search | Social | Direct Mail | DRTV | Radio | Gross Adds | Cross Channel Impressions |\n",
       "| USA                        | $1,510                  | $568    | $349        | $333   | $260        | $0   | $0    | 16,722     | 147,600,000               |\n",
       "| EAST                       | $990                    | $372    | $242        | $197   | $179        | $0   | $0    | 10,383     | 127,500,000               |\n",
       "| WEST                       | $520                    | $195    | $108        | $136   | $81         | $0   | $0    |  6,339     |  20,100,000               |\n",
       "\n"
      ],
      "text/plain": [
       "   X1                         X2                      X3      X4         \n",
       "1  Input_OPT_budget           990000                  NA      NA         \n",
       "2  Input_SDL_budget           520000                  NA      NA         \n",
       "3  input_period               Q3                      NA      NA         \n",
       "4  Input_OPT_crosschannel_imp 127500000               NA      NA         \n",
       "5  Input_SDL_crosschannel_imp 20100000                NA      NA         \n",
       "6  flight_flag_radio_OPT      FALSE                   NA      NA         \n",
       "7  flight_flag_radio_SDL      FALSE                   NA      NA         \n",
       "8  flight_flag_DRTV_OPT       FALSE                   NA      NA         \n",
       "9  flight_flag_DRTV_SDL       FALSE                   NA      NA         \n",
       "10 output_type                csv                     NA      NA         \n",
       "11 Footprint                  Total Spend $(000) [Q3] Digital Paid Search\n",
       "12 USA                        $1,510                  $568    $349       \n",
       "13 EAST                       $990                    $372    $242       \n",
       "14 WEST                       $520                    $195    $108       \n",
       "   X5     X6          X7   X8    X9         X10                      \n",
       "1  NA     NA          NA   NA    NA         NA                       \n",
       "2  NA     NA          NA   NA    NA         NA                       \n",
       "3  NA     NA          NA   NA    NA         NA                       \n",
       "4  NA     NA          NA   NA    NA         NA                       \n",
       "5  NA     NA          NA   NA    NA         NA                       \n",
       "6  NA     NA          NA   NA    NA         NA                       \n",
       "7  NA     NA          NA   NA    NA         NA                       \n",
       "8  NA     NA          NA   NA    NA         NA                       \n",
       "9  NA     NA          NA   NA    NA         NA                       \n",
       "10 NA     NA          NA   NA    NA         NA                       \n",
       "11 Social Direct Mail DRTV Radio Gross Adds Cross Channel Impressions\n",
       "12 $333   $260        $0   $0    16,722     147,600,000              \n",
       "13 $197   $179        $0   $0    10,383     127,500,000              \n",
       "14 $136   $81         $0   $0     6,339      20,100,000              "
      ]
     },
     "metadata": {},
     "output_type": "display_data"
    }
   ],
   "source": [
    "res$case_list$case1"
   ]
  },
  {
   "cell_type": "code",
   "execution_count": 128,
   "metadata": {
    "ExecuteTime": {
     "end_time": "2021-06-08T16:49:14.685402Z",
     "start_time": "2021-06-08T16:43:28.985Z"
    }
   },
   "outputs": [],
   "source": [
    "for(name in names(res$case_list)){\n",
    "    output_df <- all_cases_list[[name]]\n",
    "    fname <- paste0('test_cases_pkg/test','_b2b_all_cases_',name,'.csv')\n",
    "    write.table(output_df,fname,row.names = F,na = '',sep = ',',col.names = F)\n",
    "}"
   ]
  },
  {
   "cell_type": "code",
   "execution_count": 129,
   "metadata": {},
   "outputs": [
    {
     "data": {
      "text/html": [
       "<style>\n",
       ".dl-inline {width: auto; margin:0; padding: 0}\n",
       ".dl-inline>dt, .dl-inline>dd {float: none; width: auto; display: inline-block}\n",
       ".dl-inline>dt::after {content: \":\\0020\"; padding-right: .5ex}\n",
       ".dl-inline>dt:not(:first-of-type) {padding-left: .5ex}\n",
       "</style><dl class=dl-inline><dt>1</dt><dd>'Input_OPT_budget'</dd><dt>2</dt><dd>'Input_SDL_budget'</dd><dt>3</dt><dd>'input_period'</dd><dt>4</dt><dd>'Input_OPT_crosschannel_imp'</dd><dt>5</dt><dd>'Input_SDL_crosschannel_imp'</dd><dt>6</dt><dd>'flight_flag_radio_OPT'</dd><dt>7</dt><dd>'flight_flag_radio_SDL'</dd><dt>8</dt><dd>'flight_flag_DRTV_OPT'</dd><dt>9</dt><dd>'flight_flag_DRTV_SDL'</dd></dl>\n"
      ],
      "text/latex": [
       "\\begin{description*}\n",
       "\\item[1] 'Input\\_OPT\\_budget'\n",
       "\\item[2] 'Input\\_SDL\\_budget'\n",
       "\\item[3] 'input\\_period'\n",
       "\\item[4] 'Input\\_OPT\\_crosschannel\\_imp'\n",
       "\\item[5] 'Input\\_SDL\\_crosschannel\\_imp'\n",
       "\\item[6] 'flight\\_flag\\_radio\\_OPT'\n",
       "\\item[7] 'flight\\_flag\\_radio\\_SDL'\n",
       "\\item[8] 'flight\\_flag\\_DRTV\\_OPT'\n",
       "\\item[9] 'flight\\_flag\\_DRTV\\_SDL'\n",
       "\\end{description*}\n"
      ],
      "text/markdown": [
       "1\n",
       ":   'Input_OPT_budget'2\n",
       ":   'Input_SDL_budget'3\n",
       ":   'input_period'4\n",
       ":   'Input_OPT_crosschannel_imp'5\n",
       ":   'Input_SDL_crosschannel_imp'6\n",
       ":   'flight_flag_radio_OPT'7\n",
       ":   'flight_flag_radio_SDL'8\n",
       ":   'flight_flag_DRTV_OPT'9\n",
       ":   'flight_flag_DRTV_SDL'\n",
       "\n"
      ],
      "text/plain": [
       "                           1                            2 \n",
       "          \"Input_OPT_budget\"           \"Input_SDL_budget\" \n",
       "                           3                            4 \n",
       "              \"input_period\" \"Input_OPT_crosschannel_imp\" \n",
       "                           5                            6 \n",
       "\"Input_SDL_crosschannel_imp\"      \"flight_flag_radio_OPT\" \n",
       "                           7                            8 \n",
       "     \"flight_flag_radio_SDL\"       \"flight_flag_DRTV_OPT\" \n",
       "                           9 \n",
       "      \"flight_flag_DRTV_SDL\" "
      ]
     },
     "metadata": {},
     "output_type": "display_data"
    }
   ],
   "source": [
    "##Generate summary of all cases\n",
    "col_names <- t(res$case_list$case1[c(1:9),c('X1','X2')])[1,]\n",
    "col_names"
   ]
  },
  {
   "cell_type": "code",
   "execution_count": 130,
   "metadata": {
    "ExecuteTime": {
     "end_time": "2021-06-08T16:49:41.062457Z",
     "start_time": "2021-06-08T16:44:18.782Z"
    }
   },
   "outputs": [
    {
     "data": {
      "text/html": [
       "<table>\n",
       "<caption>A data.frame: 0 × 9</caption>\n",
       "<thead>\n",
       "\t<tr><th scope=col>Input_OPT_budget</th><th scope=col>Input_SDL_budget</th><th scope=col>input_period</th><th scope=col>Input_OPT_crosschannel_imp</th><th scope=col>Input_SDL_crosschannel_imp</th><th scope=col>flight_flag_radio_OPT</th><th scope=col>flight_flag_radio_SDL</th><th scope=col>flight_flag_DRTV_OPT</th><th scope=col>flight_flag_DRTV_SDL</th></tr>\n",
       "\t<tr><th scope=col>&lt;lgl&gt;</th><th scope=col>&lt;lgl&gt;</th><th scope=col>&lt;lgl&gt;</th><th scope=col>&lt;lgl&gt;</th><th scope=col>&lt;lgl&gt;</th><th scope=col>&lt;lgl&gt;</th><th scope=col>&lt;lgl&gt;</th><th scope=col>&lt;lgl&gt;</th><th scope=col>&lt;lgl&gt;</th></tr>\n",
       "</thead>\n",
       "<tbody>\n",
       "</tbody>\n",
       "</table>\n"
      ],
      "text/latex": [
       "A data.frame: 0 × 9\n",
       "\\begin{tabular}{lllllllll}\n",
       " Input\\_OPT\\_budget & Input\\_SDL\\_budget & input\\_period & Input\\_OPT\\_crosschannel\\_imp & Input\\_SDL\\_crosschannel\\_imp & flight\\_flag\\_radio\\_OPT & flight\\_flag\\_radio\\_SDL & flight\\_flag\\_DRTV\\_OPT & flight\\_flag\\_DRTV\\_SDL\\\\\n",
       " <lgl> & <lgl> & <lgl> & <lgl> & <lgl> & <lgl> & <lgl> & <lgl> & <lgl>\\\\\n",
       "\\hline\n",
       "\\end{tabular}\n"
      ],
      "text/markdown": [
       "\n",
       "A data.frame: 0 × 9\n",
       "\n",
       "| Input_OPT_budget &lt;lgl&gt; | Input_SDL_budget &lt;lgl&gt; | input_period &lt;lgl&gt; | Input_OPT_crosschannel_imp &lt;lgl&gt; | Input_SDL_crosschannel_imp &lt;lgl&gt; | flight_flag_radio_OPT &lt;lgl&gt; | flight_flag_radio_SDL &lt;lgl&gt; | flight_flag_DRTV_OPT &lt;lgl&gt; | flight_flag_DRTV_SDL &lt;lgl&gt; |\n",
       "|---|---|---|---|---|---|---|---|---|\n",
       "\n"
      ],
      "text/plain": [
       "     Input_OPT_budget Input_SDL_budget input_period Input_OPT_crosschannel_imp\n",
       "     Input_SDL_crosschannel_imp flight_flag_radio_OPT flight_flag_radio_SDL\n",
       "     flight_flag_DRTV_OPT flight_flag_DRTV_SDL"
      ]
     },
     "metadata": {},
     "output_type": "display_data"
    }
   ],
   "source": [
    "summary_case_df <- data.frame(matrix(nrow = 0 ,ncol = 9))\n",
    "colnames(summary_case_df) <- col_names\n",
    "summary_case_df"
   ]
  },
  {
   "cell_type": "code",
   "execution_count": 131,
   "metadata": {
    "ExecuteTime": {
     "end_time": "2021-06-08T16:49:42.677927Z",
     "start_time": "2021-06-08T16:44:20.271Z"
    }
   },
   "outputs": [],
   "source": [
    "for(case in all_cases_list){\n",
    "    summary_data <- t(t(case[c(1:9),c('X1','X2')])[2,])\n",
    "    summary_case_df <- rbind(summary_case_df,data.frame(summary_data))\n",
    "}\n",
    "colnames(summary_case_df) <- col_names\n"
   ]
  },
  {
   "cell_type": "code",
   "execution_count": 132,
   "metadata": {},
   "outputs": [
    {
     "name": "stdout",
     "output_type": "stream",
     "text": [
      "Rows: 56\n",
      "Columns: 9\n",
      "$ Input_OPT_budget           \u001b[3m\u001b[90m<chr>\u001b[39m\u001b[23m \"990000\", \"990000\", \"990000\", \"990000\", \"99…\n",
      "$ Input_SDL_budget           \u001b[3m\u001b[90m<chr>\u001b[39m\u001b[23m \"520000\", \"620000\", \"810000\", \"900000\", \"10…\n",
      "$ input_period               \u001b[3m\u001b[90m<chr>\u001b[39m\u001b[23m \"Q3\", \"Q1\", \"Q1\", \"Q3\", \"Q4\", \"Q2\", \"Q1\", \"…\n",
      "$ Input_OPT_crosschannel_imp \u001b[3m\u001b[90m<chr>\u001b[39m\u001b[23m \"127500000\", \"69000000\", \"127500000\", \"6900…\n",
      "$ Input_SDL_crosschannel_imp \u001b[3m\u001b[90m<chr>\u001b[39m\u001b[23m \"20100000\", \"20100000\", \"20100000\", \"109500…\n",
      "$ flight_flag_radio_OPT      \u001b[3m\u001b[90m<chr>\u001b[39m\u001b[23m \"FALSE\", \"FALSE\", \"FALSE\", \"FALSE\", \"FALSE\"…\n",
      "$ flight_flag_radio_SDL      \u001b[3m\u001b[90m<chr>\u001b[39m\u001b[23m \"FALSE\", \"TRUE\", \"FALSE\", \"FALSE\", \"TRUE\", …\n",
      "$ flight_flag_DRTV_OPT       \u001b[3m\u001b[90m<chr>\u001b[39m\u001b[23m \"FALSE\", \"FALSE\", \"FALSE\", \"FALSE\", \"FALSE\"…\n",
      "$ flight_flag_DRTV_SDL       \u001b[3m\u001b[90m<chr>\u001b[39m\u001b[23m \"FALSE\", \"FALSE\", \"TRUE\", \"FALSE\", \"FALSE\",…\n"
     ]
    }
   ],
   "source": [
    "glimpse(summary_case_df)"
   ]
  },
  {
   "cell_type": "code",
   "execution_count": 133,
   "metadata": {
    "ExecuteTime": {
     "end_time": "2021-06-08T16:49:43.250919Z",
     "start_time": "2021-06-08T16:44:20.910Z"
    },
    "scrolled": true
   },
   "outputs": [
    {
     "data": {
      "text/html": [
       "<table>\n",
       "<caption>A data.frame: 56 × 10</caption>\n",
       "<thead>\n",
       "\t<tr><th scope=col>Case</th><th scope=col>Input_OPT_budget</th><th scope=col>Input_SDL_budget</th><th scope=col>input_period</th><th scope=col>Input_OPT_crosschannel_imp</th><th scope=col>Input_SDL_crosschannel_imp</th><th scope=col>flight_flag_radio_OPT</th><th scope=col>flight_flag_radio_SDL</th><th scope=col>flight_flag_DRTV_OPT</th><th scope=col>flight_flag_DRTV_SDL</th></tr>\n",
       "\t<tr><th scope=col>&lt;int&gt;</th><th scope=col>&lt;chr&gt;</th><th scope=col>&lt;chr&gt;</th><th scope=col>&lt;chr&gt;</th><th scope=col>&lt;chr&gt;</th><th scope=col>&lt;chr&gt;</th><th scope=col>&lt;dbl&gt;</th><th scope=col>&lt;dbl&gt;</th><th scope=col>&lt;dbl&gt;</th><th scope=col>&lt;dbl&gt;</th></tr>\n",
       "</thead>\n",
       "<tbody>\n",
       "\t<tr><td> 1</td><td>990000 </td><td>520000 </td><td>Q3</td><td>127500000</td><td>20100000</td><td>0</td><td>0</td><td>0</td><td>0</td></tr>\n",
       "\t<tr><td> 2</td><td>990000 </td><td>620000 </td><td>Q1</td><td>69000000 </td><td>20100000</td><td>0</td><td>1</td><td>0</td><td>0</td></tr>\n",
       "\t<tr><td> 3</td><td>990000 </td><td>810000 </td><td>Q1</td><td>127500000</td><td>20100000</td><td>0</td><td>0</td><td>0</td><td>1</td></tr>\n",
       "\t<tr><td> 4</td><td>990000 </td><td>900000 </td><td>Q3</td><td>69000000 </td><td>10950000</td><td>0</td><td>0</td><td>0</td><td>0</td></tr>\n",
       "\t<tr><td> 5</td><td>990000 </td><td>1060000</td><td>Q4</td><td>69000000 </td><td>10950000</td><td>0</td><td>1</td><td>0</td><td>0</td></tr>\n",
       "\t<tr><td> 6</td><td>990000 </td><td>1410000</td><td>Q2</td><td>69000000 </td><td>10950000</td><td>0</td><td>0</td><td>0</td><td>1</td></tr>\n",
       "\t<tr><td> 7</td><td>990000 </td><td>1590000</td><td>Q1</td><td>127500000</td><td>20100000</td><td>0</td><td>1</td><td>0</td><td>1</td></tr>\n",
       "\t<tr><td> 8</td><td>1200000</td><td>520000 </td><td>Q2</td><td>69000000 </td><td>20100000</td><td>1</td><td>0</td><td>0</td><td>0</td></tr>\n",
       "\t<tr><td> 9</td><td>1200000</td><td>620000 </td><td>Q1</td><td>127500000</td><td>20100000</td><td>1</td><td>1</td><td>0</td><td>0</td></tr>\n",
       "\t<tr><td>10</td><td>1200000</td><td>810000 </td><td>Q3</td><td>69000000 </td><td>20100000</td><td>1</td><td>0</td><td>0</td><td>1</td></tr>\n",
       "\t<tr><td>11</td><td>1200000</td><td>900000 </td><td>Q2</td><td>69000000 </td><td>20100000</td><td>1</td><td>0</td><td>0</td><td>0</td></tr>\n",
       "\t<tr><td>12</td><td>1200000</td><td>1060000</td><td>Q2</td><td>127500000</td><td>20100000</td><td>1</td><td>1</td><td>0</td><td>0</td></tr>\n",
       "\t<tr><td>13</td><td>1200000</td><td>1410000</td><td>Q3</td><td>69000000 </td><td>10950000</td><td>1</td><td>0</td><td>0</td><td>1</td></tr>\n",
       "\t<tr><td>14</td><td>1200000</td><td>1590000</td><td>Q1</td><td>127500000</td><td>10950000</td><td>1</td><td>1</td><td>0</td><td>1</td></tr>\n",
       "\t<tr><td>15</td><td>1380000</td><td>520000 </td><td>Q1</td><td>127500000</td><td>10950000</td><td>0</td><td>0</td><td>1</td><td>0</td></tr>\n",
       "\t<tr><td>16</td><td>1380000</td><td>620000 </td><td>Q3</td><td>69000000 </td><td>20100000</td><td>0</td><td>1</td><td>1</td><td>0</td></tr>\n",
       "\t<tr><td>17</td><td>1380000</td><td>810000 </td><td>Q4</td><td>127500000</td><td>20100000</td><td>0</td><td>0</td><td>1</td><td>1</td></tr>\n",
       "\t<tr><td>18</td><td>1380000</td><td>900000 </td><td>Q3</td><td>127500000</td><td>20100000</td><td>0</td><td>0</td><td>1</td><td>0</td></tr>\n",
       "\t<tr><td>19</td><td>1380000</td><td>1060000</td><td>Q4</td><td>69000000 </td><td>20100000</td><td>0</td><td>1</td><td>1</td><td>0</td></tr>\n",
       "\t<tr><td>20</td><td>1380000</td><td>1410000</td><td>Q3</td><td>127500000</td><td>20100000</td><td>0</td><td>0</td><td>1</td><td>1</td></tr>\n",
       "\t<tr><td>21</td><td>1380000</td><td>1590000</td><td>Q1</td><td>69000000 </td><td>20100000</td><td>0</td><td>1</td><td>1</td><td>1</td></tr>\n",
       "\t<tr><td>22</td><td>1590000</td><td>520000 </td><td>Q2</td><td>69000000 </td><td>10950000</td><td>1</td><td>0</td><td>1</td><td>0</td></tr>\n",
       "\t<tr><td>23</td><td>1590000</td><td>620000 </td><td>Q4</td><td>69000000 </td><td>20100000</td><td>1</td><td>1</td><td>1</td><td>0</td></tr>\n",
       "\t<tr><td>24</td><td>1590000</td><td>810000 </td><td>Q4</td><td>127500000</td><td>10950000</td><td>1</td><td>0</td><td>1</td><td>1</td></tr>\n",
       "\t<tr><td>25</td><td>1590000</td><td>900000 </td><td>Q2</td><td>127500000</td><td>10950000</td><td>1</td><td>0</td><td>1</td><td>0</td></tr>\n",
       "\t<tr><td>26</td><td>1590000</td><td>1060000</td><td>Q1</td><td>69000000 </td><td>20100000</td><td>1</td><td>1</td><td>1</td><td>0</td></tr>\n",
       "\t<tr><td>27</td><td>1590000</td><td>1410000</td><td>Q3</td><td>69000000 </td><td>10950000</td><td>1</td><td>0</td><td>1</td><td>1</td></tr>\n",
       "\t<tr><td>28</td><td>1590000</td><td>1590000</td><td>Q1</td><td>69000000 </td><td>10950000</td><td>1</td><td>1</td><td>1</td><td>1</td></tr>\n",
       "\t<tr><td>29</td><td>1740000</td><td>520000 </td><td>Q4</td><td>69000000 </td><td>20100000</td><td>0</td><td>0</td><td>0</td><td>0</td></tr>\n",
       "\t<tr><td>30</td><td>1740000</td><td>620000 </td><td>Q3</td><td>69000000 </td><td>10950000</td><td>0</td><td>1</td><td>0</td><td>0</td></tr>\n",
       "\t<tr><td>31</td><td>1740000</td><td>810000 </td><td>Q2</td><td>127500000</td><td>10950000</td><td>0</td><td>0</td><td>0</td><td>1</td></tr>\n",
       "\t<tr><td>32</td><td>1740000</td><td>900000 </td><td>Q2</td><td>127500000</td><td>20100000</td><td>0</td><td>0</td><td>0</td><td>0</td></tr>\n",
       "\t<tr><td>33</td><td>1740000</td><td>1060000</td><td>Q4</td><td>69000000 </td><td>20100000</td><td>0</td><td>1</td><td>0</td><td>0</td></tr>\n",
       "\t<tr><td>34</td><td>1740000</td><td>1410000</td><td>Q3</td><td>69000000 </td><td>10950000</td><td>0</td><td>0</td><td>0</td><td>1</td></tr>\n",
       "\t<tr><td>35</td><td>1740000</td><td>1590000</td><td>Q3</td><td>127500000</td><td>10950000</td><td>0</td><td>1</td><td>0</td><td>1</td></tr>\n",
       "\t<tr><td>36</td><td>2130000</td><td>520000 </td><td>Q3</td><td>127500000</td><td>20100000</td><td>1</td><td>0</td><td>0</td><td>0</td></tr>\n",
       "\t<tr><td>37</td><td>2130000</td><td>620000 </td><td>Q2</td><td>127500000</td><td>10950000</td><td>1</td><td>1</td><td>0</td><td>0</td></tr>\n",
       "\t<tr><td>38</td><td>2130000</td><td>810000 </td><td>Q4</td><td>69000000 </td><td>10950000</td><td>1</td><td>0</td><td>0</td><td>1</td></tr>\n",
       "\t<tr><td>39</td><td>2130000</td><td>900000 </td><td>Q1</td><td>127500000</td><td>20100000</td><td>1</td><td>0</td><td>0</td><td>0</td></tr>\n",
       "\t<tr><td>40</td><td>2130000</td><td>1060000</td><td>Q3</td><td>127500000</td><td>20100000</td><td>1</td><td>1</td><td>0</td><td>0</td></tr>\n",
       "\t<tr><td>41</td><td>2130000</td><td>1410000</td><td>Q3</td><td>69000000 </td><td>20100000</td><td>1</td><td>0</td><td>0</td><td>1</td></tr>\n",
       "\t<tr><td>42</td><td>2130000</td><td>1590000</td><td>Q4</td><td>127500000</td><td>10950000</td><td>1</td><td>1</td><td>0</td><td>1</td></tr>\n",
       "\t<tr><td>43</td><td>2460000</td><td>520000 </td><td>Q3</td><td>127500000</td><td>20100000</td><td>0</td><td>0</td><td>1</td><td>0</td></tr>\n",
       "\t<tr><td>44</td><td>2460000</td><td>620000 </td><td>Q3</td><td>69000000 </td><td>20100000</td><td>0</td><td>1</td><td>1</td><td>0</td></tr>\n",
       "\t<tr><td>45</td><td>2460000</td><td>810000 </td><td>Q2</td><td>69000000 </td><td>20100000</td><td>0</td><td>0</td><td>1</td><td>1</td></tr>\n",
       "\t<tr><td>46</td><td>2460000</td><td>900000 </td><td>Q3</td><td>69000000 </td><td>10950000</td><td>0</td><td>0</td><td>1</td><td>0</td></tr>\n",
       "\t<tr><td>47</td><td>2460000</td><td>1060000</td><td>Q3</td><td>69000000 </td><td>20100000</td><td>0</td><td>1</td><td>1</td><td>0</td></tr>\n",
       "\t<tr><td>48</td><td>2460000</td><td>1410000</td><td>Q4</td><td>69000000 </td><td>20100000</td><td>0</td><td>0</td><td>1</td><td>1</td></tr>\n",
       "\t<tr><td>49</td><td>2460000</td><td>1590000</td><td>Q3</td><td>127500000</td><td>10950000</td><td>0</td><td>1</td><td>1</td><td>1</td></tr>\n",
       "\t<tr><td>50</td><td>2820000</td><td>520000 </td><td>Q4</td><td>69000000 </td><td>10950000</td><td>1</td><td>0</td><td>1</td><td>0</td></tr>\n",
       "\t<tr><td>51</td><td>2820000</td><td>620000 </td><td>Q3</td><td>69000000 </td><td>20100000</td><td>1</td><td>1</td><td>1</td><td>0</td></tr>\n",
       "\t<tr><td>52</td><td>2820000</td><td>810000 </td><td>Q2</td><td>69000000 </td><td>10950000</td><td>1</td><td>0</td><td>1</td><td>1</td></tr>\n",
       "\t<tr><td>53</td><td>2820000</td><td>900000 </td><td>Q2</td><td>127500000</td><td>10950000</td><td>1</td><td>0</td><td>1</td><td>0</td></tr>\n",
       "\t<tr><td>54</td><td>2820000</td><td>1060000</td><td>Q2</td><td>69000000 </td><td>20100000</td><td>1</td><td>1</td><td>1</td><td>0</td></tr>\n",
       "\t<tr><td>55</td><td>2820000</td><td>1410000</td><td>Q3</td><td>69000000 </td><td>20100000</td><td>1</td><td>0</td><td>1</td><td>1</td></tr>\n",
       "\t<tr><td>56</td><td>2820000</td><td>1590000</td><td>Q1</td><td>69000000 </td><td>20100000</td><td>1</td><td>1</td><td>1</td><td>1</td></tr>\n",
       "</tbody>\n",
       "</table>\n"
      ],
      "text/latex": [
       "A data.frame: 56 × 10\n",
       "\\begin{tabular}{llllllllll}\n",
       " Case & Input\\_OPT\\_budget & Input\\_SDL\\_budget & input\\_period & Input\\_OPT\\_crosschannel\\_imp & Input\\_SDL\\_crosschannel\\_imp & flight\\_flag\\_radio\\_OPT & flight\\_flag\\_radio\\_SDL & flight\\_flag\\_DRTV\\_OPT & flight\\_flag\\_DRTV\\_SDL\\\\\n",
       " <int> & <chr> & <chr> & <chr> & <chr> & <chr> & <dbl> & <dbl> & <dbl> & <dbl>\\\\\n",
       "\\hline\n",
       "\t  1 & 990000  & 520000  & Q3 & 127500000 & 20100000 & 0 & 0 & 0 & 0\\\\\n",
       "\t  2 & 990000  & 620000  & Q1 & 69000000  & 20100000 & 0 & 1 & 0 & 0\\\\\n",
       "\t  3 & 990000  & 810000  & Q1 & 127500000 & 20100000 & 0 & 0 & 0 & 1\\\\\n",
       "\t  4 & 990000  & 900000  & Q3 & 69000000  & 10950000 & 0 & 0 & 0 & 0\\\\\n",
       "\t  5 & 990000  & 1060000 & Q4 & 69000000  & 10950000 & 0 & 1 & 0 & 0\\\\\n",
       "\t  6 & 990000  & 1410000 & Q2 & 69000000  & 10950000 & 0 & 0 & 0 & 1\\\\\n",
       "\t  7 & 990000  & 1590000 & Q1 & 127500000 & 20100000 & 0 & 1 & 0 & 1\\\\\n",
       "\t  8 & 1200000 & 520000  & Q2 & 69000000  & 20100000 & 1 & 0 & 0 & 0\\\\\n",
       "\t  9 & 1200000 & 620000  & Q1 & 127500000 & 20100000 & 1 & 1 & 0 & 0\\\\\n",
       "\t 10 & 1200000 & 810000  & Q3 & 69000000  & 20100000 & 1 & 0 & 0 & 1\\\\\n",
       "\t 11 & 1200000 & 900000  & Q2 & 69000000  & 20100000 & 1 & 0 & 0 & 0\\\\\n",
       "\t 12 & 1200000 & 1060000 & Q2 & 127500000 & 20100000 & 1 & 1 & 0 & 0\\\\\n",
       "\t 13 & 1200000 & 1410000 & Q3 & 69000000  & 10950000 & 1 & 0 & 0 & 1\\\\\n",
       "\t 14 & 1200000 & 1590000 & Q1 & 127500000 & 10950000 & 1 & 1 & 0 & 1\\\\\n",
       "\t 15 & 1380000 & 520000  & Q1 & 127500000 & 10950000 & 0 & 0 & 1 & 0\\\\\n",
       "\t 16 & 1380000 & 620000  & Q3 & 69000000  & 20100000 & 0 & 1 & 1 & 0\\\\\n",
       "\t 17 & 1380000 & 810000  & Q4 & 127500000 & 20100000 & 0 & 0 & 1 & 1\\\\\n",
       "\t 18 & 1380000 & 900000  & Q3 & 127500000 & 20100000 & 0 & 0 & 1 & 0\\\\\n",
       "\t 19 & 1380000 & 1060000 & Q4 & 69000000  & 20100000 & 0 & 1 & 1 & 0\\\\\n",
       "\t 20 & 1380000 & 1410000 & Q3 & 127500000 & 20100000 & 0 & 0 & 1 & 1\\\\\n",
       "\t 21 & 1380000 & 1590000 & Q1 & 69000000  & 20100000 & 0 & 1 & 1 & 1\\\\\n",
       "\t 22 & 1590000 & 520000  & Q2 & 69000000  & 10950000 & 1 & 0 & 1 & 0\\\\\n",
       "\t 23 & 1590000 & 620000  & Q4 & 69000000  & 20100000 & 1 & 1 & 1 & 0\\\\\n",
       "\t 24 & 1590000 & 810000  & Q4 & 127500000 & 10950000 & 1 & 0 & 1 & 1\\\\\n",
       "\t 25 & 1590000 & 900000  & Q2 & 127500000 & 10950000 & 1 & 0 & 1 & 0\\\\\n",
       "\t 26 & 1590000 & 1060000 & Q1 & 69000000  & 20100000 & 1 & 1 & 1 & 0\\\\\n",
       "\t 27 & 1590000 & 1410000 & Q3 & 69000000  & 10950000 & 1 & 0 & 1 & 1\\\\\n",
       "\t 28 & 1590000 & 1590000 & Q1 & 69000000  & 10950000 & 1 & 1 & 1 & 1\\\\\n",
       "\t 29 & 1740000 & 520000  & Q4 & 69000000  & 20100000 & 0 & 0 & 0 & 0\\\\\n",
       "\t 30 & 1740000 & 620000  & Q3 & 69000000  & 10950000 & 0 & 1 & 0 & 0\\\\\n",
       "\t 31 & 1740000 & 810000  & Q2 & 127500000 & 10950000 & 0 & 0 & 0 & 1\\\\\n",
       "\t 32 & 1740000 & 900000  & Q2 & 127500000 & 20100000 & 0 & 0 & 0 & 0\\\\\n",
       "\t 33 & 1740000 & 1060000 & Q4 & 69000000  & 20100000 & 0 & 1 & 0 & 0\\\\\n",
       "\t 34 & 1740000 & 1410000 & Q3 & 69000000  & 10950000 & 0 & 0 & 0 & 1\\\\\n",
       "\t 35 & 1740000 & 1590000 & Q3 & 127500000 & 10950000 & 0 & 1 & 0 & 1\\\\\n",
       "\t 36 & 2130000 & 520000  & Q3 & 127500000 & 20100000 & 1 & 0 & 0 & 0\\\\\n",
       "\t 37 & 2130000 & 620000  & Q2 & 127500000 & 10950000 & 1 & 1 & 0 & 0\\\\\n",
       "\t 38 & 2130000 & 810000  & Q4 & 69000000  & 10950000 & 1 & 0 & 0 & 1\\\\\n",
       "\t 39 & 2130000 & 900000  & Q1 & 127500000 & 20100000 & 1 & 0 & 0 & 0\\\\\n",
       "\t 40 & 2130000 & 1060000 & Q3 & 127500000 & 20100000 & 1 & 1 & 0 & 0\\\\\n",
       "\t 41 & 2130000 & 1410000 & Q3 & 69000000  & 20100000 & 1 & 0 & 0 & 1\\\\\n",
       "\t 42 & 2130000 & 1590000 & Q4 & 127500000 & 10950000 & 1 & 1 & 0 & 1\\\\\n",
       "\t 43 & 2460000 & 520000  & Q3 & 127500000 & 20100000 & 0 & 0 & 1 & 0\\\\\n",
       "\t 44 & 2460000 & 620000  & Q3 & 69000000  & 20100000 & 0 & 1 & 1 & 0\\\\\n",
       "\t 45 & 2460000 & 810000  & Q2 & 69000000  & 20100000 & 0 & 0 & 1 & 1\\\\\n",
       "\t 46 & 2460000 & 900000  & Q3 & 69000000  & 10950000 & 0 & 0 & 1 & 0\\\\\n",
       "\t 47 & 2460000 & 1060000 & Q3 & 69000000  & 20100000 & 0 & 1 & 1 & 0\\\\\n",
       "\t 48 & 2460000 & 1410000 & Q4 & 69000000  & 20100000 & 0 & 0 & 1 & 1\\\\\n",
       "\t 49 & 2460000 & 1590000 & Q3 & 127500000 & 10950000 & 0 & 1 & 1 & 1\\\\\n",
       "\t 50 & 2820000 & 520000  & Q4 & 69000000  & 10950000 & 1 & 0 & 1 & 0\\\\\n",
       "\t 51 & 2820000 & 620000  & Q3 & 69000000  & 20100000 & 1 & 1 & 1 & 0\\\\\n",
       "\t 52 & 2820000 & 810000  & Q2 & 69000000  & 10950000 & 1 & 0 & 1 & 1\\\\\n",
       "\t 53 & 2820000 & 900000  & Q2 & 127500000 & 10950000 & 1 & 0 & 1 & 0\\\\\n",
       "\t 54 & 2820000 & 1060000 & Q2 & 69000000  & 20100000 & 1 & 1 & 1 & 0\\\\\n",
       "\t 55 & 2820000 & 1410000 & Q3 & 69000000  & 20100000 & 1 & 0 & 1 & 1\\\\\n",
       "\t 56 & 2820000 & 1590000 & Q1 & 69000000  & 20100000 & 1 & 1 & 1 & 1\\\\\n",
       "\\end{tabular}\n"
      ],
      "text/markdown": [
       "\n",
       "A data.frame: 56 × 10\n",
       "\n",
       "| Case &lt;int&gt; | Input_OPT_budget &lt;chr&gt; | Input_SDL_budget &lt;chr&gt; | input_period &lt;chr&gt; | Input_OPT_crosschannel_imp &lt;chr&gt; | Input_SDL_crosschannel_imp &lt;chr&gt; | flight_flag_radio_OPT &lt;dbl&gt; | flight_flag_radio_SDL &lt;dbl&gt; | flight_flag_DRTV_OPT &lt;dbl&gt; | flight_flag_DRTV_SDL &lt;dbl&gt; |\n",
       "|---|---|---|---|---|---|---|---|---|---|\n",
       "|  1 | 990000  | 520000  | Q3 | 127500000 | 20100000 | 0 | 0 | 0 | 0 |\n",
       "|  2 | 990000  | 620000  | Q1 | 69000000  | 20100000 | 0 | 1 | 0 | 0 |\n",
       "|  3 | 990000  | 810000  | Q1 | 127500000 | 20100000 | 0 | 0 | 0 | 1 |\n",
       "|  4 | 990000  | 900000  | Q3 | 69000000  | 10950000 | 0 | 0 | 0 | 0 |\n",
       "|  5 | 990000  | 1060000 | Q4 | 69000000  | 10950000 | 0 | 1 | 0 | 0 |\n",
       "|  6 | 990000  | 1410000 | Q2 | 69000000  | 10950000 | 0 | 0 | 0 | 1 |\n",
       "|  7 | 990000  | 1590000 | Q1 | 127500000 | 20100000 | 0 | 1 | 0 | 1 |\n",
       "|  8 | 1200000 | 520000  | Q2 | 69000000  | 20100000 | 1 | 0 | 0 | 0 |\n",
       "|  9 | 1200000 | 620000  | Q1 | 127500000 | 20100000 | 1 | 1 | 0 | 0 |\n",
       "| 10 | 1200000 | 810000  | Q3 | 69000000  | 20100000 | 1 | 0 | 0 | 1 |\n",
       "| 11 | 1200000 | 900000  | Q2 | 69000000  | 20100000 | 1 | 0 | 0 | 0 |\n",
       "| 12 | 1200000 | 1060000 | Q2 | 127500000 | 20100000 | 1 | 1 | 0 | 0 |\n",
       "| 13 | 1200000 | 1410000 | Q3 | 69000000  | 10950000 | 1 | 0 | 0 | 1 |\n",
       "| 14 | 1200000 | 1590000 | Q1 | 127500000 | 10950000 | 1 | 1 | 0 | 1 |\n",
       "| 15 | 1380000 | 520000  | Q1 | 127500000 | 10950000 | 0 | 0 | 1 | 0 |\n",
       "| 16 | 1380000 | 620000  | Q3 | 69000000  | 20100000 | 0 | 1 | 1 | 0 |\n",
       "| 17 | 1380000 | 810000  | Q4 | 127500000 | 20100000 | 0 | 0 | 1 | 1 |\n",
       "| 18 | 1380000 | 900000  | Q3 | 127500000 | 20100000 | 0 | 0 | 1 | 0 |\n",
       "| 19 | 1380000 | 1060000 | Q4 | 69000000  | 20100000 | 0 | 1 | 1 | 0 |\n",
       "| 20 | 1380000 | 1410000 | Q3 | 127500000 | 20100000 | 0 | 0 | 1 | 1 |\n",
       "| 21 | 1380000 | 1590000 | Q1 | 69000000  | 20100000 | 0 | 1 | 1 | 1 |\n",
       "| 22 | 1590000 | 520000  | Q2 | 69000000  | 10950000 | 1 | 0 | 1 | 0 |\n",
       "| 23 | 1590000 | 620000  | Q4 | 69000000  | 20100000 | 1 | 1 | 1 | 0 |\n",
       "| 24 | 1590000 | 810000  | Q4 | 127500000 | 10950000 | 1 | 0 | 1 | 1 |\n",
       "| 25 | 1590000 | 900000  | Q2 | 127500000 | 10950000 | 1 | 0 | 1 | 0 |\n",
       "| 26 | 1590000 | 1060000 | Q1 | 69000000  | 20100000 | 1 | 1 | 1 | 0 |\n",
       "| 27 | 1590000 | 1410000 | Q3 | 69000000  | 10950000 | 1 | 0 | 1 | 1 |\n",
       "| 28 | 1590000 | 1590000 | Q1 | 69000000  | 10950000 | 1 | 1 | 1 | 1 |\n",
       "| 29 | 1740000 | 520000  | Q4 | 69000000  | 20100000 | 0 | 0 | 0 | 0 |\n",
       "| 30 | 1740000 | 620000  | Q3 | 69000000  | 10950000 | 0 | 1 | 0 | 0 |\n",
       "| 31 | 1740000 | 810000  | Q2 | 127500000 | 10950000 | 0 | 0 | 0 | 1 |\n",
       "| 32 | 1740000 | 900000  | Q2 | 127500000 | 20100000 | 0 | 0 | 0 | 0 |\n",
       "| 33 | 1740000 | 1060000 | Q4 | 69000000  | 20100000 | 0 | 1 | 0 | 0 |\n",
       "| 34 | 1740000 | 1410000 | Q3 | 69000000  | 10950000 | 0 | 0 | 0 | 1 |\n",
       "| 35 | 1740000 | 1590000 | Q3 | 127500000 | 10950000 | 0 | 1 | 0 | 1 |\n",
       "| 36 | 2130000 | 520000  | Q3 | 127500000 | 20100000 | 1 | 0 | 0 | 0 |\n",
       "| 37 | 2130000 | 620000  | Q2 | 127500000 | 10950000 | 1 | 1 | 0 | 0 |\n",
       "| 38 | 2130000 | 810000  | Q4 | 69000000  | 10950000 | 1 | 0 | 0 | 1 |\n",
       "| 39 | 2130000 | 900000  | Q1 | 127500000 | 20100000 | 1 | 0 | 0 | 0 |\n",
       "| 40 | 2130000 | 1060000 | Q3 | 127500000 | 20100000 | 1 | 1 | 0 | 0 |\n",
       "| 41 | 2130000 | 1410000 | Q3 | 69000000  | 20100000 | 1 | 0 | 0 | 1 |\n",
       "| 42 | 2130000 | 1590000 | Q4 | 127500000 | 10950000 | 1 | 1 | 0 | 1 |\n",
       "| 43 | 2460000 | 520000  | Q3 | 127500000 | 20100000 | 0 | 0 | 1 | 0 |\n",
       "| 44 | 2460000 | 620000  | Q3 | 69000000  | 20100000 | 0 | 1 | 1 | 0 |\n",
       "| 45 | 2460000 | 810000  | Q2 | 69000000  | 20100000 | 0 | 0 | 1 | 1 |\n",
       "| 46 | 2460000 | 900000  | Q3 | 69000000  | 10950000 | 0 | 0 | 1 | 0 |\n",
       "| 47 | 2460000 | 1060000 | Q3 | 69000000  | 20100000 | 0 | 1 | 1 | 0 |\n",
       "| 48 | 2460000 | 1410000 | Q4 | 69000000  | 20100000 | 0 | 0 | 1 | 1 |\n",
       "| 49 | 2460000 | 1590000 | Q3 | 127500000 | 10950000 | 0 | 1 | 1 | 1 |\n",
       "| 50 | 2820000 | 520000  | Q4 | 69000000  | 10950000 | 1 | 0 | 1 | 0 |\n",
       "| 51 | 2820000 | 620000  | Q3 | 69000000  | 20100000 | 1 | 1 | 1 | 0 |\n",
       "| 52 | 2820000 | 810000  | Q2 | 69000000  | 10950000 | 1 | 0 | 1 | 1 |\n",
       "| 53 | 2820000 | 900000  | Q2 | 127500000 | 10950000 | 1 | 0 | 1 | 0 |\n",
       "| 54 | 2820000 | 1060000 | Q2 | 69000000  | 20100000 | 1 | 1 | 1 | 0 |\n",
       "| 55 | 2820000 | 1410000 | Q3 | 69000000  | 20100000 | 1 | 0 | 1 | 1 |\n",
       "| 56 | 2820000 | 1590000 | Q1 | 69000000  | 20100000 | 1 | 1 | 1 | 1 |\n",
       "\n"
      ],
      "text/plain": [
       "   Case Input_OPT_budget Input_SDL_budget input_period\n",
       "1   1   990000           520000           Q3          \n",
       "2   2   990000           620000           Q1          \n",
       "3   3   990000           810000           Q1          \n",
       "4   4   990000           900000           Q3          \n",
       "5   5   990000           1060000          Q4          \n",
       "6   6   990000           1410000          Q2          \n",
       "7   7   990000           1590000          Q1          \n",
       "8   8   1200000          520000           Q2          \n",
       "9   9   1200000          620000           Q1          \n",
       "10 10   1200000          810000           Q3          \n",
       "11 11   1200000          900000           Q2          \n",
       "12 12   1200000          1060000          Q2          \n",
       "13 13   1200000          1410000          Q3          \n",
       "14 14   1200000          1590000          Q1          \n",
       "15 15   1380000          520000           Q1          \n",
       "16 16   1380000          620000           Q3          \n",
       "17 17   1380000          810000           Q4          \n",
       "18 18   1380000          900000           Q3          \n",
       "19 19   1380000          1060000          Q4          \n",
       "20 20   1380000          1410000          Q3          \n",
       "21 21   1380000          1590000          Q1          \n",
       "22 22   1590000          520000           Q2          \n",
       "23 23   1590000          620000           Q4          \n",
       "24 24   1590000          810000           Q4          \n",
       "25 25   1590000          900000           Q2          \n",
       "26 26   1590000          1060000          Q1          \n",
       "27 27   1590000          1410000          Q3          \n",
       "28 28   1590000          1590000          Q1          \n",
       "29 29   1740000          520000           Q4          \n",
       "30 30   1740000          620000           Q3          \n",
       "31 31   1740000          810000           Q2          \n",
       "32 32   1740000          900000           Q2          \n",
       "33 33   1740000          1060000          Q4          \n",
       "34 34   1740000          1410000          Q3          \n",
       "35 35   1740000          1590000          Q3          \n",
       "36 36   2130000          520000           Q3          \n",
       "37 37   2130000          620000           Q2          \n",
       "38 38   2130000          810000           Q4          \n",
       "39 39   2130000          900000           Q1          \n",
       "40 40   2130000          1060000          Q3          \n",
       "41 41   2130000          1410000          Q3          \n",
       "42 42   2130000          1590000          Q4          \n",
       "43 43   2460000          520000           Q3          \n",
       "44 44   2460000          620000           Q3          \n",
       "45 45   2460000          810000           Q2          \n",
       "46 46   2460000          900000           Q3          \n",
       "47 47   2460000          1060000          Q3          \n",
       "48 48   2460000          1410000          Q4          \n",
       "49 49   2460000          1590000          Q3          \n",
       "50 50   2820000          520000           Q4          \n",
       "51 51   2820000          620000           Q3          \n",
       "52 52   2820000          810000           Q2          \n",
       "53 53   2820000          900000           Q2          \n",
       "54 54   2820000          1060000          Q2          \n",
       "55 55   2820000          1410000          Q3          \n",
       "56 56   2820000          1590000          Q1          \n",
       "   Input_OPT_crosschannel_imp Input_SDL_crosschannel_imp flight_flag_radio_OPT\n",
       "1  127500000                  20100000                   0                    \n",
       "2  69000000                   20100000                   0                    \n",
       "3  127500000                  20100000                   0                    \n",
       "4  69000000                   10950000                   0                    \n",
       "5  69000000                   10950000                   0                    \n",
       "6  69000000                   10950000                   0                    \n",
       "7  127500000                  20100000                   0                    \n",
       "8  69000000                   20100000                   1                    \n",
       "9  127500000                  20100000                   1                    \n",
       "10 69000000                   20100000                   1                    \n",
       "11 69000000                   20100000                   1                    \n",
       "12 127500000                  20100000                   1                    \n",
       "13 69000000                   10950000                   1                    \n",
       "14 127500000                  10950000                   1                    \n",
       "15 127500000                  10950000                   0                    \n",
       "16 69000000                   20100000                   0                    \n",
       "17 127500000                  20100000                   0                    \n",
       "18 127500000                  20100000                   0                    \n",
       "19 69000000                   20100000                   0                    \n",
       "20 127500000                  20100000                   0                    \n",
       "21 69000000                   20100000                   0                    \n",
       "22 69000000                   10950000                   1                    \n",
       "23 69000000                   20100000                   1                    \n",
       "24 127500000                  10950000                   1                    \n",
       "25 127500000                  10950000                   1                    \n",
       "26 69000000                   20100000                   1                    \n",
       "27 69000000                   10950000                   1                    \n",
       "28 69000000                   10950000                   1                    \n",
       "29 69000000                   20100000                   0                    \n",
       "30 69000000                   10950000                   0                    \n",
       "31 127500000                  10950000                   0                    \n",
       "32 127500000                  20100000                   0                    \n",
       "33 69000000                   20100000                   0                    \n",
       "34 69000000                   10950000                   0                    \n",
       "35 127500000                  10950000                   0                    \n",
       "36 127500000                  20100000                   1                    \n",
       "37 127500000                  10950000                   1                    \n",
       "38 69000000                   10950000                   1                    \n",
       "39 127500000                  20100000                   1                    \n",
       "40 127500000                  20100000                   1                    \n",
       "41 69000000                   20100000                   1                    \n",
       "42 127500000                  10950000                   1                    \n",
       "43 127500000                  20100000                   0                    \n",
       "44 69000000                   20100000                   0                    \n",
       "45 69000000                   20100000                   0                    \n",
       "46 69000000                   10950000                   0                    \n",
       "47 69000000                   20100000                   0                    \n",
       "48 69000000                   20100000                   0                    \n",
       "49 127500000                  10950000                   0                    \n",
       "50 69000000                   10950000                   1                    \n",
       "51 69000000                   20100000                   1                    \n",
       "52 69000000                   10950000                   1                    \n",
       "53 127500000                  10950000                   1                    \n",
       "54 69000000                   20100000                   1                    \n",
       "55 69000000                   20100000                   1                    \n",
       "56 69000000                   20100000                   1                    \n",
       "   flight_flag_radio_SDL flight_flag_DRTV_OPT flight_flag_DRTV_SDL\n",
       "1  0                     0                    0                   \n",
       "2  1                     0                    0                   \n",
       "3  0                     0                    1                   \n",
       "4  0                     0                    0                   \n",
       "5  1                     0                    0                   \n",
       "6  0                     0                    1                   \n",
       "7  1                     0                    1                   \n",
       "8  0                     0                    0                   \n",
       "9  1                     0                    0                   \n",
       "10 0                     0                    1                   \n",
       "11 0                     0                    0                   \n",
       "12 1                     0                    0                   \n",
       "13 0                     0                    1                   \n",
       "14 1                     0                    1                   \n",
       "15 0                     1                    0                   \n",
       "16 1                     1                    0                   \n",
       "17 0                     1                    1                   \n",
       "18 0                     1                    0                   \n",
       "19 1                     1                    0                   \n",
       "20 0                     1                    1                   \n",
       "21 1                     1                    1                   \n",
       "22 0                     1                    0                   \n",
       "23 1                     1                    0                   \n",
       "24 0                     1                    1                   \n",
       "25 0                     1                    0                   \n",
       "26 1                     1                    0                   \n",
       "27 0                     1                    1                   \n",
       "28 1                     1                    1                   \n",
       "29 0                     0                    0                   \n",
       "30 1                     0                    0                   \n",
       "31 0                     0                    1                   \n",
       "32 0                     0                    0                   \n",
       "33 1                     0                    0                   \n",
       "34 0                     0                    1                   \n",
       "35 1                     0                    1                   \n",
       "36 0                     0                    0                   \n",
       "37 1                     0                    0                   \n",
       "38 0                     0                    1                   \n",
       "39 0                     0                    0                   \n",
       "40 1                     0                    0                   \n",
       "41 0                     0                    1                   \n",
       "42 1                     0                    1                   \n",
       "43 0                     1                    0                   \n",
       "44 1                     1                    0                   \n",
       "45 0                     1                    1                   \n",
       "46 0                     1                    0                   \n",
       "47 1                     1                    0                   \n",
       "48 0                     1                    1                   \n",
       "49 1                     1                    1                   \n",
       "50 0                     1                    0                   \n",
       "51 1                     1                    0                   \n",
       "52 0                     1                    1                   \n",
       "53 0                     1                    0                   \n",
       "54 1                     1                    0                   \n",
       "55 0                     1                    1                   \n",
       "56 1                     1                    1                   "
      ]
     },
     "metadata": {},
     "output_type": "display_data"
    }
   ],
   "source": [
    "summary_case_df <- summary_case_df %>%\n",
    "                    #mutate_at(.vars = vars(matches('flight_flag.*')),.funs = ~recode(.,\"TRUE\" = 1,\"FALSE\" = 0)) %>%\n",
    "                    mutate(Case = row_number()) %>%\n",
    "                    mutate_at(.vars = vars(matches('flight_flag*')),.funs = ~ifelse(.=='TRUE',1,0)) %>%\n",
    "                    select(Case,everything())\n",
    "\n",
    "summary_case_df"
   ]
  },
  {
   "cell_type": "code",
   "execution_count": 134,
   "metadata": {
    "ExecuteTime": {
     "end_time": "2021-06-08T16:49:44.688791Z",
     "start_time": "2021-06-08T16:44:22.430Z"
    }
   },
   "outputs": [],
   "source": [
    "write.csv(summary_case_df,'test_cases_pkg/All_Cases_summary.csv',row.names = F)"
   ]
  }
 ],
 "metadata": {
  "environment": {
   "name": "r-cpu.3-6.m61",
   "type": "gcloud",
   "uri": "gcr.io/deeplearning-platform-release/r-cpu.3-6:m61"
  },
  "kernelspec": {
   "display_name": "R",
   "language": "R",
   "name": "ir"
  },
  "language_info": {
   "codemirror_mode": "r",
   "file_extension": ".r",
   "mimetype": "text/x-r-source",
   "name": "R",
   "pygments_lexer": "r",
   "version": "3.6.3"
  },
  "toc": {
   "base_numbering": 1,
   "nav_menu": {},
   "number_sections": true,
   "sideBar": true,
   "skip_h1_title": false,
   "title_cell": "Table of Contents",
   "title_sidebar": "Contents",
   "toc_cell": false,
   "toc_position": {},
   "toc_section_display": true,
   "toc_window_display": false
  }
 },
 "nbformat": 4,
 "nbformat_minor": 4
}
