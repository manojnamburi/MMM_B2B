{
 "cells": [
  {
   "cell_type": "code",
   "execution_count": 1,
   "metadata": {
    "ExecuteTime": {
     "end_time": "2021-07-07T19:50:56.008841Z",
     "start_time": "2021-07-07T19:50:53.417484Z"
    }
   },
   "outputs": [],
   "source": [
    "import pandas as pd\n",
    "import numpy as np\n",
    "import datetime as dt\n",
    "from scipy import stats"
   ]
  },
  {
   "cell_type": "markdown",
   "metadata": {},
   "source": [
    "## Longer time series data"
   ]
  },
  {
   "cell_type": "markdown",
   "metadata": {},
   "source": [
    "### Combining SDL + OPT data"
   ]
  },
  {
   "cell_type": "code",
   "execution_count": 2,
   "metadata": {
    "ExecuteTime": {
     "end_time": "2021-07-07T19:50:56.047854Z",
     "start_time": "2021-07-07T19:50:56.010666Z"
    }
   },
   "outputs": [
    {
     "data": {
      "text/html": [
       "<div>\n",
       "<style scoped>\n",
       "    .dataframe tbody tr th:only-of-type {\n",
       "        vertical-align: middle;\n",
       "    }\n",
       "\n",
       "    .dataframe tbody tr th {\n",
       "        vertical-align: top;\n",
       "    }\n",
       "\n",
       "    .dataframe thead th {\n",
       "        text-align: right;\n",
       "    }\n",
       "</style>\n",
       "<table border=\"1\" class=\"dataframe\">\n",
       "  <thead>\n",
       "    <tr style=\"text-align: right;\">\n",
       "      <th></th>\n",
       "      <th>period</th>\n",
       "      <th>DMA</th>\n",
       "      <th>gross_add</th>\n",
       "      <th>gross_add_revenue</th>\n",
       "    </tr>\n",
       "  </thead>\n",
       "  <tbody>\n",
       "    <tr>\n",
       "      <th>0</th>\n",
       "      <td>2015-12-27</td>\n",
       "      <td>ABILENE, TX</td>\n",
       "      <td>1.0</td>\n",
       "      <td>2500.00</td>\n",
       "    </tr>\n",
       "    <tr>\n",
       "      <th>1</th>\n",
       "      <td>2015-12-27</td>\n",
       "      <td>HOUSTON, TX</td>\n",
       "      <td>1.0</td>\n",
       "      <td>64.95</td>\n",
       "    </tr>\n",
       "    <tr>\n",
       "      <th>2</th>\n",
       "      <td>2015-12-27</td>\n",
       "      <td>MONROE-ELDORADO, LA</td>\n",
       "      <td>1.0</td>\n",
       "      <td>45.36</td>\n",
       "    </tr>\n",
       "    <tr>\n",
       "      <th>3</th>\n",
       "      <td>2015-12-27</td>\n",
       "      <td>PARKERSBERG, WV</td>\n",
       "      <td>1.0</td>\n",
       "      <td>89.95</td>\n",
       "    </tr>\n",
       "    <tr>\n",
       "      <th>4</th>\n",
       "      <td>2016-01-03</td>\n",
       "      <td>ABILENE, TX</td>\n",
       "      <td>23.0</td>\n",
       "      <td>2069.03</td>\n",
       "    </tr>\n",
       "  </tbody>\n",
       "</table>\n",
       "</div>"
      ],
      "text/plain": [
       "       period                  DMA  gross_add  gross_add_revenue\n",
       "0  2015-12-27          ABILENE, TX        1.0            2500.00\n",
       "1  2015-12-27          HOUSTON, TX        1.0              64.95\n",
       "2  2015-12-27  MONROE-ELDORADO, LA        1.0              45.36\n",
       "3  2015-12-27      PARKERSBERG, WV        1.0              89.95\n",
       "4  2016-01-03          ABILENE, TX       23.0            2069.03"
      ]
     },
     "execution_count": 2,
     "metadata": {},
     "output_type": "execute_result"
    }
   ],
   "source": [
    "df_sdl_2016_2021 = pd.read_csv(\"Raw_Files/sdl_gross_add_3yrs_q321.csv\")\n",
    "df_sdl_2016_2021.head()"
   ]
  },
  {
   "cell_type": "code",
   "execution_count": 3,
   "metadata": {
    "ExecuteTime": {
     "end_time": "2021-07-07T19:50:56.055876Z",
     "start_time": "2021-07-07T19:50:56.049859Z"
    }
   },
   "outputs": [
    {
     "data": {
      "text/plain": [
       "array(['ABILENE, TX', 'HOUSTON, TX', 'MONROE-ELDORADO, LA',\n",
       "       'PARKERSBERG, WV', 'ALEXANDRIA, LA', 'AMARILLO, TX', 'AUSTIN, TX',\n",
       "       'BLUEFIELD-BECKLEY, WV', 'CHARLESTON-HUNTINGTON, WV',\n",
       "       'CLARKSBURG-WESTON, WV', 'COLUMBIA-JEFFERSON CITY, MO',\n",
       "       'DALLAS, TX', 'EUREKA, CA', 'GREENVILLE-NEW BERN, NC',\n",
       "       'GREENWOOD-GREENVILLE, MS', 'JONESBORO, AR',\n",
       "       'JOPLIN, MO - PITTSBURG, KS', 'KANSAS CITY, MO',\n",
       "       'LAKE CHARLES, LA', 'LAS VEGAS, NV', 'LITTLE ROCK, AR',\n",
       "       'LOS ANGELES, CA', 'LUBBOCK, TX', 'MEMPHIS, TN',\n",
       "       'ODESSA-MIDLAND, TX', 'OKLAHOMA CITY, OK', 'PALM SPRINGS, CA',\n",
       "       'PHOENIX, AZ', 'RALEIGH-DURHAM, NC', 'RENO, NV', 'SACRAMENTO, CA',\n",
       "       'SAN ANGELO, TX', 'SHREVEPORT, LA', 'SPOKANE, WA',\n",
       "       'SPRINGFIELD, MO', 'ST JOSEPH, MO', 'TULSA, OK',\n",
       "       'TYLER-LONGVIEW, TX', 'VICTORIA, TX', 'WACO-TEMPLE, TX',\n",
       "       'WICHITA FALLS, TX - LAWTON, OK', 'LAFAYETTE, LA',\n",
       "       'SHERMAN-ADA, OK', 'MONTEREY-SALINAS, CA', 'CLEVELAND, OH',\n",
       "       'COLUMBUS, OH', 'FT SMITH, AR', 'FRESNO-VISALIA, CA',\n",
       "       'WICHITA-HUTCHINSON, KS'], dtype=object)"
      ]
     },
     "execution_count": 3,
     "metadata": {},
     "output_type": "execute_result"
    }
   ],
   "source": [
    "df_sdl_2016_2021['DMA'].unique()"
   ]
  },
  {
   "cell_type": "code",
   "execution_count": 4,
   "metadata": {
    "ExecuteTime": {
     "end_time": "2021-07-07T19:50:56.066905Z",
     "start_time": "2021-07-07T19:50:56.057882Z"
    }
   },
   "outputs": [
    {
     "data": {
      "text/plain": [
       "49"
      ]
     },
     "execution_count": 4,
     "metadata": {},
     "output_type": "execute_result"
    }
   ],
   "source": [
    "df_sdl_2016_2021['DMA'].nunique()"
   ]
  },
  {
   "cell_type": "code",
   "execution_count": 5,
   "metadata": {
    "ExecuteTime": {
     "end_time": "2021-07-07T19:50:56.081473Z",
     "start_time": "2021-07-07T19:50:56.067908Z"
    }
   },
   "outputs": [
    {
     "data": {
      "text/plain": [
       "array(['ABILENE, TX', 'ALEXANDRIA, LA', 'AMARILLO, TX', 'AUSTIN, TX',\n",
       "       'BLUEFIELD-BECKLEY, WV', 'CHARLESTON-HUNTINGTON, WV',\n",
       "       'CLARKSBURG-WESTON, WV', 'COLUMBIA-JEFFERSON CITY, MO',\n",
       "       'DALLAS, TX', 'EUREKA, CA', 'GREENVILLE-NEW BERN, NC',\n",
       "       'GREENWOOD-GREENVILLE, MS', 'HOUSTON, TX', 'JONESBORO, AR',\n",
       "       'KANSAS CITY, MO', 'LAKE CHARLES, LA', 'LITTLE ROCK, AR',\n",
       "       'LUBBOCK, TX', 'MONROE-ELDORADO, LA', 'ODESSA-MIDLAND, TX',\n",
       "       'OKLAHOMA CITY, OK', 'PALM SPRINGS, CA', 'PARKERSBERG, WV',\n",
       "       'PHOENIX, AZ', 'RALEIGH-DURHAM, NC', 'RENO, NV', 'SACRAMENTO, CA',\n",
       "       'SAN ANGELO, TX', 'SHREVEPORT, LA', 'SPRINGFIELD, MO',\n",
       "       'ST JOSEPH, MO', 'TULSA, OK', 'TYLER-LONGVIEW, TX', 'VICTORIA, TX',\n",
       "       'WACO-TEMPLE, TX', 'WICHITA FALLS, TX - LAWTON, OK'], dtype=object)"
      ]
     },
     "execution_count": 5,
     "metadata": {},
     "output_type": "execute_result"
    }
   ],
   "source": [
    "df_sdl_2016_2021[df_sdl_2016_2021['period'] == '2019-12-01']['DMA'].unique()"
   ]
  },
  {
   "cell_type": "code",
   "execution_count": 6,
   "metadata": {
    "ExecuteTime": {
     "end_time": "2021-07-07T19:50:56.098498Z",
     "start_time": "2021-07-07T19:50:56.082464Z"
    }
   },
   "outputs": [
    {
     "data": {
      "text/html": [
       "<div>\n",
       "<style scoped>\n",
       "    .dataframe tbody tr th:only-of-type {\n",
       "        vertical-align: middle;\n",
       "    }\n",
       "\n",
       "    .dataframe tbody tr th {\n",
       "        vertical-align: top;\n",
       "    }\n",
       "\n",
       "    .dataframe thead th {\n",
       "        text-align: right;\n",
       "    }\n",
       "</style>\n",
       "<table border=\"1\" class=\"dataframe\">\n",
       "  <thead>\n",
       "    <tr style=\"text-align: right;\">\n",
       "      <th></th>\n",
       "      <th>period</th>\n",
       "      <th>gross_add</th>\n",
       "      <th>gross_add_revenue</th>\n",
       "    </tr>\n",
       "  </thead>\n",
       "  <tbody>\n",
       "    <tr>\n",
       "      <th>0</th>\n",
       "      <td>2015-12-27</td>\n",
       "      <td>48.0</td>\n",
       "      <td>6055.72</td>\n",
       "    </tr>\n",
       "    <tr>\n",
       "      <th>1</th>\n",
       "      <td>2016-01-03</td>\n",
       "      <td>960.0</td>\n",
       "      <td>101760.85</td>\n",
       "    </tr>\n",
       "    <tr>\n",
       "      <th>2</th>\n",
       "      <td>2016-01-10</td>\n",
       "      <td>943.0</td>\n",
       "      <td>98930.51</td>\n",
       "    </tr>\n",
       "    <tr>\n",
       "      <th>3</th>\n",
       "      <td>2016-01-17</td>\n",
       "      <td>815.0</td>\n",
       "      <td>83757.10</td>\n",
       "    </tr>\n",
       "    <tr>\n",
       "      <th>4</th>\n",
       "      <td>2016-01-24</td>\n",
       "      <td>894.0</td>\n",
       "      <td>100049.23</td>\n",
       "    </tr>\n",
       "  </tbody>\n",
       "</table>\n",
       "</div>"
      ],
      "text/plain": [
       "       period  gross_add  gross_add_revenue\n",
       "0  2015-12-27       48.0            6055.72\n",
       "1  2016-01-03      960.0          101760.85\n",
       "2  2016-01-10      943.0           98930.51\n",
       "3  2016-01-17      815.0           83757.10\n",
       "4  2016-01-24      894.0          100049.23"
      ]
     },
     "execution_count": 6,
     "metadata": {},
     "output_type": "execute_result"
    }
   ],
   "source": [
    "df_opt_2016_2021 = pd.read_csv(\"Raw_Files/opt_gross_add_3yrs_q321.csv\")\n",
    "df_opt_2016_2021.head()"
   ]
  },
  {
   "cell_type": "code",
   "execution_count": 7,
   "metadata": {
    "ExecuteTime": {
     "end_time": "2021-07-07T19:50:56.117546Z",
     "start_time": "2021-07-07T19:50:56.099497Z"
    }
   },
   "outputs": [
    {
     "data": {
      "text/html": [
       "<div>\n",
       "<style scoped>\n",
       "    .dataframe tbody tr th:only-of-type {\n",
       "        vertical-align: middle;\n",
       "    }\n",
       "\n",
       "    .dataframe tbody tr th {\n",
       "        vertical-align: top;\n",
       "    }\n",
       "\n",
       "    .dataframe thead th {\n",
       "        text-align: right;\n",
       "    }\n",
       "</style>\n",
       "<table border=\"1\" class=\"dataframe\">\n",
       "  <thead>\n",
       "    <tr style=\"text-align: right;\">\n",
       "      <th></th>\n",
       "      <th>period</th>\n",
       "      <th>gross_add</th>\n",
       "      <th>gross_add_revenue</th>\n",
       "      <th>DMA</th>\n",
       "    </tr>\n",
       "  </thead>\n",
       "  <tbody>\n",
       "    <tr>\n",
       "      <th>0</th>\n",
       "      <td>2015-12-27</td>\n",
       "      <td>48.0</td>\n",
       "      <td>6055.72</td>\n",
       "      <td>NEW YORK, NY</td>\n",
       "    </tr>\n",
       "    <tr>\n",
       "      <th>1</th>\n",
       "      <td>2016-01-03</td>\n",
       "      <td>960.0</td>\n",
       "      <td>101760.85</td>\n",
       "      <td>NEW YORK, NY</td>\n",
       "    </tr>\n",
       "    <tr>\n",
       "      <th>2</th>\n",
       "      <td>2016-01-10</td>\n",
       "      <td>943.0</td>\n",
       "      <td>98930.51</td>\n",
       "      <td>NEW YORK, NY</td>\n",
       "    </tr>\n",
       "    <tr>\n",
       "      <th>3</th>\n",
       "      <td>2016-01-17</td>\n",
       "      <td>815.0</td>\n",
       "      <td>83757.10</td>\n",
       "      <td>NEW YORK, NY</td>\n",
       "    </tr>\n",
       "    <tr>\n",
       "      <th>4</th>\n",
       "      <td>2016-01-24</td>\n",
       "      <td>894.0</td>\n",
       "      <td>100049.23</td>\n",
       "      <td>NEW YORK, NY</td>\n",
       "    </tr>\n",
       "  </tbody>\n",
       "</table>\n",
       "</div>"
      ],
      "text/plain": [
       "       period  gross_add  gross_add_revenue           DMA\n",
       "0  2015-12-27       48.0            6055.72  NEW YORK, NY\n",
       "1  2016-01-03      960.0          101760.85  NEW YORK, NY\n",
       "2  2016-01-10      943.0           98930.51  NEW YORK, NY\n",
       "3  2016-01-17      815.0           83757.10  NEW YORK, NY\n",
       "4  2016-01-24      894.0          100049.23  NEW YORK, NY"
      ]
     },
     "execution_count": 7,
     "metadata": {},
     "output_type": "execute_result"
    }
   ],
   "source": [
    "df_opt_2016_2021['DMA'] = 'NEW YORK, NY'\n",
    "df_opt_2016_2021.head()"
   ]
  },
  {
   "cell_type": "code",
   "execution_count": 8,
   "metadata": {
    "ExecuteTime": {
     "end_time": "2021-07-07T19:50:56.128608Z",
     "start_time": "2021-07-07T19:50:56.120553Z"
    },
    "scrolled": true
   },
   "outputs": [],
   "source": [
    "df_sdl_opt_2016_2021 = pd.concat([df_sdl_2016_2021,df_opt_2016_2021], axis = 0)\n",
    "# df_sdl_opt_2016_2021.to_csv('/opt/notebooks/MMM_B2B/Data/B2B_GA_2016_2019.csv')"
   ]
  },
  {
   "cell_type": "code",
   "execution_count": 9,
   "metadata": {
    "ExecuteTime": {
     "end_time": "2021-07-07T19:50:56.145651Z",
     "start_time": "2021-07-07T19:50:56.130579Z"
    },
    "scrolled": true
   },
   "outputs": [
    {
     "data": {
      "text/html": [
       "<div>\n",
       "<style scoped>\n",
       "    .dataframe tbody tr th:only-of-type {\n",
       "        vertical-align: middle;\n",
       "    }\n",
       "\n",
       "    .dataframe tbody tr th {\n",
       "        vertical-align: top;\n",
       "    }\n",
       "\n",
       "    .dataframe thead th {\n",
       "        text-align: right;\n",
       "    }\n",
       "</style>\n",
       "<table border=\"1\" class=\"dataframe\">\n",
       "  <thead>\n",
       "    <tr style=\"text-align: right;\">\n",
       "      <th></th>\n",
       "      <th>period</th>\n",
       "      <th>DMA</th>\n",
       "      <th>gross_add</th>\n",
       "      <th>gross_add_revenue</th>\n",
       "    </tr>\n",
       "  </thead>\n",
       "  <tbody>\n",
       "    <tr>\n",
       "      <th>0</th>\n",
       "      <td>2015-12-27</td>\n",
       "      <td>ABILENE, TX</td>\n",
       "      <td>1.0</td>\n",
       "      <td>2500.00</td>\n",
       "    </tr>\n",
       "    <tr>\n",
       "      <th>1</th>\n",
       "      <td>2015-12-27</td>\n",
       "      <td>HOUSTON, TX</td>\n",
       "      <td>1.0</td>\n",
       "      <td>64.95</td>\n",
       "    </tr>\n",
       "    <tr>\n",
       "      <th>2</th>\n",
       "      <td>2015-12-27</td>\n",
       "      <td>MONROE-ELDORADO, LA</td>\n",
       "      <td>1.0</td>\n",
       "      <td>45.36</td>\n",
       "    </tr>\n",
       "    <tr>\n",
       "      <th>3</th>\n",
       "      <td>2015-12-27</td>\n",
       "      <td>PARKERSBERG, WV</td>\n",
       "      <td>1.0</td>\n",
       "      <td>89.95</td>\n",
       "    </tr>\n",
       "    <tr>\n",
       "      <th>4</th>\n",
       "      <td>2016-01-03</td>\n",
       "      <td>ABILENE, TX</td>\n",
       "      <td>23.0</td>\n",
       "      <td>2069.03</td>\n",
       "    </tr>\n",
       "    <tr>\n",
       "      <th>...</th>\n",
       "      <td>...</td>\n",
       "      <td>...</td>\n",
       "      <td>...</td>\n",
       "      <td>...</td>\n",
       "    </tr>\n",
       "    <tr>\n",
       "      <th>269</th>\n",
       "      <td>2021-02-21</td>\n",
       "      <td>NEW YORK, NY</td>\n",
       "      <td>1002.0</td>\n",
       "      <td>143013.30</td>\n",
       "    </tr>\n",
       "    <tr>\n",
       "      <th>270</th>\n",
       "      <td>2021-02-28</td>\n",
       "      <td>NEW YORK, NY</td>\n",
       "      <td>917.0</td>\n",
       "      <td>121802.20</td>\n",
       "    </tr>\n",
       "    <tr>\n",
       "      <th>271</th>\n",
       "      <td>2021-03-07</td>\n",
       "      <td>NEW YORK, NY</td>\n",
       "      <td>856.0</td>\n",
       "      <td>121021.04</td>\n",
       "    </tr>\n",
       "    <tr>\n",
       "      <th>272</th>\n",
       "      <td>2021-03-14</td>\n",
       "      <td>NEW YORK, NY</td>\n",
       "      <td>875.0</td>\n",
       "      <td>125020.15</td>\n",
       "    </tr>\n",
       "    <tr>\n",
       "      <th>273</th>\n",
       "      <td>2021-03-21</td>\n",
       "      <td>NEW YORK, NY</td>\n",
       "      <td>894.0</td>\n",
       "      <td>127572.64</td>\n",
       "    </tr>\n",
       "  </tbody>\n",
       "</table>\n",
       "<p>10544 rows × 4 columns</p>\n",
       "</div>"
      ],
      "text/plain": [
       "         period                  DMA  gross_add  gross_add_revenue\n",
       "0    2015-12-27          ABILENE, TX        1.0            2500.00\n",
       "1    2015-12-27          HOUSTON, TX        1.0              64.95\n",
       "2    2015-12-27  MONROE-ELDORADO, LA        1.0              45.36\n",
       "3    2015-12-27      PARKERSBERG, WV        1.0              89.95\n",
       "4    2016-01-03          ABILENE, TX       23.0            2069.03\n",
       "..          ...                  ...        ...                ...\n",
       "269  2021-02-21         NEW YORK, NY     1002.0          143013.30\n",
       "270  2021-02-28         NEW YORK, NY      917.0          121802.20\n",
       "271  2021-03-07         NEW YORK, NY      856.0          121021.04\n",
       "272  2021-03-14         NEW YORK, NY      875.0          125020.15\n",
       "273  2021-03-21         NEW YORK, NY      894.0          127572.64\n",
       "\n",
       "[10544 rows x 4 columns]"
      ]
     },
     "execution_count": 9,
     "metadata": {},
     "output_type": "execute_result"
    }
   ],
   "source": [
    "df_sdl_opt_2016_2021"
   ]
  },
  {
   "cell_type": "code",
   "execution_count": 10,
   "metadata": {
    "ExecuteTime": {
     "end_time": "2021-07-07T19:50:56.174201Z",
     "start_time": "2021-07-07T19:50:56.146622Z"
    }
   },
   "outputs": [],
   "source": [
    "# df_sdl_opt_2016_2019.to_csv('/opt/notebooks/MMM_B2B/Data/B2B_GA_2016_2019.csv')"
   ]
  },
  {
   "cell_type": "markdown",
   "metadata": {},
   "source": [
    "### getting all 51 DMA names for all months"
   ]
  },
  {
   "cell_type": "markdown",
   "metadata": {},
   "source": [
    "SAN ANTONIO, TX has 0 GA. Hence that DMA is not present in data. It will be included in the All Other Suddenlink DMA total in section 1.3"
   ]
  },
  {
   "cell_type": "code",
   "execution_count": 11,
   "metadata": {
    "ExecuteTime": {
     "end_time": "2021-07-07T19:50:56.224837Z",
     "start_time": "2021-07-07T19:50:56.175705Z"
    }
   },
   "outputs": [
    {
     "data": {
      "text/html": [
       "<div>\n",
       "<style scoped>\n",
       "    .dataframe tbody tr th:only-of-type {\n",
       "        vertical-align: middle;\n",
       "    }\n",
       "\n",
       "    .dataframe tbody tr th {\n",
       "        vertical-align: top;\n",
       "    }\n",
       "\n",
       "    .dataframe thead th {\n",
       "        text-align: right;\n",
       "    }\n",
       "</style>\n",
       "<table border=\"1\" class=\"dataframe\">\n",
       "  <thead>\n",
       "    <tr style=\"text-align: right;\">\n",
       "      <th>DMA</th>\n",
       "      <th>period</th>\n",
       "      <th>ABILENE, TX</th>\n",
       "      <th>ALEXANDRIA, LA</th>\n",
       "      <th>AMARILLO, TX</th>\n",
       "      <th>AUSTIN, TX</th>\n",
       "      <th>BLUEFIELD-BECKLEY, WV</th>\n",
       "      <th>CHARLESTON-HUNTINGTON, WV</th>\n",
       "      <th>CLARKSBURG-WESTON, WV</th>\n",
       "      <th>CLEVELAND, OH</th>\n",
       "      <th>COLUMBIA-JEFFERSON CITY, MO</th>\n",
       "      <th>...</th>\n",
       "      <th>SHREVEPORT, LA</th>\n",
       "      <th>SPOKANE, WA</th>\n",
       "      <th>SPRINGFIELD, MO</th>\n",
       "      <th>ST JOSEPH, MO</th>\n",
       "      <th>TULSA, OK</th>\n",
       "      <th>TYLER-LONGVIEW, TX</th>\n",
       "      <th>VICTORIA, TX</th>\n",
       "      <th>WACO-TEMPLE, TX</th>\n",
       "      <th>WICHITA FALLS, TX - LAWTON, OK</th>\n",
       "      <th>WICHITA-HUTCHINSON, KS</th>\n",
       "    </tr>\n",
       "  </thead>\n",
       "  <tbody>\n",
       "    <tr>\n",
       "      <th>0</th>\n",
       "      <td>2015-12-27</td>\n",
       "      <td>1.0</td>\n",
       "      <td>NaN</td>\n",
       "      <td>NaN</td>\n",
       "      <td>NaN</td>\n",
       "      <td>NaN</td>\n",
       "      <td>NaN</td>\n",
       "      <td>NaN</td>\n",
       "      <td>NaN</td>\n",
       "      <td>NaN</td>\n",
       "      <td>...</td>\n",
       "      <td>NaN</td>\n",
       "      <td>NaN</td>\n",
       "      <td>NaN</td>\n",
       "      <td>NaN</td>\n",
       "      <td>NaN</td>\n",
       "      <td>NaN</td>\n",
       "      <td>NaN</td>\n",
       "      <td>NaN</td>\n",
       "      <td>NaN</td>\n",
       "      <td>NaN</td>\n",
       "    </tr>\n",
       "    <tr>\n",
       "      <th>1</th>\n",
       "      <td>2016-01-03</td>\n",
       "      <td>23.0</td>\n",
       "      <td>11.0</td>\n",
       "      <td>18.0</td>\n",
       "      <td>16.0</td>\n",
       "      <td>14.0</td>\n",
       "      <td>22.0</td>\n",
       "      <td>2.0</td>\n",
       "      <td>NaN</td>\n",
       "      <td>1.0</td>\n",
       "      <td>...</td>\n",
       "      <td>17.0</td>\n",
       "      <td>1.0</td>\n",
       "      <td>14.0</td>\n",
       "      <td>10.0</td>\n",
       "      <td>6.0</td>\n",
       "      <td>51.0</td>\n",
       "      <td>16.0</td>\n",
       "      <td>13.0</td>\n",
       "      <td>1.0</td>\n",
       "      <td>NaN</td>\n",
       "    </tr>\n",
       "    <tr>\n",
       "      <th>2</th>\n",
       "      <td>2016-01-10</td>\n",
       "      <td>18.0</td>\n",
       "      <td>15.0</td>\n",
       "      <td>31.0</td>\n",
       "      <td>12.0</td>\n",
       "      <td>13.0</td>\n",
       "      <td>22.0</td>\n",
       "      <td>2.0</td>\n",
       "      <td>NaN</td>\n",
       "      <td>2.0</td>\n",
       "      <td>...</td>\n",
       "      <td>13.0</td>\n",
       "      <td>NaN</td>\n",
       "      <td>17.0</td>\n",
       "      <td>4.0</td>\n",
       "      <td>6.0</td>\n",
       "      <td>47.0</td>\n",
       "      <td>9.0</td>\n",
       "      <td>17.0</td>\n",
       "      <td>1.0</td>\n",
       "      <td>NaN</td>\n",
       "    </tr>\n",
       "    <tr>\n",
       "      <th>3</th>\n",
       "      <td>2016-01-17</td>\n",
       "      <td>15.0</td>\n",
       "      <td>11.0</td>\n",
       "      <td>23.0</td>\n",
       "      <td>13.0</td>\n",
       "      <td>7.0</td>\n",
       "      <td>26.0</td>\n",
       "      <td>3.0</td>\n",
       "      <td>NaN</td>\n",
       "      <td>NaN</td>\n",
       "      <td>...</td>\n",
       "      <td>11.0</td>\n",
       "      <td>NaN</td>\n",
       "      <td>17.0</td>\n",
       "      <td>5.0</td>\n",
       "      <td>6.0</td>\n",
       "      <td>41.0</td>\n",
       "      <td>7.0</td>\n",
       "      <td>14.0</td>\n",
       "      <td>2.0</td>\n",
       "      <td>NaN</td>\n",
       "    </tr>\n",
       "    <tr>\n",
       "      <th>4</th>\n",
       "      <td>2016-01-24</td>\n",
       "      <td>12.0</td>\n",
       "      <td>13.0</td>\n",
       "      <td>29.0</td>\n",
       "      <td>9.0</td>\n",
       "      <td>6.0</td>\n",
       "      <td>41.0</td>\n",
       "      <td>1.0</td>\n",
       "      <td>NaN</td>\n",
       "      <td>NaN</td>\n",
       "      <td>...</td>\n",
       "      <td>15.0</td>\n",
       "      <td>4.0</td>\n",
       "      <td>17.0</td>\n",
       "      <td>3.0</td>\n",
       "      <td>8.0</td>\n",
       "      <td>39.0</td>\n",
       "      <td>6.0</td>\n",
       "      <td>19.0</td>\n",
       "      <td>3.0</td>\n",
       "      <td>NaN</td>\n",
       "    </tr>\n",
       "  </tbody>\n",
       "</table>\n",
       "<p>5 rows × 51 columns</p>\n",
       "</div>"
      ],
      "text/plain": [
       "DMA      period  ABILENE, TX  ALEXANDRIA, LA  AMARILLO, TX  AUSTIN, TX  \\\n",
       "0    2015-12-27          1.0             NaN           NaN         NaN   \n",
       "1    2016-01-03         23.0            11.0          18.0        16.0   \n",
       "2    2016-01-10         18.0            15.0          31.0        12.0   \n",
       "3    2016-01-17         15.0            11.0          23.0        13.0   \n",
       "4    2016-01-24         12.0            13.0          29.0         9.0   \n",
       "\n",
       "DMA  BLUEFIELD-BECKLEY, WV  CHARLESTON-HUNTINGTON, WV  CLARKSBURG-WESTON, WV  \\\n",
       "0                      NaN                        NaN                    NaN   \n",
       "1                     14.0                       22.0                    2.0   \n",
       "2                     13.0                       22.0                    2.0   \n",
       "3                      7.0                       26.0                    3.0   \n",
       "4                      6.0                       41.0                    1.0   \n",
       "\n",
       "DMA  CLEVELAND, OH  COLUMBIA-JEFFERSON CITY, MO  ...  SHREVEPORT, LA  \\\n",
       "0              NaN                          NaN  ...             NaN   \n",
       "1              NaN                          1.0  ...            17.0   \n",
       "2              NaN                          2.0  ...            13.0   \n",
       "3              NaN                          NaN  ...            11.0   \n",
       "4              NaN                          NaN  ...            15.0   \n",
       "\n",
       "DMA  SPOKANE, WA  SPRINGFIELD, MO  ST JOSEPH, MO  TULSA, OK  \\\n",
       "0            NaN              NaN            NaN        NaN   \n",
       "1            1.0             14.0           10.0        6.0   \n",
       "2            NaN             17.0            4.0        6.0   \n",
       "3            NaN             17.0            5.0        6.0   \n",
       "4            4.0             17.0            3.0        8.0   \n",
       "\n",
       "DMA  TYLER-LONGVIEW, TX  VICTORIA, TX  WACO-TEMPLE, TX  \\\n",
       "0                   NaN           NaN              NaN   \n",
       "1                  51.0          16.0             13.0   \n",
       "2                  47.0           9.0             17.0   \n",
       "3                  41.0           7.0             14.0   \n",
       "4                  39.0           6.0             19.0   \n",
       "\n",
       "DMA  WICHITA FALLS, TX - LAWTON, OK  WICHITA-HUTCHINSON, KS  \n",
       "0                               NaN                     NaN  \n",
       "1                               1.0                     NaN  \n",
       "2                               1.0                     NaN  \n",
       "3                               2.0                     NaN  \n",
       "4                               3.0                     NaN  \n",
       "\n",
       "[5 rows x 51 columns]"
      ]
     },
     "execution_count": 11,
     "metadata": {},
     "output_type": "execute_result"
    }
   ],
   "source": [
    "# taking act_vol_dvr as column - no specific reason\n",
    "df_pivot = pd.pivot_table(df_sdl_opt_2016_2021, values='gross_add', index=['period'], columns=['DMA'], aggfunc=np.sum)\n",
    "df_pivot.reset_index(inplace = True)\n",
    "df_pivot.head()"
   ]
  },
  {
   "cell_type": "code",
   "execution_count": 12,
   "metadata": {
    "ExecuteTime": {
     "end_time": "2021-07-07T19:50:56.246895Z",
     "start_time": "2021-07-07T19:50:56.225838Z"
    }
   },
   "outputs": [
    {
     "data": {
      "text/html": [
       "<div>\n",
       "<style scoped>\n",
       "    .dataframe tbody tr th:only-of-type {\n",
       "        vertical-align: middle;\n",
       "    }\n",
       "\n",
       "    .dataframe tbody tr th {\n",
       "        vertical-align: top;\n",
       "    }\n",
       "\n",
       "    .dataframe thead th {\n",
       "        text-align: right;\n",
       "    }\n",
       "</style>\n",
       "<table border=\"1\" class=\"dataframe\">\n",
       "  <thead>\n",
       "    <tr style=\"text-align: right;\">\n",
       "      <th>DMA</th>\n",
       "      <th>index</th>\n",
       "      <th>period</th>\n",
       "      <th>ABILENE, TX</th>\n",
       "      <th>ALEXANDRIA, LA</th>\n",
       "      <th>AMARILLO, TX</th>\n",
       "      <th>AUSTIN, TX</th>\n",
       "      <th>BLUEFIELD-BECKLEY, WV</th>\n",
       "      <th>CHARLESTON-HUNTINGTON, WV</th>\n",
       "      <th>CLARKSBURG-WESTON, WV</th>\n",
       "      <th>CLEVELAND, OH</th>\n",
       "      <th>...</th>\n",
       "      <th>SHREVEPORT, LA</th>\n",
       "      <th>SPOKANE, WA</th>\n",
       "      <th>SPRINGFIELD, MO</th>\n",
       "      <th>ST JOSEPH, MO</th>\n",
       "      <th>TULSA, OK</th>\n",
       "      <th>TYLER-LONGVIEW, TX</th>\n",
       "      <th>VICTORIA, TX</th>\n",
       "      <th>WACO-TEMPLE, TX</th>\n",
       "      <th>WICHITA FALLS, TX - LAWTON, OK</th>\n",
       "      <th>WICHITA-HUTCHINSON, KS</th>\n",
       "    </tr>\n",
       "  </thead>\n",
       "  <tbody>\n",
       "    <tr>\n",
       "      <th>0</th>\n",
       "      <td>0</td>\n",
       "      <td>2015-12-27</td>\n",
       "      <td>1.0</td>\n",
       "      <td>0.0</td>\n",
       "      <td>0.0</td>\n",
       "      <td>0.0</td>\n",
       "      <td>0.0</td>\n",
       "      <td>0.0</td>\n",
       "      <td>0.0</td>\n",
       "      <td>0.0</td>\n",
       "      <td>...</td>\n",
       "      <td>0.0</td>\n",
       "      <td>0.0</td>\n",
       "      <td>0.0</td>\n",
       "      <td>0.0</td>\n",
       "      <td>0.0</td>\n",
       "      <td>0.0</td>\n",
       "      <td>0.0</td>\n",
       "      <td>0.0</td>\n",
       "      <td>0.0</td>\n",
       "      <td>0.0</td>\n",
       "    </tr>\n",
       "    <tr>\n",
       "      <th>1</th>\n",
       "      <td>1</td>\n",
       "      <td>2016-01-03</td>\n",
       "      <td>23.0</td>\n",
       "      <td>11.0</td>\n",
       "      <td>18.0</td>\n",
       "      <td>16.0</td>\n",
       "      <td>14.0</td>\n",
       "      <td>22.0</td>\n",
       "      <td>2.0</td>\n",
       "      <td>0.0</td>\n",
       "      <td>...</td>\n",
       "      <td>17.0</td>\n",
       "      <td>1.0</td>\n",
       "      <td>14.0</td>\n",
       "      <td>10.0</td>\n",
       "      <td>6.0</td>\n",
       "      <td>51.0</td>\n",
       "      <td>16.0</td>\n",
       "      <td>13.0</td>\n",
       "      <td>1.0</td>\n",
       "      <td>0.0</td>\n",
       "    </tr>\n",
       "    <tr>\n",
       "      <th>2</th>\n",
       "      <td>2</td>\n",
       "      <td>2016-01-10</td>\n",
       "      <td>18.0</td>\n",
       "      <td>15.0</td>\n",
       "      <td>31.0</td>\n",
       "      <td>12.0</td>\n",
       "      <td>13.0</td>\n",
       "      <td>22.0</td>\n",
       "      <td>2.0</td>\n",
       "      <td>0.0</td>\n",
       "      <td>...</td>\n",
       "      <td>13.0</td>\n",
       "      <td>0.0</td>\n",
       "      <td>17.0</td>\n",
       "      <td>4.0</td>\n",
       "      <td>6.0</td>\n",
       "      <td>47.0</td>\n",
       "      <td>9.0</td>\n",
       "      <td>17.0</td>\n",
       "      <td>1.0</td>\n",
       "      <td>0.0</td>\n",
       "    </tr>\n",
       "    <tr>\n",
       "      <th>3</th>\n",
       "      <td>3</td>\n",
       "      <td>2016-01-17</td>\n",
       "      <td>15.0</td>\n",
       "      <td>11.0</td>\n",
       "      <td>23.0</td>\n",
       "      <td>13.0</td>\n",
       "      <td>7.0</td>\n",
       "      <td>26.0</td>\n",
       "      <td>3.0</td>\n",
       "      <td>0.0</td>\n",
       "      <td>...</td>\n",
       "      <td>11.0</td>\n",
       "      <td>0.0</td>\n",
       "      <td>17.0</td>\n",
       "      <td>5.0</td>\n",
       "      <td>6.0</td>\n",
       "      <td>41.0</td>\n",
       "      <td>7.0</td>\n",
       "      <td>14.0</td>\n",
       "      <td>2.0</td>\n",
       "      <td>0.0</td>\n",
       "    </tr>\n",
       "    <tr>\n",
       "      <th>4</th>\n",
       "      <td>4</td>\n",
       "      <td>2016-01-24</td>\n",
       "      <td>12.0</td>\n",
       "      <td>13.0</td>\n",
       "      <td>29.0</td>\n",
       "      <td>9.0</td>\n",
       "      <td>6.0</td>\n",
       "      <td>41.0</td>\n",
       "      <td>1.0</td>\n",
       "      <td>0.0</td>\n",
       "      <td>...</td>\n",
       "      <td>15.0</td>\n",
       "      <td>4.0</td>\n",
       "      <td>17.0</td>\n",
       "      <td>3.0</td>\n",
       "      <td>8.0</td>\n",
       "      <td>39.0</td>\n",
       "      <td>6.0</td>\n",
       "      <td>19.0</td>\n",
       "      <td>3.0</td>\n",
       "      <td>0.0</td>\n",
       "    </tr>\n",
       "  </tbody>\n",
       "</table>\n",
       "<p>5 rows × 52 columns</p>\n",
       "</div>"
      ],
      "text/plain": [
       "DMA  index      period  ABILENE, TX  ALEXANDRIA, LA  AMARILLO, TX  AUSTIN, TX  \\\n",
       "0        0  2015-12-27          1.0             0.0           0.0         0.0   \n",
       "1        1  2016-01-03         23.0            11.0          18.0        16.0   \n",
       "2        2  2016-01-10         18.0            15.0          31.0        12.0   \n",
       "3        3  2016-01-17         15.0            11.0          23.0        13.0   \n",
       "4        4  2016-01-24         12.0            13.0          29.0         9.0   \n",
       "\n",
       "DMA  BLUEFIELD-BECKLEY, WV  CHARLESTON-HUNTINGTON, WV  CLARKSBURG-WESTON, WV  \\\n",
       "0                      0.0                        0.0                    0.0   \n",
       "1                     14.0                       22.0                    2.0   \n",
       "2                     13.0                       22.0                    2.0   \n",
       "3                      7.0                       26.0                    3.0   \n",
       "4                      6.0                       41.0                    1.0   \n",
       "\n",
       "DMA  CLEVELAND, OH  ...  SHREVEPORT, LA  SPOKANE, WA  SPRINGFIELD, MO  \\\n",
       "0              0.0  ...             0.0          0.0              0.0   \n",
       "1              0.0  ...            17.0          1.0             14.0   \n",
       "2              0.0  ...            13.0          0.0             17.0   \n",
       "3              0.0  ...            11.0          0.0             17.0   \n",
       "4              0.0  ...            15.0          4.0             17.0   \n",
       "\n",
       "DMA  ST JOSEPH, MO  TULSA, OK  TYLER-LONGVIEW, TX  VICTORIA, TX  \\\n",
       "0              0.0        0.0                 0.0           0.0   \n",
       "1             10.0        6.0                51.0          16.0   \n",
       "2              4.0        6.0                47.0           9.0   \n",
       "3              5.0        6.0                41.0           7.0   \n",
       "4              3.0        8.0                39.0           6.0   \n",
       "\n",
       "DMA  WACO-TEMPLE, TX  WICHITA FALLS, TX - LAWTON, OK  WICHITA-HUTCHINSON, KS  \n",
       "0                0.0                             0.0                     0.0  \n",
       "1               13.0                             1.0                     0.0  \n",
       "2               17.0                             1.0                     0.0  \n",
       "3               14.0                             2.0                     0.0  \n",
       "4               19.0                             3.0                     0.0  \n",
       "\n",
       "[5 rows x 52 columns]"
      ]
     },
     "execution_count": 12,
     "metadata": {},
     "output_type": "execute_result"
    }
   ],
   "source": [
    "df_pivot.fillna(0,inplace = True)\n",
    "df_pivot.reset_index(inplace = True)\n",
    "df_pivot.head()"
   ]
  },
  {
   "cell_type": "code",
   "execution_count": 13,
   "metadata": {
    "ExecuteTime": {
     "end_time": "2021-07-07T19:50:56.256922Z",
     "start_time": "2021-07-07T19:50:56.248935Z"
    }
   },
   "outputs": [
    {
     "data": {
      "text/plain": [
       "Index(['index', 'period', 'ABILENE, TX', 'ALEXANDRIA, LA', 'AMARILLO, TX',\n",
       "       'AUSTIN, TX', 'BLUEFIELD-BECKLEY, WV', 'CHARLESTON-HUNTINGTON, WV',\n",
       "       'CLARKSBURG-WESTON, WV', 'CLEVELAND, OH', 'COLUMBIA-JEFFERSON CITY, MO',\n",
       "       'COLUMBUS, OH', 'DALLAS, TX', 'EUREKA, CA', 'FRESNO-VISALIA, CA',\n",
       "       'FT SMITH, AR', 'GREENVILLE-NEW BERN, NC', 'GREENWOOD-GREENVILLE, MS',\n",
       "       'HOUSTON, TX', 'JONESBORO, AR', 'JOPLIN, MO - PITTSBURG, KS',\n",
       "       'KANSAS CITY, MO', 'LAFAYETTE, LA', 'LAKE CHARLES, LA', 'LAS VEGAS, NV',\n",
       "       'LITTLE ROCK, AR', 'LOS ANGELES, CA', 'LUBBOCK, TX', 'MEMPHIS, TN',\n",
       "       'MONROE-ELDORADO, LA', 'MONTEREY-SALINAS, CA', 'NEW YORK, NY',\n",
       "       'ODESSA-MIDLAND, TX', 'OKLAHOMA CITY, OK', 'PALM SPRINGS, CA',\n",
       "       'PARKERSBERG, WV', 'PHOENIX, AZ', 'RALEIGH-DURHAM, NC', 'RENO, NV',\n",
       "       'SACRAMENTO, CA', 'SAN ANGELO, TX', 'SHERMAN-ADA, OK', 'SHREVEPORT, LA',\n",
       "       'SPOKANE, WA', 'SPRINGFIELD, MO', 'ST JOSEPH, MO', 'TULSA, OK',\n",
       "       'TYLER-LONGVIEW, TX', 'VICTORIA, TX', 'WACO-TEMPLE, TX',\n",
       "       'WICHITA FALLS, TX - LAWTON, OK', 'WICHITA-HUTCHINSON, KS'],\n",
       "      dtype='object', name='DMA')"
      ]
     },
     "execution_count": 13,
     "metadata": {},
     "output_type": "execute_result"
    }
   ],
   "source": [
    "df_pivot.columns"
   ]
  },
  {
   "cell_type": "code",
   "execution_count": 14,
   "metadata": {
    "ExecuteTime": {
     "end_time": "2021-07-07T19:50:56.283529Z",
     "start_time": "2021-07-07T19:50:56.257924Z"
    }
   },
   "outputs": [
    {
     "data": {
      "text/html": [
       "<div>\n",
       "<style scoped>\n",
       "    .dataframe tbody tr th:only-of-type {\n",
       "        vertical-align: middle;\n",
       "    }\n",
       "\n",
       "    .dataframe tbody tr th {\n",
       "        vertical-align: top;\n",
       "    }\n",
       "\n",
       "    .dataframe thead th {\n",
       "        text-align: right;\n",
       "    }\n",
       "</style>\n",
       "<table border=\"1\" class=\"dataframe\">\n",
       "  <thead>\n",
       "    <tr style=\"text-align: right;\">\n",
       "      <th>DMA</th>\n",
       "      <th>period</th>\n",
       "      <th>ABILENE, TX</th>\n",
       "      <th>ALEXANDRIA, LA</th>\n",
       "      <th>AMARILLO, TX</th>\n",
       "      <th>AUSTIN, TX</th>\n",
       "      <th>BLUEFIELD-BECKLEY, WV</th>\n",
       "      <th>CHARLESTON-HUNTINGTON, WV</th>\n",
       "      <th>CLARKSBURG-WESTON, WV</th>\n",
       "      <th>CLEVELAND, OH</th>\n",
       "      <th>COLUMBIA-JEFFERSON CITY, MO</th>\n",
       "      <th>...</th>\n",
       "      <th>SHREVEPORT, LA</th>\n",
       "      <th>SPOKANE, WA</th>\n",
       "      <th>SPRINGFIELD, MO</th>\n",
       "      <th>ST JOSEPH, MO</th>\n",
       "      <th>TULSA, OK</th>\n",
       "      <th>TYLER-LONGVIEW, TX</th>\n",
       "      <th>VICTORIA, TX</th>\n",
       "      <th>WACO-TEMPLE, TX</th>\n",
       "      <th>WICHITA FALLS, TX - LAWTON, OK</th>\n",
       "      <th>WICHITA-HUTCHINSON, KS</th>\n",
       "    </tr>\n",
       "  </thead>\n",
       "  <tbody>\n",
       "    <tr>\n",
       "      <th>0</th>\n",
       "      <td>2015-12-27</td>\n",
       "      <td>1.0</td>\n",
       "      <td>0.0</td>\n",
       "      <td>0.0</td>\n",
       "      <td>0.0</td>\n",
       "      <td>0.0</td>\n",
       "      <td>0.0</td>\n",
       "      <td>0.0</td>\n",
       "      <td>0.0</td>\n",
       "      <td>0.0</td>\n",
       "      <td>...</td>\n",
       "      <td>0.0</td>\n",
       "      <td>0.0</td>\n",
       "      <td>0.0</td>\n",
       "      <td>0.0</td>\n",
       "      <td>0.0</td>\n",
       "      <td>0.0</td>\n",
       "      <td>0.0</td>\n",
       "      <td>0.0</td>\n",
       "      <td>0.0</td>\n",
       "      <td>0.0</td>\n",
       "    </tr>\n",
       "    <tr>\n",
       "      <th>1</th>\n",
       "      <td>2016-01-03</td>\n",
       "      <td>23.0</td>\n",
       "      <td>11.0</td>\n",
       "      <td>18.0</td>\n",
       "      <td>16.0</td>\n",
       "      <td>14.0</td>\n",
       "      <td>22.0</td>\n",
       "      <td>2.0</td>\n",
       "      <td>0.0</td>\n",
       "      <td>1.0</td>\n",
       "      <td>...</td>\n",
       "      <td>17.0</td>\n",
       "      <td>1.0</td>\n",
       "      <td>14.0</td>\n",
       "      <td>10.0</td>\n",
       "      <td>6.0</td>\n",
       "      <td>51.0</td>\n",
       "      <td>16.0</td>\n",
       "      <td>13.0</td>\n",
       "      <td>1.0</td>\n",
       "      <td>0.0</td>\n",
       "    </tr>\n",
       "    <tr>\n",
       "      <th>2</th>\n",
       "      <td>2016-01-10</td>\n",
       "      <td>18.0</td>\n",
       "      <td>15.0</td>\n",
       "      <td>31.0</td>\n",
       "      <td>12.0</td>\n",
       "      <td>13.0</td>\n",
       "      <td>22.0</td>\n",
       "      <td>2.0</td>\n",
       "      <td>0.0</td>\n",
       "      <td>2.0</td>\n",
       "      <td>...</td>\n",
       "      <td>13.0</td>\n",
       "      <td>0.0</td>\n",
       "      <td>17.0</td>\n",
       "      <td>4.0</td>\n",
       "      <td>6.0</td>\n",
       "      <td>47.0</td>\n",
       "      <td>9.0</td>\n",
       "      <td>17.0</td>\n",
       "      <td>1.0</td>\n",
       "      <td>0.0</td>\n",
       "    </tr>\n",
       "    <tr>\n",
       "      <th>3</th>\n",
       "      <td>2016-01-17</td>\n",
       "      <td>15.0</td>\n",
       "      <td>11.0</td>\n",
       "      <td>23.0</td>\n",
       "      <td>13.0</td>\n",
       "      <td>7.0</td>\n",
       "      <td>26.0</td>\n",
       "      <td>3.0</td>\n",
       "      <td>0.0</td>\n",
       "      <td>0.0</td>\n",
       "      <td>...</td>\n",
       "      <td>11.0</td>\n",
       "      <td>0.0</td>\n",
       "      <td>17.0</td>\n",
       "      <td>5.0</td>\n",
       "      <td>6.0</td>\n",
       "      <td>41.0</td>\n",
       "      <td>7.0</td>\n",
       "      <td>14.0</td>\n",
       "      <td>2.0</td>\n",
       "      <td>0.0</td>\n",
       "    </tr>\n",
       "    <tr>\n",
       "      <th>4</th>\n",
       "      <td>2016-01-24</td>\n",
       "      <td>12.0</td>\n",
       "      <td>13.0</td>\n",
       "      <td>29.0</td>\n",
       "      <td>9.0</td>\n",
       "      <td>6.0</td>\n",
       "      <td>41.0</td>\n",
       "      <td>1.0</td>\n",
       "      <td>0.0</td>\n",
       "      <td>0.0</td>\n",
       "      <td>...</td>\n",
       "      <td>15.0</td>\n",
       "      <td>4.0</td>\n",
       "      <td>17.0</td>\n",
       "      <td>3.0</td>\n",
       "      <td>8.0</td>\n",
       "      <td>39.0</td>\n",
       "      <td>6.0</td>\n",
       "      <td>19.0</td>\n",
       "      <td>3.0</td>\n",
       "      <td>0.0</td>\n",
       "    </tr>\n",
       "  </tbody>\n",
       "</table>\n",
       "<p>5 rows × 51 columns</p>\n",
       "</div>"
      ],
      "text/plain": [
       "DMA      period  ABILENE, TX  ALEXANDRIA, LA  AMARILLO, TX  AUSTIN, TX  \\\n",
       "0    2015-12-27          1.0             0.0           0.0         0.0   \n",
       "1    2016-01-03         23.0            11.0          18.0        16.0   \n",
       "2    2016-01-10         18.0            15.0          31.0        12.0   \n",
       "3    2016-01-17         15.0            11.0          23.0        13.0   \n",
       "4    2016-01-24         12.0            13.0          29.0         9.0   \n",
       "\n",
       "DMA  BLUEFIELD-BECKLEY, WV  CHARLESTON-HUNTINGTON, WV  CLARKSBURG-WESTON, WV  \\\n",
       "0                      0.0                        0.0                    0.0   \n",
       "1                     14.0                       22.0                    2.0   \n",
       "2                     13.0                       22.0                    2.0   \n",
       "3                      7.0                       26.0                    3.0   \n",
       "4                      6.0                       41.0                    1.0   \n",
       "\n",
       "DMA  CLEVELAND, OH  COLUMBIA-JEFFERSON CITY, MO  ...  SHREVEPORT, LA  \\\n",
       "0              0.0                          0.0  ...             0.0   \n",
       "1              0.0                          1.0  ...            17.0   \n",
       "2              0.0                          2.0  ...            13.0   \n",
       "3              0.0                          0.0  ...            11.0   \n",
       "4              0.0                          0.0  ...            15.0   \n",
       "\n",
       "DMA  SPOKANE, WA  SPRINGFIELD, MO  ST JOSEPH, MO  TULSA, OK  \\\n",
       "0            0.0              0.0            0.0        0.0   \n",
       "1            1.0             14.0           10.0        6.0   \n",
       "2            0.0             17.0            4.0        6.0   \n",
       "3            0.0             17.0            5.0        6.0   \n",
       "4            4.0             17.0            3.0        8.0   \n",
       "\n",
       "DMA  TYLER-LONGVIEW, TX  VICTORIA, TX  WACO-TEMPLE, TX  \\\n",
       "0                   0.0           0.0              0.0   \n",
       "1                  51.0          16.0             13.0   \n",
       "2                  47.0           9.0             17.0   \n",
       "3                  41.0           7.0             14.0   \n",
       "4                  39.0           6.0             19.0   \n",
       "\n",
       "DMA  WICHITA FALLS, TX - LAWTON, OK  WICHITA-HUTCHINSON, KS  \n",
       "0                               0.0                     0.0  \n",
       "1                               1.0                     0.0  \n",
       "2                               1.0                     0.0  \n",
       "3                               2.0                     0.0  \n",
       "4                               3.0                     0.0  \n",
       "\n",
       "[5 rows x 51 columns]"
      ]
     },
     "execution_count": 14,
     "metadata": {},
     "output_type": "execute_result"
    }
   ],
   "source": [
    "df_pivot.drop(columns = ['index'], axis = 1, inplace = True)\n",
    "df_pivot.head()"
   ]
  },
  {
   "cell_type": "code",
   "execution_count": 15,
   "metadata": {
    "ExecuteTime": {
     "end_time": "2021-07-07T19:50:56.301133Z",
     "start_time": "2021-07-07T19:50:56.284497Z"
    },
    "scrolled": true
   },
   "outputs": [],
   "source": [
    "df_melt = pd.melt(df_pivot, id_vars=['period']).sort_values(by=['period'])"
   ]
  },
  {
   "cell_type": "code",
   "execution_count": 16,
   "metadata": {
    "ExecuteTime": {
     "end_time": "2021-07-07T19:50:56.311114Z",
     "start_time": "2021-07-07T19:50:56.302088Z"
    },
    "scrolled": true
   },
   "outputs": [
    {
     "data": {
      "text/html": [
       "<div>\n",
       "<style scoped>\n",
       "    .dataframe tbody tr th:only-of-type {\n",
       "        vertical-align: middle;\n",
       "    }\n",
       "\n",
       "    .dataframe tbody tr th {\n",
       "        vertical-align: top;\n",
       "    }\n",
       "\n",
       "    .dataframe thead th {\n",
       "        text-align: right;\n",
       "    }\n",
       "</style>\n",
       "<table border=\"1\" class=\"dataframe\">\n",
       "  <thead>\n",
       "    <tr style=\"text-align: right;\">\n",
       "      <th></th>\n",
       "      <th>period</th>\n",
       "      <th>DMA</th>\n",
       "      <th>value</th>\n",
       "    </tr>\n",
       "  </thead>\n",
       "  <tbody>\n",
       "    <tr>\n",
       "      <th>0</th>\n",
       "      <td>2015-12-27</td>\n",
       "      <td>ABILENE, TX</td>\n",
       "      <td>1.0</td>\n",
       "    </tr>\n",
       "    <tr>\n",
       "      <th>9590</th>\n",
       "      <td>2015-12-27</td>\n",
       "      <td>RALEIGH-DURHAM, NC</td>\n",
       "      <td>0.0</td>\n",
       "    </tr>\n",
       "    <tr>\n",
       "      <th>1370</th>\n",
       "      <td>2015-12-27</td>\n",
       "      <td>CHARLESTON-HUNTINGTON, WV</td>\n",
       "      <td>0.0</td>\n",
       "    </tr>\n",
       "    <tr>\n",
       "      <th>2192</th>\n",
       "      <td>2015-12-27</td>\n",
       "      <td>COLUMBIA-JEFFERSON CITY, MO</td>\n",
       "      <td>0.0</td>\n",
       "    </tr>\n",
       "    <tr>\n",
       "      <th>6302</th>\n",
       "      <td>2015-12-27</td>\n",
       "      <td>LITTLE ROCK, AR</td>\n",
       "      <td>0.0</td>\n",
       "    </tr>\n",
       "    <tr>\n",
       "      <th>...</th>\n",
       "      <td>...</td>\n",
       "      <td>...</td>\n",
       "      <td>...</td>\n",
       "    </tr>\n",
       "    <tr>\n",
       "      <th>7945</th>\n",
       "      <td>2021-03-21</td>\n",
       "      <td>MONTEREY-SALINAS, CA</td>\n",
       "      <td>1.0</td>\n",
       "    </tr>\n",
       "    <tr>\n",
       "      <th>7671</th>\n",
       "      <td>2021-03-21</td>\n",
       "      <td>MONROE-ELDORADO, LA</td>\n",
       "      <td>2.0</td>\n",
       "    </tr>\n",
       "    <tr>\n",
       "      <th>7397</th>\n",
       "      <td>2021-03-21</td>\n",
       "      <td>MEMPHIS, TN</td>\n",
       "      <td>0.0</td>\n",
       "    </tr>\n",
       "    <tr>\n",
       "      <th>6575</th>\n",
       "      <td>2021-03-21</td>\n",
       "      <td>LITTLE ROCK, AR</td>\n",
       "      <td>12.0</td>\n",
       "    </tr>\n",
       "    <tr>\n",
       "      <th>13699</th>\n",
       "      <td>2021-03-21</td>\n",
       "      <td>WICHITA-HUTCHINSON, KS</td>\n",
       "      <td>0.0</td>\n",
       "    </tr>\n",
       "  </tbody>\n",
       "</table>\n",
       "<p>13700 rows × 3 columns</p>\n",
       "</div>"
      ],
      "text/plain": [
       "           period                          DMA  value\n",
       "0      2015-12-27                  ABILENE, TX    1.0\n",
       "9590   2015-12-27           RALEIGH-DURHAM, NC    0.0\n",
       "1370   2015-12-27    CHARLESTON-HUNTINGTON, WV    0.0\n",
       "2192   2015-12-27  COLUMBIA-JEFFERSON CITY, MO    0.0\n",
       "6302   2015-12-27              LITTLE ROCK, AR    0.0\n",
       "...           ...                          ...    ...\n",
       "7945   2021-03-21         MONTEREY-SALINAS, CA    1.0\n",
       "7671   2021-03-21          MONROE-ELDORADO, LA    2.0\n",
       "7397   2021-03-21                  MEMPHIS, TN    0.0\n",
       "6575   2021-03-21              LITTLE ROCK, AR   12.0\n",
       "13699  2021-03-21       WICHITA-HUTCHINSON, KS    0.0\n",
       "\n",
       "[13700 rows x 3 columns]"
      ]
     },
     "execution_count": 16,
     "metadata": {},
     "output_type": "execute_result"
    }
   ],
   "source": [
    "df_melt"
   ]
  },
  {
   "cell_type": "code",
   "execution_count": 17,
   "metadata": {
    "ExecuteTime": {
     "end_time": "2021-07-07T19:50:56.325178Z",
     "start_time": "2021-07-07T19:50:56.312115Z"
    }
   },
   "outputs": [
    {
     "data": {
      "text/plain": [
       "array([50], dtype=int64)"
      ]
     },
     "execution_count": 17,
     "metadata": {},
     "output_type": "execute_result"
    }
   ],
   "source": [
    "df_melt.groupby('period').agg({'DMA':'count'})['DMA'].unique()"
   ]
  },
  {
   "cell_type": "code",
   "execution_count": 18,
   "metadata": {
    "ExecuteTime": {
     "end_time": "2021-07-07T19:50:56.335177Z",
     "start_time": "2021-07-07T19:50:56.326152Z"
    }
   },
   "outputs": [
    {
     "data": {
      "text/plain": [
       "(13700, 3)"
      ]
     },
     "execution_count": 18,
     "metadata": {},
     "output_type": "execute_result"
    }
   ],
   "source": [
    "df_melt.shape"
   ]
  },
  {
   "cell_type": "code",
   "execution_count": 19,
   "metadata": {
    "ExecuteTime": {
     "end_time": "2021-07-07T19:50:56.352254Z",
     "start_time": "2021-07-07T19:50:56.336180Z"
    },
    "scrolled": true
   },
   "outputs": [
    {
     "data": {
      "text/html": [
       "<div>\n",
       "<style scoped>\n",
       "    .dataframe tbody tr th:only-of-type {\n",
       "        vertical-align: middle;\n",
       "    }\n",
       "\n",
       "    .dataframe tbody tr th {\n",
       "        vertical-align: top;\n",
       "    }\n",
       "\n",
       "    .dataframe thead th {\n",
       "        text-align: right;\n",
       "    }\n",
       "</style>\n",
       "<table border=\"1\" class=\"dataframe\">\n",
       "  <thead>\n",
       "    <tr style=\"text-align: right;\">\n",
       "      <th></th>\n",
       "      <th>DMA</th>\n",
       "    </tr>\n",
       "    <tr>\n",
       "      <th>period</th>\n",
       "      <th></th>\n",
       "    </tr>\n",
       "  </thead>\n",
       "  <tbody>\n",
       "    <tr>\n",
       "      <th>2015-12-27</th>\n",
       "      <td>50</td>\n",
       "    </tr>\n",
       "    <tr>\n",
       "      <th>2016-01-03</th>\n",
       "      <td>50</td>\n",
       "    </tr>\n",
       "    <tr>\n",
       "      <th>2016-01-10</th>\n",
       "      <td>50</td>\n",
       "    </tr>\n",
       "    <tr>\n",
       "      <th>2016-01-17</th>\n",
       "      <td>50</td>\n",
       "    </tr>\n",
       "    <tr>\n",
       "      <th>2016-01-24</th>\n",
       "      <td>50</td>\n",
       "    </tr>\n",
       "    <tr>\n",
       "      <th>...</th>\n",
       "      <td>...</td>\n",
       "    </tr>\n",
       "    <tr>\n",
       "      <th>2021-02-21</th>\n",
       "      <td>50</td>\n",
       "    </tr>\n",
       "    <tr>\n",
       "      <th>2021-02-28</th>\n",
       "      <td>50</td>\n",
       "    </tr>\n",
       "    <tr>\n",
       "      <th>2021-03-07</th>\n",
       "      <td>50</td>\n",
       "    </tr>\n",
       "    <tr>\n",
       "      <th>2021-03-14</th>\n",
       "      <td>50</td>\n",
       "    </tr>\n",
       "    <tr>\n",
       "      <th>2021-03-21</th>\n",
       "      <td>50</td>\n",
       "    </tr>\n",
       "  </tbody>\n",
       "</table>\n",
       "<p>274 rows × 1 columns</p>\n",
       "</div>"
      ],
      "text/plain": [
       "            DMA\n",
       "period         \n",
       "2015-12-27   50\n",
       "2016-01-03   50\n",
       "2016-01-10   50\n",
       "2016-01-17   50\n",
       "2016-01-24   50\n",
       "...         ...\n",
       "2021-02-21   50\n",
       "2021-02-28   50\n",
       "2021-03-07   50\n",
       "2021-03-14   50\n",
       "2021-03-21   50\n",
       "\n",
       "[274 rows x 1 columns]"
      ]
     },
     "execution_count": 19,
     "metadata": {},
     "output_type": "execute_result"
    }
   ],
   "source": [
    "df_melt.groupby(['period']).agg({'DMA':'count'})"
   ]
  },
  {
   "cell_type": "markdown",
   "metadata": {},
   "source": [
    "### Reducing DMAs from 51 to 30"
   ]
  },
  {
   "cell_type": "code",
   "execution_count": 20,
   "metadata": {
    "ExecuteTime": {
     "end_time": "2021-07-07T19:50:56.365291Z",
     "start_time": "2021-07-07T19:50:56.353224Z"
    }
   },
   "outputs": [
    {
     "data": {
      "text/html": [
       "<div>\n",
       "<style scoped>\n",
       "    .dataframe tbody tr th:only-of-type {\n",
       "        vertical-align: middle;\n",
       "    }\n",
       "\n",
       "    .dataframe tbody tr th {\n",
       "        vertical-align: top;\n",
       "    }\n",
       "\n",
       "    .dataframe thead th {\n",
       "        text-align: right;\n",
       "    }\n",
       "</style>\n",
       "<table border=\"1\" class=\"dataframe\">\n",
       "  <thead>\n",
       "    <tr style=\"text-align: right;\">\n",
       "      <th></th>\n",
       "      <th>period</th>\n",
       "      <th>DMA</th>\n",
       "      <th>value</th>\n",
       "    </tr>\n",
       "  </thead>\n",
       "  <tbody>\n",
       "    <tr>\n",
       "      <th>0</th>\n",
       "      <td>2015-12-27</td>\n",
       "      <td>ABILENE, TX</td>\n",
       "      <td>1.0</td>\n",
       "    </tr>\n",
       "    <tr>\n",
       "      <th>9590</th>\n",
       "      <td>2015-12-27</td>\n",
       "      <td>RALEIGH-DURHAM, NC</td>\n",
       "      <td>0.0</td>\n",
       "    </tr>\n",
       "    <tr>\n",
       "      <th>1370</th>\n",
       "      <td>2015-12-27</td>\n",
       "      <td>CHARLESTON-HUNTINGTON, WV</td>\n",
       "      <td>0.0</td>\n",
       "    </tr>\n",
       "    <tr>\n",
       "      <th>2192</th>\n",
       "      <td>2015-12-27</td>\n",
       "      <td>COLUMBIA-JEFFERSON CITY, MO</td>\n",
       "      <td>0.0</td>\n",
       "    </tr>\n",
       "    <tr>\n",
       "      <th>6302</th>\n",
       "      <td>2015-12-27</td>\n",
       "      <td>LITTLE ROCK, AR</td>\n",
       "      <td>0.0</td>\n",
       "    </tr>\n",
       "  </tbody>\n",
       "</table>\n",
       "</div>"
      ],
      "text/plain": [
       "          period                          DMA  value\n",
       "0     2015-12-27                  ABILENE, TX    1.0\n",
       "9590  2015-12-27           RALEIGH-DURHAM, NC    0.0\n",
       "1370  2015-12-27    CHARLESTON-HUNTINGTON, WV    0.0\n",
       "2192  2015-12-27  COLUMBIA-JEFFERSON CITY, MO    0.0\n",
       "6302  2015-12-27              LITTLE ROCK, AR    0.0"
      ]
     },
     "execution_count": 20,
     "metadata": {},
     "output_type": "execute_result"
    }
   ],
   "source": [
    "df_melt.head()"
   ]
  },
  {
   "cell_type": "code",
   "execution_count": 21,
   "metadata": {
    "ExecuteTime": {
     "end_time": "2021-07-07T19:50:56.376836Z",
     "start_time": "2021-07-07T19:50:56.366259Z"
    }
   },
   "outputs": [
    {
     "data": {
      "text/plain": [
       "22"
      ]
     },
     "execution_count": 21,
     "metadata": {},
     "output_type": "execute_result"
    }
   ],
   "source": [
    "DMA_to_merge = ['GREENWOOD-GREENVILLE, MS','SACRAMENTO, CA','CLARKSBURG-WESTON, WV','KANSAS CITY, MO','PALM SPRINGS, CA',\n",
    "                'WICHITA FALLS, TX - LAWTON, OK','JOPLIN, MO - PITTSBURG, KS','RENO, NV','LOS ANGELES, CA','MEMPHIS, TN',\n",
    "                'LAFAYETTE, LA','LAS VEGAS, NV','CLEVELAND, OH','COLUMBIA-JEFFERSON CITY, MO','FT SMITH, AR','MONTEREY-SALINAS, CA',\n",
    "                'SPOKANE, WA','COLUMBUS, OH','SHERMAN-ADA, OK','SAN ANTONIO, TX','WICHITA-HUTCHINSON, KS','FRESNO-VISALIA, CA']\n",
    "len(DMA_to_merge)"
   ]
  },
  {
   "cell_type": "code",
   "execution_count": 22,
   "metadata": {
    "ExecuteTime": {
     "end_time": "2021-07-07T19:50:56.397878Z",
     "start_time": "2021-07-07T19:50:56.378323Z"
    }
   },
   "outputs": [
    {
     "name": "stdout",
     "output_type": "stream",
     "text": [
      "(5754, 3)\n",
      "(7946, 3)\n"
     ]
    }
   ],
   "source": [
    "df_to_reduce = df_melt[df_melt['DMA'].isin(DMA_to_merge)]\n",
    "df_to_remain = df_melt[~df_melt['DMA'].isin(DMA_to_merge)]\n",
    "\n",
    "print(df_to_reduce.shape)\n",
    "print(df_to_remain.shape)"
   ]
  },
  {
   "cell_type": "code",
   "execution_count": 23,
   "metadata": {
    "ExecuteTime": {
     "end_time": "2021-07-07T19:50:56.404896Z",
     "start_time": "2021-07-07T19:50:56.400884Z"
    }
   },
   "outputs": [
    {
     "data": {
      "text/plain": [
       "Index(['period', 'DMA', 'value'], dtype='object')"
      ]
     },
     "execution_count": 23,
     "metadata": {},
     "output_type": "execute_result"
    }
   ],
   "source": [
    "df_to_reduce.columns"
   ]
  },
  {
   "cell_type": "code",
   "execution_count": 24,
   "metadata": {
    "ExecuteTime": {
     "end_time": "2021-07-07T19:50:56.417976Z",
     "start_time": "2021-07-07T19:50:56.405897Z"
    }
   },
   "outputs": [],
   "source": [
    "cols_for_addition = ['period', 'value']\n",
    "\n",
    "df_to_sum = df_to_reduce[cols_for_addition]\n",
    "dfsum = df_to_sum.groupby(['period']).sum().reset_index()"
   ]
  },
  {
   "cell_type": "code",
   "execution_count": 25,
   "metadata": {
    "ExecuteTime": {
     "end_time": "2021-07-07T19:50:56.434004Z",
     "start_time": "2021-07-07T19:50:56.418932Z"
    },
    "scrolled": true
   },
   "outputs": [
    {
     "data": {
      "text/html": [
       "<div>\n",
       "<style scoped>\n",
       "    .dataframe tbody tr th:only-of-type {\n",
       "        vertical-align: middle;\n",
       "    }\n",
       "\n",
       "    .dataframe tbody tr th {\n",
       "        vertical-align: top;\n",
       "    }\n",
       "\n",
       "    .dataframe thead th {\n",
       "        text-align: right;\n",
       "    }\n",
       "</style>\n",
       "<table border=\"1\" class=\"dataframe\">\n",
       "  <thead>\n",
       "    <tr style=\"text-align: right;\">\n",
       "      <th></th>\n",
       "      <th>period</th>\n",
       "      <th>value</th>\n",
       "    </tr>\n",
       "  </thead>\n",
       "  <tbody>\n",
       "    <tr>\n",
       "      <th>0</th>\n",
       "      <td>2015-12-27</td>\n",
       "      <td>0.0</td>\n",
       "    </tr>\n",
       "    <tr>\n",
       "      <th>1</th>\n",
       "      <td>2016-01-03</td>\n",
       "      <td>36.0</td>\n",
       "    </tr>\n",
       "    <tr>\n",
       "      <th>2</th>\n",
       "      <td>2016-01-10</td>\n",
       "      <td>32.0</td>\n",
       "    </tr>\n",
       "    <tr>\n",
       "      <th>3</th>\n",
       "      <td>2016-01-17</td>\n",
       "      <td>27.0</td>\n",
       "    </tr>\n",
       "    <tr>\n",
       "      <th>4</th>\n",
       "      <td>2016-01-24</td>\n",
       "      <td>43.0</td>\n",
       "    </tr>\n",
       "    <tr>\n",
       "      <th>...</th>\n",
       "      <td>...</td>\n",
       "      <td>...</td>\n",
       "    </tr>\n",
       "    <tr>\n",
       "      <th>269</th>\n",
       "      <td>2021-02-21</td>\n",
       "      <td>19.0</td>\n",
       "    </tr>\n",
       "    <tr>\n",
       "      <th>270</th>\n",
       "      <td>2021-02-28</td>\n",
       "      <td>33.0</td>\n",
       "    </tr>\n",
       "    <tr>\n",
       "      <th>271</th>\n",
       "      <td>2021-03-07</td>\n",
       "      <td>25.0</td>\n",
       "    </tr>\n",
       "    <tr>\n",
       "      <th>272</th>\n",
       "      <td>2021-03-14</td>\n",
       "      <td>30.0</td>\n",
       "    </tr>\n",
       "    <tr>\n",
       "      <th>273</th>\n",
       "      <td>2021-03-21</td>\n",
       "      <td>24.0</td>\n",
       "    </tr>\n",
       "  </tbody>\n",
       "</table>\n",
       "<p>274 rows × 2 columns</p>\n",
       "</div>"
      ],
      "text/plain": [
       "         period  value\n",
       "0    2015-12-27    0.0\n",
       "1    2016-01-03   36.0\n",
       "2    2016-01-10   32.0\n",
       "3    2016-01-17   27.0\n",
       "4    2016-01-24   43.0\n",
       "..          ...    ...\n",
       "269  2021-02-21   19.0\n",
       "270  2021-02-28   33.0\n",
       "271  2021-03-07   25.0\n",
       "272  2021-03-14   30.0\n",
       "273  2021-03-21   24.0\n",
       "\n",
       "[274 rows x 2 columns]"
      ]
     },
     "execution_count": 25,
     "metadata": {},
     "output_type": "execute_result"
    }
   ],
   "source": [
    "dfsum"
   ]
  },
  {
   "cell_type": "code",
   "execution_count": 26,
   "metadata": {
    "ExecuteTime": {
     "end_time": "2021-07-07T19:50:56.444000Z",
     "start_time": "2021-07-07T19:50:56.434975Z"
    }
   },
   "outputs": [
    {
     "data": {
      "text/plain": [
       "(274, 3)"
      ]
     },
     "execution_count": 26,
     "metadata": {},
     "output_type": "execute_result"
    }
   ],
   "source": [
    "dfsum['DMA'] = 'ALL OTHER SUDDENLINK DMA TOTAL'\n",
    "dfsum.shape"
   ]
  },
  {
   "cell_type": "code",
   "execution_count": 27,
   "metadata": {
    "ExecuteTime": {
     "end_time": "2021-07-07T19:50:56.459040Z",
     "start_time": "2021-07-07T19:50:56.445001Z"
    }
   },
   "outputs": [
    {
     "data": {
      "text/html": [
       "<div>\n",
       "<style scoped>\n",
       "    .dataframe tbody tr th:only-of-type {\n",
       "        vertical-align: middle;\n",
       "    }\n",
       "\n",
       "    .dataframe tbody tr th {\n",
       "        vertical-align: top;\n",
       "    }\n",
       "\n",
       "    .dataframe thead th {\n",
       "        text-align: right;\n",
       "    }\n",
       "</style>\n",
       "<table border=\"1\" class=\"dataframe\">\n",
       "  <thead>\n",
       "    <tr style=\"text-align: right;\">\n",
       "      <th></th>\n",
       "      <th>period</th>\n",
       "      <th>value</th>\n",
       "      <th>DMA</th>\n",
       "    </tr>\n",
       "  </thead>\n",
       "  <tbody>\n",
       "    <tr>\n",
       "      <th>0</th>\n",
       "      <td>2015-12-27</td>\n",
       "      <td>0.0</td>\n",
       "      <td>ALL OTHER SUDDENLINK DMA TOTAL</td>\n",
       "    </tr>\n",
       "    <tr>\n",
       "      <th>1</th>\n",
       "      <td>2016-01-03</td>\n",
       "      <td>36.0</td>\n",
       "      <td>ALL OTHER SUDDENLINK DMA TOTAL</td>\n",
       "    </tr>\n",
       "    <tr>\n",
       "      <th>2</th>\n",
       "      <td>2016-01-10</td>\n",
       "      <td>32.0</td>\n",
       "      <td>ALL OTHER SUDDENLINK DMA TOTAL</td>\n",
       "    </tr>\n",
       "    <tr>\n",
       "      <th>3</th>\n",
       "      <td>2016-01-17</td>\n",
       "      <td>27.0</td>\n",
       "      <td>ALL OTHER SUDDENLINK DMA TOTAL</td>\n",
       "    </tr>\n",
       "    <tr>\n",
       "      <th>4</th>\n",
       "      <td>2016-01-24</td>\n",
       "      <td>43.0</td>\n",
       "      <td>ALL OTHER SUDDENLINK DMA TOTAL</td>\n",
       "    </tr>\n",
       "  </tbody>\n",
       "</table>\n",
       "</div>"
      ],
      "text/plain": [
       "       period  value                             DMA\n",
       "0  2015-12-27    0.0  ALL OTHER SUDDENLINK DMA TOTAL\n",
       "1  2016-01-03   36.0  ALL OTHER SUDDENLINK DMA TOTAL\n",
       "2  2016-01-10   32.0  ALL OTHER SUDDENLINK DMA TOTAL\n",
       "3  2016-01-17   27.0  ALL OTHER SUDDENLINK DMA TOTAL\n",
       "4  2016-01-24   43.0  ALL OTHER SUDDENLINK DMA TOTAL"
      ]
     },
     "execution_count": 27,
     "metadata": {},
     "output_type": "execute_result"
    }
   ],
   "source": [
    "dfsum.head()"
   ]
  },
  {
   "cell_type": "code",
   "execution_count": 28,
   "metadata": {
    "ExecuteTime": {
     "end_time": "2021-07-07T19:50:56.473078Z",
     "start_time": "2021-07-07T19:50:56.460042Z"
    }
   },
   "outputs": [
    {
     "data": {
      "text/plain": [
       "(8220, 3)"
      ]
     },
     "execution_count": 28,
     "metadata": {},
     "output_type": "execute_result"
    }
   ],
   "source": [
    "df_full = pd.concat([df_to_remain, dfsum])\n",
    "df_full.shape"
   ]
  },
  {
   "cell_type": "code",
   "execution_count": 29,
   "metadata": {
    "ExecuteTime": {
     "end_time": "2021-07-07T19:50:56.487661Z",
     "start_time": "2021-07-07T19:50:56.474084Z"
    }
   },
   "outputs": [
    {
     "data": {
      "text/html": [
       "<div>\n",
       "<style scoped>\n",
       "    .dataframe tbody tr th:only-of-type {\n",
       "        vertical-align: middle;\n",
       "    }\n",
       "\n",
       "    .dataframe tbody tr th {\n",
       "        vertical-align: top;\n",
       "    }\n",
       "\n",
       "    .dataframe thead th {\n",
       "        text-align: right;\n",
       "    }\n",
       "</style>\n",
       "<table border=\"1\" class=\"dataframe\">\n",
       "  <thead>\n",
       "    <tr style=\"text-align: right;\">\n",
       "      <th></th>\n",
       "      <th>period</th>\n",
       "      <th>DMA</th>\n",
       "      <th>value</th>\n",
       "    </tr>\n",
       "  </thead>\n",
       "  <tbody>\n",
       "    <tr>\n",
       "      <th>0</th>\n",
       "      <td>2015-12-27</td>\n",
       "      <td>ABILENE, TX</td>\n",
       "      <td>1.0</td>\n",
       "    </tr>\n",
       "    <tr>\n",
       "      <th>9590</th>\n",
       "      <td>2015-12-27</td>\n",
       "      <td>RALEIGH-DURHAM, NC</td>\n",
       "      <td>0.0</td>\n",
       "    </tr>\n",
       "    <tr>\n",
       "      <th>1370</th>\n",
       "      <td>2015-12-27</td>\n",
       "      <td>CHARLESTON-HUNTINGTON, WV</td>\n",
       "      <td>0.0</td>\n",
       "    </tr>\n",
       "    <tr>\n",
       "      <th>6302</th>\n",
       "      <td>2015-12-27</td>\n",
       "      <td>LITTLE ROCK, AR</td>\n",
       "      <td>0.0</td>\n",
       "    </tr>\n",
       "    <tr>\n",
       "      <th>4384</th>\n",
       "      <td>2015-12-27</td>\n",
       "      <td>HOUSTON, TX</td>\n",
       "      <td>1.0</td>\n",
       "    </tr>\n",
       "  </tbody>\n",
       "</table>\n",
       "</div>"
      ],
      "text/plain": [
       "          period                        DMA  value\n",
       "0     2015-12-27                ABILENE, TX    1.0\n",
       "9590  2015-12-27         RALEIGH-DURHAM, NC    0.0\n",
       "1370  2015-12-27  CHARLESTON-HUNTINGTON, WV    0.0\n",
       "6302  2015-12-27            LITTLE ROCK, AR    0.0\n",
       "4384  2015-12-27                HOUSTON, TX    1.0"
      ]
     },
     "execution_count": 29,
     "metadata": {},
     "output_type": "execute_result"
    }
   ],
   "source": [
    "df_full.head()"
   ]
  },
  {
   "cell_type": "code",
   "execution_count": 30,
   "metadata": {
    "ExecuteTime": {
     "end_time": "2021-07-07T19:50:56.503721Z",
     "start_time": "2021-07-07T19:50:56.488624Z"
    }
   },
   "outputs": [
    {
     "data": {
      "text/html": [
       "<div>\n",
       "<style scoped>\n",
       "    .dataframe tbody tr th:only-of-type {\n",
       "        vertical-align: middle;\n",
       "    }\n",
       "\n",
       "    .dataframe tbody tr th {\n",
       "        vertical-align: top;\n",
       "    }\n",
       "\n",
       "    .dataframe thead th {\n",
       "        text-align: right;\n",
       "    }\n",
       "</style>\n",
       "<table border=\"1\" class=\"dataframe\">\n",
       "  <thead>\n",
       "    <tr style=\"text-align: right;\">\n",
       "      <th></th>\n",
       "      <th>period</th>\n",
       "      <th>dma</th>\n",
       "      <th>gross_add</th>\n",
       "    </tr>\n",
       "  </thead>\n",
       "  <tbody>\n",
       "    <tr>\n",
       "      <th>0</th>\n",
       "      <td>2015-12-27</td>\n",
       "      <td>ABILENE, TX</td>\n",
       "      <td>1.0</td>\n",
       "    </tr>\n",
       "    <tr>\n",
       "      <th>9590</th>\n",
       "      <td>2015-12-27</td>\n",
       "      <td>RALEIGH-DURHAM, NC</td>\n",
       "      <td>0.0</td>\n",
       "    </tr>\n",
       "    <tr>\n",
       "      <th>1370</th>\n",
       "      <td>2015-12-27</td>\n",
       "      <td>CHARLESTON-HUNTINGTON, WV</td>\n",
       "      <td>0.0</td>\n",
       "    </tr>\n",
       "    <tr>\n",
       "      <th>6302</th>\n",
       "      <td>2015-12-27</td>\n",
       "      <td>LITTLE ROCK, AR</td>\n",
       "      <td>0.0</td>\n",
       "    </tr>\n",
       "    <tr>\n",
       "      <th>4384</th>\n",
       "      <td>2015-12-27</td>\n",
       "      <td>HOUSTON, TX</td>\n",
       "      <td>1.0</td>\n",
       "    </tr>\n",
       "  </tbody>\n",
       "</table>\n",
       "</div>"
      ],
      "text/plain": [
       "          period                        dma  gross_add\n",
       "0     2015-12-27                ABILENE, TX        1.0\n",
       "9590  2015-12-27         RALEIGH-DURHAM, NC        0.0\n",
       "1370  2015-12-27  CHARLESTON-HUNTINGTON, WV        0.0\n",
       "6302  2015-12-27            LITTLE ROCK, AR        0.0\n",
       "4384  2015-12-27                HOUSTON, TX        1.0"
      ]
     },
     "execution_count": 30,
     "metadata": {},
     "output_type": "execute_result"
    }
   ],
   "source": [
    "df_full.rename(columns = {'value':'gross_add','DMA':'dma'}, inplace = True)\n",
    "df_full.head()"
   ]
  },
  {
   "cell_type": "code",
   "execution_count": 31,
   "metadata": {
    "ExecuteTime": {
     "end_time": "2021-07-07T19:50:56.536813Z",
     "start_time": "2021-07-07T19:50:56.504724Z"
    }
   },
   "outputs": [],
   "source": [
    "df_full[['period','dma','gross_add']].to_csv('Data/B2B_GA_2016_2021_30_DMAs.csv',index = False)"
   ]
  }
 ],
 "metadata": {
  "kernelspec": {
   "display_name": "Python 3",
   "language": "python",
   "name": "python3"
  },
  "language_info": {
   "codemirror_mode": {
    "name": "ipython",
    "version": 3
   },
   "file_extension": ".py",
   "mimetype": "text/x-python",
   "name": "python",
   "nbconvert_exporter": "python",
   "pygments_lexer": "ipython3",
   "version": "3.7.6"
  },
  "toc": {
   "base_numbering": 1,
   "nav_menu": {},
   "number_sections": true,
   "sideBar": true,
   "skip_h1_title": false,
   "title_cell": "Table of Contents",
   "title_sidebar": "Contents",
   "toc_cell": false,
   "toc_position": {
    "height": "calc(100% - 180px)",
    "left": "10px",
    "top": "150px",
    "width": "303.542px"
   },
   "toc_section_display": true,
   "toc_window_display": true
  }
 },
 "nbformat": 4,
 "nbformat_minor": 2
}
